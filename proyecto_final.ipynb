{
  "cells": [
    {
      "cell_type": "markdown",
      "metadata": {
        "id": "N4Lue1QcB3PV"
      },
      "source": [
        "**Instituto Data Science Argentina**\n",
        "\n",
        "Diplomatura en Ciencia de Datos con R y Python\n",
        "\n",
        "Alumna: Verónica González\n",
        "\n",
        "**Proyecto final: Text mining para el análisis de reseñas de productos**"
      ]
    },
    {
      "cell_type": "markdown",
      "metadata": {
        "id": "JxoYPgIcj5M2"
      },
      "source": [
        "**Problema:**\n",
        "Una empresa dedicada a la venta online de suplementos nutricionales se propone comprender a fondo la opinión de sus clientes, especialmente aquellos que expresaron insatisfacción con sus compras. Este aspecto es crucial, ya que las críticas negativas pueden traducirse en pérdidas económicas significativas.\n",
        "\n",
        "**Objetivo:**\n",
        "El objetivo principal es utilizar la información extraída de las reseñas para mejorar la experiencia de compra de los clientes. La intención es evitar la pérdida de clientes existentes y, si es posible, recuperar a aquellos que se han perdido.\n",
        "\n",
        "**Hipótesis:**\n",
        "Se plantea la hipótesis de que la puntuación en estrellas de una reseña se puede predecir a partir del título de la misma. Además, se postula que identificar las palabras más frecuentes en las reseñas negativas proporcionará insights valiosos sobre los aspectos que requieren mejoras.\n",
        "\n",
        "**Metodología:**\n",
        "1. Para la obtención del dataset, se llevó a cabo un proceso de web scraping para recopilar un conjunto de datos que incluye todas las reseñas de la empresa publicadas en Trustpilot. Para esto, se emplearon las bibliotecas requests, BeautifulSoup, time y pandas.\n",
        "2. EDA y preprocesamiento de los datos\n",
        "3. Modelado y evaluación de algoritmos de machine learning\n",
        "4. Evaluación de palabras más frecuentes por categoría de estrellas\n",
        "\n",
        "\n"
      ]
    },
    {
      "cell_type": "code",
      "execution_count": 1,
      "metadata": {
        "id": "g0LuXxuVaIxs",
        "outputId": "96d80cad-4bfb-4296-cc71-fac238d76ece"
      },
      "outputs": [
        {
          "name": "stdout",
          "output_type": "stream",
          "text": [
            "\u001b[38;5;2m✔ Download and installation successful\u001b[0m\n",
            "You can now load the package via spacy.load('es_core_news_sm')\n"
          ]
        }
      ],
      "source": [
        "# Bibliotecas utilizadas\n",
        "import pandas as pd\n",
        "import numpy as np\n",
        "import matplotlib.pyplot as plt\n",
        "\n",
        "\n",
        "## Pre procesamiento\n",
        "import re\n",
        "from sklearn.preprocessing import LabelEncoder\n",
        "from sklearn.model_selection import train_test_split\n",
        "from scipy.sparse import csr_matrix  \n",
        "from sklearn.feature_extraction.text import TfidfVectorizer, CountVectorizer\n",
        "import spacy\n",
        "spacy.cli.download(\"es_core_news_sm\")\n",
        "\n",
        "## Balanceo de clases\n",
        "from imblearn.over_sampling import RandomOverSampler\n",
        "from imblearn.over_sampling import SMOTE\n",
        "\n",
        "## Bayes Ingenuo\n",
        "from sklearn.naive_bayes import BernoulliNB as BernoulliNB_sk\n",
        "from sklearn.naive_bayes import MultinomialNB as MultinomialNB_sk\n",
        "from sklearn.naive_bayes import ComplementNB as ComplementNB_sk\n",
        "\n",
        "## Redes Neuronales\n",
        "import tensorflow as tf\n",
        "from tensorflow import keras\n",
        "from tensorflow.keras.callbacks import EarlyStopping\n",
        "\n",
        "## Regresión Logística\n",
        "from sklearn.linear_model import LogisticRegression\n",
        "\n",
        "## Evaluación de modelos e Informes \n",
        "from scipy.sparse import csr_matrix  # crea matriz dispersa\n",
        "from sklearn.metrics import confusion_matrix\n",
        "from sklearn.metrics import classification_report\n",
        "\n",
        "## Nube de palabras y palabras + frecuentes\n",
        "from wordcloud import WordCloud\n",
        "from plotly.subplots import make_subplots\n",
        "import plotly.graph_objects as go\n",
        "from collections import Counter\n",
        "\n",
        "import warnings\n",
        "warnings.filterwarnings(\"ignore\")\n"
      ]
    },
    {
      "cell_type": "code",
      "execution_count": 2,
      "metadata": {
        "id": "51o-Ui83mj9D"
      },
      "outputs": [],
      "source": [
        "#Archivo con reseñas. Cargar archivo Reviews.xlsx\n",
        "#from google.colab import files\n",
        "\n",
        "#uploaded = files.upload()"
      ]
    },
    {
      "cell_type": "code",
      "execution_count": 3,
      "metadata": {
        "id": "rY1i7v0_s_1T"
      },
      "outputs": [],
      "source": [
        "#archivo con stop words en español. Cargar archivo spanish.txt\n",
        "#from google.colab import files\n",
        "\n",
        "#uploaded = files.upload()"
      ]
    },
    {
      "cell_type": "code",
      "execution_count": 4,
      "metadata": {
        "id": "PeAB1eeKFQUn"
      },
      "outputs": [],
      "source": [
        "datos = \"C:/Users/veron/Documents/DCD 2022/Proyecto Final/Reviews.xlsx\"\n",
        "spanish = \"C:/Users/veron/Documents/DCD 2022/Proyecto Final/spanish.txt\""
      ]
    },
    {
      "cell_type": "code",
      "execution_count": 5,
      "metadata": {
        "id": "gAGZlvemDswO"
      },
      "outputs": [],
      "source": [
        "df = pd.read_excel(datos)"
      ]
    },
    {
      "cell_type": "markdown",
      "metadata": {
        "id": "uDn9QyKFbv2-"
      },
      "source": [
        "# 1. Pre procesamiento y EDA\n"
      ]
    },
    {
      "cell_type": "code",
      "execution_count": 6,
      "metadata": {
        "colab": {
          "base_uri": "https://localhost:8080/"
        },
        "id": "-nFN5YdXqeC0",
        "outputId": "5a860a60-9687-40ee-bd12-9fdf2c2c3c94"
      },
      "outputs": [
        {
          "name": "stdout",
          "output_type": "stream",
          "text": [
            "<class 'pandas.core.frame.DataFrame'>\n",
            "RangeIndex: 14020 entries, 0 to 14019\n",
            "Data columns (total 8 columns):\n",
            " #   Column                 Non-Null Count  Dtype         \n",
            "---  ------                 --------------  -----         \n",
            " 0   Nombre                 14020 non-null  object        \n",
            " 1   Título                 14020 non-null  object        \n",
            " 2   Reseña                 14020 non-null  object        \n",
            " 3   Cantidad de Opiniones  14020 non-null  object        \n",
            " 4   Estrellas              14020 non-null  object        \n",
            " 5   País                   14020 non-null  object        \n",
            " 6   Fecha Reseña           14020 non-null  datetime64[ns]\n",
            " 7   Verificada             14020 non-null  object        \n",
            "dtypes: datetime64[ns](1), object(7)\n",
            "memory usage: 876.4+ KB\n"
          ]
        }
      ],
      "source": [
        "df.info()"
      ]
    },
    {
      "cell_type": "code",
      "execution_count": 7,
      "metadata": {
        "colab": {
          "base_uri": "https://localhost:8080/"
        },
        "id": "oTRfjq_q36Zx",
        "outputId": "761c3c2b-d039-48ae-df70-ef6e6f4de23f"
      },
      "outputs": [
        {
          "data": {
            "text/plain": [
              "Nombre                   0.0\n",
              "Título                   0.0\n",
              "Reseña                   0.0\n",
              "Cantidad de Opiniones    0.0\n",
              "Estrellas                0.0\n",
              "País                     0.0\n",
              "Fecha Reseña             0.0\n",
              "Verificada               0.0\n",
              "dtype: float64"
            ]
          },
          "execution_count": 7,
          "metadata": {},
          "output_type": "execute_result"
        }
      ],
      "source": [
        "df.isnull().mean()"
      ]
    },
    {
      "cell_type": "code",
      "execution_count": 8,
      "metadata": {
        "colab": {
          "base_uri": "https://localhost:8080/",
          "height": 327
        },
        "id": "T6h5pxWTx850",
        "outputId": "5f0a3f9f-6a96-44b6-e44c-1853bfbedcd5"
      },
      "outputs": [
        {
          "data": {
            "text/html": [
              "<div>\n",
              "<style scoped>\n",
              "    .dataframe tbody tr th:only-of-type {\n",
              "        vertical-align: middle;\n",
              "    }\n",
              "\n",
              "    .dataframe tbody tr th {\n",
              "        vertical-align: top;\n",
              "    }\n",
              "\n",
              "    .dataframe thead th {\n",
              "        text-align: right;\n",
              "    }\n",
              "</style>\n",
              "<table border=\"1\" class=\"dataframe\">\n",
              "  <thead>\n",
              "    <tr style=\"text-align: right;\">\n",
              "      <th></th>\n",
              "      <th>Nombre</th>\n",
              "      <th>Título</th>\n",
              "      <th>Reseña</th>\n",
              "      <th>Cantidad de Opiniones</th>\n",
              "      <th>Estrellas</th>\n",
              "      <th>País</th>\n",
              "      <th>Fecha Reseña</th>\n",
              "      <th>Verificada</th>\n",
              "    </tr>\n",
              "  </thead>\n",
              "  <tbody>\n",
              "    <tr>\n",
              "      <th>0</th>\n",
              "      <td>Jose Gallardo</td>\n",
              "      <td>Mejor comprar desde la página oficial</td>\n",
              "      <td>Mucho más informativa y ordenada que la página...</td>\n",
              "      <td>1 opinión</td>\n",
              "      <td>&lt;div class=\"star-rating_starRating__4rrcf star...</td>\n",
              "      <td>ES</td>\n",
              "      <td>2023-10-12</td>\n",
              "      <td>No disponible</td>\n",
              "    </tr>\n",
              "    <tr>\n",
              "      <th>1</th>\n",
              "      <td>cliente</td>\n",
              "      <td>Como puede ser que sin previo aviso…</td>\n",
              "      <td>Como puede ser que sin previo aviso dejéis de ...</td>\n",
              "      <td>4 opiniones</td>\n",
              "      <td>&lt;div class=\"star-rating_starRating__4rrcf star...</td>\n",
              "      <td>ES</td>\n",
              "      <td>2023-10-05</td>\n",
              "      <td>Verificada</td>\n",
              "    </tr>\n",
              "    <tr>\n",
              "      <th>2</th>\n",
              "      <td>Jose antonio García llorente</td>\n",
              "      <td>Los precios son los mejores y la…</td>\n",
              "      <td>Los precios son los mejores y la calidad, pues...</td>\n",
              "      <td>2 opiniones</td>\n",
              "      <td>&lt;div class=\"star-rating_starRating__4rrcf star...</td>\n",
              "      <td>ES</td>\n",
              "      <td>2023-10-14</td>\n",
              "      <td>No disponible</td>\n",
              "    </tr>\n",
              "    <tr>\n",
              "      <th>3</th>\n",
              "      <td>Mariló Andrade</td>\n",
              "      <td>Buena relación calidad precio y rápida entrega</td>\n",
              "      <td>Buenísima relación calidad precio y la entrega...</td>\n",
              "      <td>2 opiniones</td>\n",
              "      <td>&lt;div class=\"star-rating_starRating__4rrcf star...</td>\n",
              "      <td>ES</td>\n",
              "      <td>2023-10-05</td>\n",
              "      <td>Verificada</td>\n",
              "    </tr>\n",
              "    <tr>\n",
              "      <th>4</th>\n",
              "      <td>javier</td>\n",
              "      <td>Llevo mucho tiempo comprando en esta…</td>\n",
              "      <td>Llevo mucho tiempo comprando en esta empresa, ...</td>\n",
              "      <td>1 opinión</td>\n",
              "      <td>&lt;div class=\"star-rating_starRating__4rrcf star...</td>\n",
              "      <td>ES</td>\n",
              "      <td>2023-10-12</td>\n",
              "      <td>Verificada</td>\n",
              "    </tr>\n",
              "  </tbody>\n",
              "</table>\n",
              "</div>"
            ],
            "text/plain": [
              "                         Nombre  \\\n",
              "0                 Jose Gallardo   \n",
              "1                       cliente   \n",
              "2  Jose antonio García llorente   \n",
              "3                Mariló Andrade   \n",
              "4                        javier   \n",
              "\n",
              "                                           Título  \\\n",
              "0           Mejor comprar desde la página oficial   \n",
              "1            Como puede ser que sin previo aviso…   \n",
              "2               Los precios son los mejores y la…   \n",
              "3  Buena relación calidad precio y rápida entrega   \n",
              "4           Llevo mucho tiempo comprando en esta…   \n",
              "\n",
              "                                              Reseña Cantidad de Opiniones  \\\n",
              "0  Mucho más informativa y ordenada que la página...             1 opinión   \n",
              "1  Como puede ser que sin previo aviso dejéis de ...           4 opiniones   \n",
              "2  Los precios son los mejores y la calidad, pues...           2 opiniones   \n",
              "3  Buenísima relación calidad precio y la entrega...           2 opiniones   \n",
              "4  Llevo mucho tiempo comprando en esta empresa, ...             1 opinión   \n",
              "\n",
              "                                           Estrellas País Fecha Reseña  \\\n",
              "0  <div class=\"star-rating_starRating__4rrcf star...   ES   2023-10-12   \n",
              "1  <div class=\"star-rating_starRating__4rrcf star...   ES   2023-10-05   \n",
              "2  <div class=\"star-rating_starRating__4rrcf star...   ES   2023-10-14   \n",
              "3  <div class=\"star-rating_starRating__4rrcf star...   ES   2023-10-05   \n",
              "4  <div class=\"star-rating_starRating__4rrcf star...   ES   2023-10-12   \n",
              "\n",
              "      Verificada  \n",
              "0  No disponible  \n",
              "1     Verificada  \n",
              "2  No disponible  \n",
              "3     Verificada  \n",
              "4     Verificada  "
            ]
          },
          "execution_count": 8,
          "metadata": {},
          "output_type": "execute_result"
        }
      ],
      "source": [
        "df.head()"
      ]
    },
    {
      "cell_type": "code",
      "execution_count": 9,
      "metadata": {
        "colab": {
          "base_uri": "https://localhost:8080/"
        },
        "id": "7VUWNwuu3jJN",
        "outputId": "8625f350-7ee9-44ae-aaf0-ba2684fe4728"
      },
      "outputs": [
        {
          "name": "stdout",
          "output_type": "stream",
          "text": [
            "Primera fecha: 2020-01-02 00:00:00\n",
            "Última fecha: 2023-10-16 00:00:00\n"
          ]
        }
      ],
      "source": [
        "df['Fecha Reseña'].sort_values()\n",
        "primera_fecha = df['Fecha Reseña'].min()\n",
        "ultima_fecha = df['Fecha Reseña'].max()\n",
        "\n",
        "print(f\"Primera fecha: {primera_fecha}\")\n",
        "print(f\"Última fecha: {ultima_fecha}\")"
      ]
    },
    {
      "cell_type": "code",
      "execution_count": 10,
      "metadata": {
        "id": "jZH5kYFB1yJV"
      },
      "outputs": [],
      "source": [
        "#Procesamiento de la variable estrellas (hay que extraer solo el número de estrellas)\n",
        "df['Estrellas']= df['Estrellas'].astype(str)"
      ]
    },
    {
      "cell_type": "code",
      "execution_count": 11,
      "metadata": {
        "colab": {
          "base_uri": "https://localhost:8080/"
        },
        "id": "RAp8Ow8R2aXu",
        "outputId": "ebb17145-e808-414a-9560-ca663497b3b8"
      },
      "outputs": [
        {
          "data": {
            "text/plain": [
              "dtype('O')"
            ]
          },
          "execution_count": 11,
          "metadata": {},
          "output_type": "execute_result"
        }
      ],
      "source": [
        "df['Estrellas'].dtype"
      ]
    },
    {
      "cell_type": "code",
      "execution_count": 12,
      "metadata": {
        "id": "1z-sWSkKynyg"
      },
      "outputs": [],
      "source": [
        "def limpiar_estrellas(texto):\n",
        "    texto = re.sub(r'src=\"https://cdn.trustpilot.net/brand-assets/4.1.0/stars/stars-5.svg\"/></div>', '', texto)\n",
        "    texto = re.sub(r'src=\"https://cdn.trustpilot.net/brand-assets/4.1.0/stars/stars-4.svg\"/></div>', '', texto)\n",
        "    texto = re.sub(r'src=\"https://cdn.trustpilot.net/brand-assets/4.1.0/stars/stars-3.svg\"/></div>', '', texto)\n",
        "    texto = re.sub(r'src=\"https://cdn.trustpilot.net/brand-assets/4.1.0/stars/stars-2.svg\"/></div>', '', texto)\n",
        "    texto = re.sub(r'src=\"https://cdn.trustpilot.net/brand-assets/4.1.0/stars/stars-1.svg\"/></div>', '', texto)\n",
        "    texto = re.sub(r'<div class=\"star-rating_starRating__4rrcf star-rating_medium__iN6Ty\">', '', texto)\n",
        "    texto = re.sub(r'<img alt=\"Valorada con', '', texto)\n",
        "    texto = re.sub(r'estrellas sobre 5\"', '', texto)\n",
        "    return texto\n",
        "\n",
        "df['Estrellas'] = df['Estrellas'].apply(limpiar_estrellas)\n",
        "\n"
      ]
    },
    {
      "cell_type": "code",
      "execution_count": 13,
      "metadata": {
        "colab": {
          "base_uri": "https://localhost:8080/",
          "height": 310
        },
        "id": "elTepcwx0uCh",
        "outputId": "caa34d57-71f5-46eb-8d8b-f18fa4a45ed1"
      },
      "outputs": [
        {
          "data": {
            "text/html": [
              "<div>\n",
              "<style scoped>\n",
              "    .dataframe tbody tr th:only-of-type {\n",
              "        vertical-align: middle;\n",
              "    }\n",
              "\n",
              "    .dataframe tbody tr th {\n",
              "        vertical-align: top;\n",
              "    }\n",
              "\n",
              "    .dataframe thead th {\n",
              "        text-align: right;\n",
              "    }\n",
              "</style>\n",
              "<table border=\"1\" class=\"dataframe\">\n",
              "  <thead>\n",
              "    <tr style=\"text-align: right;\">\n",
              "      <th></th>\n",
              "      <th>Nombre</th>\n",
              "      <th>Título</th>\n",
              "      <th>Reseña</th>\n",
              "      <th>Cantidad de Opiniones</th>\n",
              "      <th>Estrellas</th>\n",
              "      <th>País</th>\n",
              "      <th>Fecha Reseña</th>\n",
              "      <th>Verificada</th>\n",
              "    </tr>\n",
              "  </thead>\n",
              "  <tbody>\n",
              "    <tr>\n",
              "      <th>0</th>\n",
              "      <td>Jose Gallardo</td>\n",
              "      <td>Mejor comprar desde la página oficial</td>\n",
              "      <td>Mucho más informativa y ordenada que la página...</td>\n",
              "      <td>1 opinión</td>\n",
              "      <td>5</td>\n",
              "      <td>ES</td>\n",
              "      <td>2023-10-12</td>\n",
              "      <td>No disponible</td>\n",
              "    </tr>\n",
              "    <tr>\n",
              "      <th>1</th>\n",
              "      <td>cliente</td>\n",
              "      <td>Como puede ser que sin previo aviso…</td>\n",
              "      <td>Como puede ser que sin previo aviso dejéis de ...</td>\n",
              "      <td>4 opiniones</td>\n",
              "      <td>1</td>\n",
              "      <td>ES</td>\n",
              "      <td>2023-10-05</td>\n",
              "      <td>Verificada</td>\n",
              "    </tr>\n",
              "    <tr>\n",
              "      <th>2</th>\n",
              "      <td>Jose antonio García llorente</td>\n",
              "      <td>Los precios son los mejores y la…</td>\n",
              "      <td>Los precios son los mejores y la calidad, pues...</td>\n",
              "      <td>2 opiniones</td>\n",
              "      <td>5</td>\n",
              "      <td>ES</td>\n",
              "      <td>2023-10-14</td>\n",
              "      <td>No disponible</td>\n",
              "    </tr>\n",
              "    <tr>\n",
              "      <th>3</th>\n",
              "      <td>Mariló Andrade</td>\n",
              "      <td>Buena relación calidad precio y rápida entrega</td>\n",
              "      <td>Buenísima relación calidad precio y la entrega...</td>\n",
              "      <td>2 opiniones</td>\n",
              "      <td>5</td>\n",
              "      <td>ES</td>\n",
              "      <td>2023-10-05</td>\n",
              "      <td>Verificada</td>\n",
              "    </tr>\n",
              "    <tr>\n",
              "      <th>4</th>\n",
              "      <td>javier</td>\n",
              "      <td>Llevo mucho tiempo comprando en esta…</td>\n",
              "      <td>Llevo mucho tiempo comprando en esta empresa, ...</td>\n",
              "      <td>1 opinión</td>\n",
              "      <td>3</td>\n",
              "      <td>ES</td>\n",
              "      <td>2023-10-12</td>\n",
              "      <td>Verificada</td>\n",
              "    </tr>\n",
              "  </tbody>\n",
              "</table>\n",
              "</div>"
            ],
            "text/plain": [
              "                         Nombre  \\\n",
              "0                 Jose Gallardo   \n",
              "1                       cliente   \n",
              "2  Jose antonio García llorente   \n",
              "3                Mariló Andrade   \n",
              "4                        javier   \n",
              "\n",
              "                                           Título  \\\n",
              "0           Mejor comprar desde la página oficial   \n",
              "1            Como puede ser que sin previo aviso…   \n",
              "2               Los precios son los mejores y la…   \n",
              "3  Buena relación calidad precio y rápida entrega   \n",
              "4           Llevo mucho tiempo comprando en esta…   \n",
              "\n",
              "                                              Reseña Cantidad de Opiniones  \\\n",
              "0  Mucho más informativa y ordenada que la página...             1 opinión   \n",
              "1  Como puede ser que sin previo aviso dejéis de ...           4 opiniones   \n",
              "2  Los precios son los mejores y la calidad, pues...           2 opiniones   \n",
              "3  Buenísima relación calidad precio y la entrega...           2 opiniones   \n",
              "4  Llevo mucho tiempo comprando en esta empresa, ...             1 opinión   \n",
              "\n",
              "  Estrellas País Fecha Reseña     Verificada  \n",
              "0       5     ES   2023-10-12  No disponible  \n",
              "1       1     ES   2023-10-05     Verificada  \n",
              "2       5     ES   2023-10-14  No disponible  \n",
              "3       5     ES   2023-10-05     Verificada  \n",
              "4       3     ES   2023-10-12     Verificada  "
            ]
          },
          "execution_count": 13,
          "metadata": {},
          "output_type": "execute_result"
        }
      ],
      "source": [
        "df.head()"
      ]
    },
    {
      "cell_type": "code",
      "execution_count": 14,
      "metadata": {
        "id": "0ocMTx51aIx9",
        "outputId": "9169a89b-978c-4e1e-804c-a1baae8c743b"
      },
      "outputs": [
        {
          "data": {
            "text/plain": [
              "ES    13796\n",
              "GB       39\n",
              "US       21\n",
              "IT       21\n",
              "FR       18\n",
              "PT       15\n",
              "NL       14\n",
              "DE       12\n",
              "CH       11\n",
              "IE       10\n",
              "BE        7\n",
              "AD        6\n",
              "AR        4\n",
              "DK        3\n",
              "ID        3\n",
              "MA        3\n",
              "NO        2\n",
              "VE        2\n",
              "RO        2\n",
              "MD        2\n",
              "BR        2\n",
              "TR        2\n",
              "CU        1\n",
              "TW        1\n",
              "BO        1\n",
              "CR        1\n",
              "CO        1\n",
              "AT        1\n",
              "IN        1\n",
              "PH        1\n",
              "DO        1\n",
              "LB        1\n",
              "PK        1\n",
              "AF        1\n",
              "MU        1\n",
              "IM        1\n",
              "IL        1\n",
              "PE        1\n",
              "SN        1\n",
              "SE        1\n",
              "TH        1\n",
              "UY        1\n",
              "SI        1\n",
              "IQ        1\n",
              "FI        1\n",
              "BG        1\n",
              "CA        1\n",
              "Name: País, dtype: int64"
            ]
          },
          "execution_count": 14,
          "metadata": {},
          "output_type": "execute_result"
        }
      ],
      "source": [
        "df['País'].value_counts()\n",
        " "
      ]
    },
    {
      "cell_type": "code",
      "execution_count": 15,
      "metadata": {},
      "outputs": [
        {
          "name": "stdout",
          "output_type": "stream",
          "text": [
            "ES    98.402282\n",
            "GB     0.278174\n",
            "US     0.149786\n",
            "IT     0.149786\n",
            "FR     0.128388\n",
            "PT     0.106990\n",
            "NL     0.099857\n",
            "DE     0.085592\n",
            "CH     0.078459\n",
            "IE     0.071327\n",
            "BE     0.049929\n",
            "AD     0.042796\n",
            "AR     0.028531\n",
            "DK     0.021398\n",
            "ID     0.021398\n",
            "MA     0.021398\n",
            "NO     0.014265\n",
            "VE     0.014265\n",
            "RO     0.014265\n",
            "MD     0.014265\n",
            "BR     0.014265\n",
            "TR     0.014265\n",
            "CU     0.007133\n",
            "TW     0.007133\n",
            "BO     0.007133\n",
            "CR     0.007133\n",
            "CO     0.007133\n",
            "AT     0.007133\n",
            "IN     0.007133\n",
            "PH     0.007133\n",
            "DO     0.007133\n",
            "LB     0.007133\n",
            "PK     0.007133\n",
            "AF     0.007133\n",
            "MU     0.007133\n",
            "IM     0.007133\n",
            "IL     0.007133\n",
            "PE     0.007133\n",
            "SN     0.007133\n",
            "SE     0.007133\n",
            "TH     0.007133\n",
            "UY     0.007133\n",
            "SI     0.007133\n",
            "IQ     0.007133\n",
            "FI     0.007133\n",
            "BG     0.007133\n",
            "CA     0.007133\n",
            "Name: País, dtype: float64\n"
          ]
        }
      ],
      "source": [
        "print((df['País'].value_counts() / len(df)) * 100)\n",
        "\n"
      ]
    },
    {
      "cell_type": "code",
      "execution_count": 16,
      "metadata": {},
      "outputs": [
        {
          "name": "stdout",
          "output_type": "stream",
          "text": [
            "Verificada        7559\n",
            "No disponible     6248\n",
            "Redirigida         141\n",
            "Por invitación      62\n",
            "Fusionado           10\n",
            "Name: Verificada, dtype: int64\n",
            "Verificada        53.915835\n",
            "No disponible     44.564907\n",
            "Redirigida         1.005706\n",
            "Por invitación     0.442225\n",
            "Fusionado          0.071327\n",
            "Name: Verificada, dtype: float64\n"
          ]
        }
      ],
      "source": [
        "print(df['Verificada'].value_counts())\n",
        "print((df['Verificada'].value_counts() / len(df)) * 100)"
      ]
    },
    {
      "cell_type": "markdown",
      "metadata": {
        "id": "f4sK6lRHrAtg"
      },
      "source": [
        "Si bien el datset no tiene datos faltantes, algunas reseñas aparecen como \"No disponible\", debido a que algunos usuarios completan el espacio correspondiente al titulo y no la reseña. También sucede que si el usuario no escribe el título, este se genera automáticamente con las primeras palabras de la reseña. Dado que el dataset no es muy grande y no para no perder muestras (2544), se decide trabajar con el título que está completo en todos los casos.\n",
        "\n"
      ]
    },
    {
      "cell_type": "code",
      "execution_count": 76,
      "metadata": {
        "colab": {
          "base_uri": "https://localhost:8080/"
        },
        "id": "GlBoqliNl59K",
        "outputId": "5756583f-d547-493e-c248-ce571244e346"
      },
      "outputs": [
        {
          "data": {
            "text/plain": [
              "No disponible                                                                                                                                                                                                                                                                                                                                                                                                                                                                                                                                                                                                                                                                                                                                          2544\n",
              "Todo perfecto                                                                                                                                                                                                                                                                                                                                                                                                                                                                                                                                                                                                                                                                                                                                            18\n",
              "Todo correcto                                                                                                                                                                                                                                                                                                                                                                                                                                                                                                                                                                                                                                                                                                                                             6\n",
              "Todo perfecto, como siempre.                                                                                                                                                                                                                                                                                                                                                                                                                                                                                                                                                                                                                                                                                                                              6\n",
              "Buena calidad                                                                                                                                                                                                                                                                                                                                                                                                                                                                                                                                                                                                                                                                                                                                             4\n",
              "                                                                                                                                                                                                                                                                                                                                                                                                                                                                                                                                                                                                                                                                                                                                                       ... \n",
              "Ok, todo perfecto                                                                                                                                                                                                                                                                                                                                                                                                                                                                                                                                                                                                                                                                                                                                         1\n",
              "Todo muy rapido                                                                                                                                                                                                                                                                                                                                                                                                                                                                                                                                                                                                                                                                                                                                           1\n",
              "Sin malabares mentales, es fácil, cómodo y seguro. Buen servicio.                                                                                                                                                                                                                                                                                                                                                                                                                                                                                                                                                                                                                                                                                         1\n",
              "Llevo muchos años comprando otro tipo de marcas más caras pero al final me he dado cuenta lo único que pagas es marketing estoy muy contento con HSN de momento me quedo con esta marca barata y de buena calidad y para colmo nacional                                                                                                                                                                                                                                                                                                                                                                                                                                                                                                                   1\n",
              "No hace mucho que soy cliente, pero sí llevo a muchos años consumiendo nutrición deportiva. Hasta ahora había consumido AMIX y Optimum como marcas de siempre, también probé Prozis ya que al empezar  a buscar info online de las que más presencia tenía, y hace unos dos meses decidí dar la oportunidad a HSN. La verdad estoy sorprendido, nunca pensé que se podrían ofrecer productos de calidad por esos precios, pero puedo decir con seguridad que son de buena calidad. Yo soy consumidor de Whey Isolate, bcaa y creatina, los estoy comprando de su marca y puedo asegurar que salvo algún cambio inesperado tienen un cliente para mucho tiempo. También mencionar el tema de los envíos que funcionan bastante bien. Los recomiendo!       1\n",
              "Name: Reseña, Length: 11342, dtype: int64"
            ]
          },
          "execution_count": 76,
          "metadata": {},
          "output_type": "execute_result"
        }
      ],
      "source": [
        "df['Reseña'].value_counts()"
      ]
    },
    {
      "cell_type": "code",
      "execution_count": 19,
      "metadata": {
        "colab": {
          "base_uri": "https://localhost:8080/"
        },
        "id": "DXBdzzbgVc62",
        "outputId": "a8a87d71-3500-4330-f705-a4833e9b495e"
      },
      "outputs": [
        {
          "data": {
            "text/plain": [
              " 5      11684\n",
              " 4       1076\n",
              " 1        640\n",
              " 3        373\n",
              " 2        247\n",
              "Name: Estrellas, dtype: int64"
            ]
          },
          "execution_count": 19,
          "metadata": {},
          "output_type": "execute_result"
        }
      ],
      "source": [
        "df['Estrellas'].value_counts()"
      ]
    },
    {
      "cell_type": "markdown",
      "metadata": {
        "id": "d8u1kk0SdKn9"
      },
      "source": [
        "##### La categoría de 5 estrellas representa el 83% de la muestra. Este desbalanceo se tendrá en cuenta más adelante, en el entrenamiento de los modelos.\n",
        "##### Se decide trabajar solo con las variables Estrellas y Título."
      ]
    },
    {
      "cell_type": "code",
      "execution_count": 20,
      "metadata": {
        "colab": {
          "base_uri": "https://localhost:8080/",
          "height": 565
        },
        "id": "JNXIACtow11W",
        "outputId": "06869116-426d-46d7-df8c-46e1a34b1389"
      },
      "outputs": [
        {
          "name": "stdout",
          "output_type": "stream",
          "text": [
            " 5      0.833381\n",
            " 4      0.076748\n",
            " 1      0.045649\n",
            " 3      0.026605\n",
            " 2      0.017618\n",
            "Name: Estrellas, dtype: float64\n"
          ]
        },
        {
          "data": {
            "image/png": "[encoded data removed]",
            "text/plain": [
              "<Figure size 640x480 with 1 Axes>"
            ]
          },
          "metadata": {},
          "output_type": "display_data"
        }
      ],
      "source": [
        "df['Estrellas'].value_counts().plot(kind='bar', title='Histograma de distribución de clases')\n",
        "print(df['Estrellas'].value_counts() / len(df))"
      ]
    },
    {
      "cell_type": "code",
      "execution_count": 21,
      "metadata": {
        "id": "aehrdU5BEeUh"
      },
      "outputs": [],
      "source": [
        "# se crea un función para limpiar y lemmatizar el texto (eliminar puntos y signos)\n",
        "nlp = spacy.load(\"es_core_news_sm\")\n",
        "\n",
        "def lemmatizar_y_limpiar(texto):\n",
        "    texto = texto.lower()\n",
        "    doc = nlp(texto)\n",
        "\n",
        "    # Inicializar una lista para almacenar los lemas de las palabras\n",
        "    lemas = []\n",
        "\n",
        "    # Iterar a través de los tokens del documento\n",
        "    for token in doc:\n",
        "        # Lematizar y convertir a minúsculas\n",
        "        lema = token.lemma_.lower()\n",
        "\n",
        "        # Si el token no es un punto o signo de puntuación, agregar el lema\n",
        "        if not token.is_punct and not lema.isspace():\n",
        "            lemas.append(lema)\n",
        "\n",
        "    # Unir los lemas en una cadena de texto\n",
        "    texto_lemmatizado = \" \".join(lemas)\n",
        "\n",
        "    return texto_lemmatizado\n",
        "\n",
        "\n"
      ]
    },
    {
      "cell_type": "code",
      "execution_count": 22,
      "metadata": {
        "colab": {
          "base_uri": "https://localhost:8080/"
        },
        "id": "QlRSayBXkoE-",
        "outputId": "708d242b-11ea-4336-8645-02e57f18007b"
      },
      "outputs": [
        {
          "name": "stdout",
          "output_type": "stream",
          "text": [
            "<class 'pandas.core.series.Series'>\n",
            "Tamaño del conjunto de entrenamiento (X): (10515,)\n",
            "Tamaño del conjunto de prueba (X): (3505,)\n",
            "Tamaño del conjunto de entrenimiento (y): (10515,)\n",
            "Tamaño del conjunto de prueba (y): (3505,)\n"
          ]
        }
      ],
      "source": [
        "Y, X = df['Estrellas'], df['Título']\n",
        "X = X.apply(lemmatizar_y_limpiar)\n",
        "\n",
        "le = LabelEncoder()\n",
        "y = le.fit_transform(Y)\n",
        "X_train_text, X_test_text, y_train, y_test = train_test_split(X, y, stratify=y, random_state=1)\n",
        "print(type(X_train_text))\n",
        "\n",
        "# Tamaño de los conjuntos de entrenamiento y prueba\n",
        "print(f\"Tamaño del conjunto de entrenamiento (X): {X_train_text.shape}\")\n",
        "print(f\"Tamaño del conjunto de prueba (X): {X_test_text.shape}\")\n",
        "print(f\"Tamaño del conjunto de entrenimiento (y): {y_train.shape}\")\n",
        "print(f\"Tamaño del conjunto de prueba (y): {y_test.shape}\")\n",
        "\n",
        "# con stratify= y le pedimos que respete la misma distribucion de clases.\n",
        "# obtengo una serie de Pandas"
      ]
    },
    {
      "cell_type": "code",
      "execution_count": 23,
      "metadata": {
        "id": "CZemoulZsX8b"
      },
      "outputs": [],
      "source": [
        "with open(spanish, 'r', encoding='utf-8') as archivo:\n",
        "    # Lee el contenido del archivo y divide las palabras en una lista\n",
        "    stop_spanish = archivo.read().split()"
      ]
    },
    {
      "cell_type": "code",
      "execution_count": 24,
      "metadata": {
        "colab": {
          "base_uri": "https://localhost:8080/"
        },
        "id": "Zcd9xY1P67d0",
        "outputId": "2be3de88-a9a3-415d-809d-80a9e2fba9f0"
      },
      "outputs": [
        {
          "name": "stdout",
          "output_type": "stream",
          "text": [
            "['de', 'la', 'que', 'el', 'en', 'y', 'a', 'los', 'del', 'se', 'las', 'por', 'un', 'para', 'con', 'no', 'una', 'su', 'al', 'lo', 'como', 'más', 'pero', 'sus', 'le', 'ya', 'o', 'este', 'sí', 'porque', 'esta', 'entre', 'cuando', 'muy', 'sin', 'sobre', 'también', 'me', 'hasta', 'hay', 'donde', 'quien', 'desde', 'todo', 'nos', 'durante', 'todos', 'uno', 'les', 'ni', 'contra', 'otros', 'ese', 'eso', 'ante', 'ellos', 'e', 'esto', 'mí', 'antes', 'algunos', 'qué', 'unos', 'yo', 'otro', 'otras', 'otra', 'él', 'tanto', 'esa', 'estos', 'mucho', 'quienes', 'nada', 'muchos', 'cual', 'poco', 'ella', 'estar', 'estas', 'algunas', 'algo', 'nosotros', 'mi', 'mis', 'tú', 'te', 'ti', 'tu', 'tus', 'ellas', 'nosotras', 'vosostros', 'vosostras', 'os', 'mío', 'mía', 'míos', 'mías', 'tuyo', 'tuya', 'tuyos', 'tuyas', 'suyo', 'suya', 'suyos', 'suyas', 'nuestro', 'nuestra', 'nuestros', 'nuestras', 'vuestro', 'vuestra', 'vuestros', 'vuestras', 'esos', 'esas', 'estoy', 'estás', 'está', 'estamos', 'estáis', 'están', 'esté', 'estés', 'estemos', 'estéis', 'estén', 'estaré', 'estarás', 'estará', 'estaremos', 'estaréis', 'estarán', 'estaría', 'estarías', 'estaríamos', 'estaríais', 'estarían', 'estaba', 'estabas', 'estábamos', 'estabais', 'estaban', 'estuve', 'estuviste', 'estuvo', 'estuvimos', 'estuvisteis', 'estuvieron', 'estuviera', 'estuvieras', 'estuviéramos', 'estuvierais', 'estuvieran', 'estuviese', 'estuvieses', 'estuviésemos', 'estuvieseis', 'estuviesen', 'estando', 'estado', 'estada', 'estados', 'estadas', 'estad', 'he', 'has', 'ha', 'hemos', 'habéis', 'han', 'haya', 'hayas', 'hayamos', 'hayáis', 'hayan', 'habré', 'habrás', 'habrá', 'habremos', 'habréis', 'habrán', 'habría', 'habrías', 'habríamos', 'habríais', 'habrían', 'había', 'habías', 'habíamos', 'habíais', 'habían', 'hube', 'hubiste', 'hubo', 'hubimos', 'hubisteis', 'hubieron', 'hubiera', 'hubieras', 'hubiéramos', 'hubierais', 'hubieran', 'hubiese', 'hubieses', 'hubiésemos', 'hubieseis', 'hubiesen', 'habiendo', 'habido', 'habida', 'habidos', 'habidas', 'soy', 'eres', 'es', 'somos', 'sois', 'son', 'sea', 'seas', 'seamos', 'seáis', 'sean', 'seré', 'serás', 'será', 'seremos', 'seréis', 'serán', 'sería', 'serías', 'seríamos', 'seríais', 'serían', 'era', 'eras', 'éramos', 'erais', 'eran', 'fui', 'fuiste', 'fue', 'fuimos', 'fuisteis', 'fueron', 'fuera', 'fueras', 'fuéramos', 'fuerais', 'fueran', 'fuese', 'fueses', 'fuésemos', 'fueseis', 'fuesen', 'sintiendo', 'sentido', 'sentida', 'sentidos', 'sentidas', 'siente', 'sentid', 'tengo', 'tienes', 'tiene', 'tenemos', 'tenéis', 'tienen', 'tenga', 'tengas', 'tengamos', 'tengáis', 'tengan', 'tendré', 'tendrás', 'tendrá', 'tendremos', 'tendréis', 'tendrán', 'tendría', 'tendrías', 'tendríamos', 'tendríais', 'tendrían', 'tenía', 'tenías', 'teníamos', 'teníais', 'tenían', 'tuve', 'tuviste', 'tuvo', 'tuvimos', 'tuvisteis', 'tuvieron', 'tuviera', 'tuvieras', 'tuviéramos', 'tuvierais', 'tuvieran', 'tuviese', 'tuvieses', 'tuviésemos', 'tuvieseis', 'tuviesen', 'teniendo', 'tenido', 'tenida', 'tenidos', 'tenidas', 'tened']\n"
          ]
        }
      ],
      "source": [
        "print(stop_spanish)"
      ]
    },
    {
      "cell_type": "markdown",
      "metadata": {
        "id": "UICIiZLnjKkV"
      },
      "source": [
        "### Modelos"
      ]
    },
    {
      "cell_type": "markdown",
      "metadata": {
        "id": "1BVxKYBeu-Jz"
      },
      "source": [
        "# Bayes Ingenuo\n",
        "\n",
        "### Se utilizan la variante Multinomial (características discretas),  Complement (porque las clases están desbalanceadas) y también Bernoulli (para considerar solo la ocurrencia o no de la palabra). No se utiliza Gaussian porque no hay distribución normal ni tampoco se utiliza categorical. Dado que las clases están desbalanceadas, se probarán los algoritmos utilizando los datos originales en primer lugar, luego se asignarán pesos a las clases y por último se utilizará la técnica de sobremuestreo SMOTE y RandomOverSampling. No se probará submuestreo porque el dataset quedaría muy pequeño."
      ]
    },
    {
      "cell_type": "markdown",
      "metadata": {
        "id": "CP4f1qTpID9J"
      },
      "source": [
        "## CountVectorizer + Bernoulli  \n",
        "\n",
        "En la variante Bernouli se crea un vector binarizado y se utiliza CountVectorizer porque interesa saber si la palabra está presente o no (y no con qué frecuencia está presente).\n"
      ]
    },
    {
      "cell_type": "code",
      "execution_count": 25,
      "metadata": {
        "colab": {
          "base_uri": "https://localhost:8080/",
          "height": 1000
        },
        "id": "-HDcll7qH2LP",
        "outputId": "6528e4b1-5abe-42f3-b148-d65dc5e54e56"
      },
      "outputs": [
        {
          "name": "stdout",
          "output_type": "stream",
          "text": [
            "Score para BN Bernoulli 0.8336661911554921\n",
            "0.03386299231211124\n",
            "0.025985448808336014\n",
            "<class 'scipy.sparse._csr.csr_matrix'>\n",
            "              precision    recall  f1-score   support\n",
            "\n",
            "           1       1.00      0.01      0.01       160\n",
            "           2       0.00      0.00      0.00        62\n",
            "           3       0.00      0.00      0.00        93\n",
            "           4       0.00      0.00      0.00       269\n",
            "           5       0.83      1.00      0.91      2921\n",
            "\n",
            "    accuracy                           0.83      3505\n",
            "   macro avg       0.37      0.20      0.18      3505\n",
            "weighted avg       0.74      0.83      0.76      3505\n",
            "\n",
            "Reales     0  3     4   All\n",
            "Predichos                  \n",
            "0          1  1   158   160\n",
            "1          0  1    61    62\n",
            "2          0  0    93    93\n",
            "3          0  0   269   269\n",
            "4          0  0  2921  2921\n",
            "All        1  2  3502  3505\n"
          ]
        }
      ],
      "source": [
        "vec1 = CountVectorizer(stop_words=stop_spanish, binary=True, ngram_range=(1,3))\n",
        "x_train1 = vec1.fit_transform(X_train_text)\n",
        "x_test1 = vec1.transform(X_test_text)\n",
        "bnb1 = BernoulliNB_sk()\n",
        "bnb1.fit(x_train1, y_train)\n",
        "print(f'Score para BN Bernoulli {bnb1.score(x_test1, y_test)}')\n",
        "\n",
        "# Imprimir esparcidad del train y test\n",
        "print(x_train1.nnz / (x_train1.shape[0] * x_train1.shape[1])*100)\n",
        "print(x_test1.nnz / (x_test1.shape[0] * x_test1.shape[1])*100)\n",
        "print(type(x_train1))\n",
        "\n",
        "# Informe de clasificación\n",
        "y_pred = bnb1.predict(x_test1)\n",
        "etiquetas = ['1', '2', '3', '4', '5']\n",
        "print(classification_report(y_test, y_pred, target_names=etiquetas))\n",
        "\n",
        "# Tabla de contingencia\n",
        "tabla_cont = pd.crosstab(y_test, y_pred, rownames=['Predichos'], colnames=['Reales'], margins=True)\n",
        "print(tabla_cont)\n",
        "\n"
      ]
    },
    {
      "cell_type": "code",
      "execution_count": 26,
      "metadata": {
        "colab": {
          "base_uri": "https://localhost:8080/",
          "height": 1000
        },
        "id": "5EK0hM-06R8F",
        "outputId": "048c0629-57ff-466a-8d84-e2c533c38d92"
      },
      "outputs": [
        {
          "name": "stdout",
          "output_type": "stream",
          "text": [
            "Score para BN Bernoulli con pesos 0.8336661911554921\n",
            "              precision    recall  f1-score   support\n",
            "\n",
            "           1       1.00      0.01      0.01       160\n",
            "           2       0.00      0.00      0.00        62\n",
            "           3       0.00      0.00      0.00        93\n",
            "           4       0.00      0.00      0.00       269\n",
            "           5       0.83      1.00      0.91      2921\n",
            "\n",
            "    accuracy                           0.83      3505\n",
            "   macro avg       0.37      0.20      0.18      3505\n",
            "weighted avg       0.74      0.83      0.76      3505\n",
            "\n",
            "Reales     0  3     4   All\n",
            "Predichos                  \n",
            "0          1  1   158   160\n",
            "1          0  1    61    62\n",
            "2          0  0    93    93\n",
            "3          0  0   269   269\n",
            "4          0  0  2921  2921\n",
            "All        1  2  3502  3505\n"
          ]
        }
      ],
      "source": [
        "# Definir los pesos de clase\n",
        "class_weights = {\n",
        "    0: 1.0,\n",
        "    1: 1.0,\n",
        "    2: 1.0,\n",
        "    3: 1.0,\n",
        "    4: 0.17\n",
        "}\n",
        "\n",
        "# Calcular las probabilidades a priori a partir de los pesos de clase\n",
        "class_priors = [class_weights[i] / sum(class_weights.values()) for i in range(len(class_weights))]\n",
        "\n",
        "# Crear el clasificador Bernoulli Naive Bayes con pesos de clase\n",
        "bnb2 = BernoulliNB_sk(class_prior=class_priors, fit_prior=False)\n",
        "\n",
        "# Entrenar el modelo\n",
        "bnb2.fit(x_train1, y_train)\n",
        "\n",
        "# Evaluar el modelo en el conjunto de prueba\n",
        "print(f'Score para BN Bernoulli con pesos {bnb2.score(x_test1, y_test)}')\n",
        "\n",
        "# Informe de clasificación\n",
        "y_pred = bnb2.predict(x_test1)\n",
        "etiquetas = ['1', '2', '3', '4', '5']\n",
        "print(classification_report(y_test, y_pred, target_names=etiquetas))\n",
        "\n",
        "# Tabla de contingencia\n",
        "tabla_cont = pd.crosstab(y_test, y_pred, rownames=['Predichos'], colnames=['Reales'], margins=True)\n",
        "print(tabla_cont)\n"
      ]
    },
    {
      "cell_type": "code",
      "execution_count": 27,
      "metadata": {
        "colab": {
          "base_uri": "https://localhost:8080/",
          "height": 928
        },
        "id": "d1Q8g0nNLbgj",
        "outputId": "b84fb320-9d33-4df8-e8e2-025835d53da4"
      },
      "outputs": [
        {
          "name": "stdout",
          "output_type": "stream",
          "text": [
            "Score para BN Bernoulli con oversampling SMOTE 0.503851640513552\n",
            "              precision    recall  f1-score   support\n",
            "\n",
            "           1       0.29      0.59      0.39       160\n",
            "           2       0.04      0.15      0.07        62\n",
            "           3       0.09      0.23      0.13        93\n",
            "           4       0.08      0.32      0.13       269\n",
            "           5       0.91      0.53      0.67      2921\n",
            "\n",
            "    accuracy                           0.50      3505\n",
            "   macro avg       0.29      0.36      0.28      3505\n",
            "weighted avg       0.79      0.50      0.59      3505\n",
            "\n",
            "Reales       0    1    2     3     4   All\n",
            "Predichos                                 \n",
            "0           95   27   18     3    17   160\n",
            "1           27    9   15     3     8    62\n",
            "2           27    8   21    19    18    93\n",
            "3           35   19   26    87   102   269\n",
            "4          140  150  142   935  1554  2921\n",
            "All        324  213  222  1047  1699  3505\n"
          ]
        }
      ],
      "source": [
        "# Sobremuestreo con SMOTE\n",
        "# Aplica SMOTE al conjunto de entrenamiento (con auto, all y not majority da igual)\n",
        "smote = SMOTE(sampling_strategy='not majority', random_state=1)\n",
        "x_train_resampled_cv, y_train_resampled_cv = smote.fit_resample(x_train1, y_train)\n",
        "\n",
        "# Entrenamiento del modelo en el conjunto de entrenamiento sobremuestreado\n",
        "bnb1.fit(x_train_resampled_cv, y_train_resampled_cv)\n",
        "\n",
        "# Evalúa el modelo en el conjunto de prueba original\n",
        "print(f'Score para BN Bernoulli con oversampling SMOTE {bnb1.score(x_test1, y_test)}')\n",
        "\n",
        "# Informe de clasificación\n",
        "y_pred = bnb1.predict(x_test1)\n",
        "etiquetas = ['1', '2', '3', '4', '5']\n",
        "print(classification_report(y_test, y_pred, target_names=etiquetas))\n",
        "\n",
        "# Tabla de contingencia\n",
        "tabla_cont = pd.crosstab(y_test, y_pred, rownames=['Predichos'], colnames=['Reales'], margins=True)\n",
        "print(tabla_cont)\n",
        "\n"
      ]
    },
    {
      "cell_type": "code",
      "execution_count": 28,
      "metadata": {
        "colab": {
          "base_uri": "https://localhost:8080/",
          "height": 928
        },
        "id": "mponCYguJt3h",
        "outputId": "7fc43e74-c342-418b-e07f-b4abe3a7d913"
      },
      "outputs": [
        {
          "name": "stdout",
          "output_type": "stream",
          "text": [
            "Score para BN Bernoulli con oversampling RandomOverSampler 0.7169757489300999\n",
            "              precision    recall  f1-score   support\n",
            "\n",
            "           1       0.36      0.37      0.36       160\n",
            "           2       0.15      0.26      0.19        62\n",
            "           3       0.12      0.18      0.14        93\n",
            "           4       0.12      0.22      0.15       269\n",
            "           5       0.92      0.81      0.86      2921\n",
            "\n",
            "    accuracy                           0.72      3505\n",
            "   macro avg       0.33      0.37      0.34      3505\n",
            "weighted avg       0.79      0.72      0.75      3505\n",
            "\n",
            "Reales       0    1    2    3     4   All\n",
            "Predichos                                \n",
            "0           59   35   22   10    34   160\n",
            "1           14   16   20    5     7    62\n",
            "2           20   15   17   21    20    93\n",
            "3           21   11   23   60   154   269\n",
            "4           51   30   62  417  2361  2921\n",
            "All        165  107  144  513  2576  3505\n"
          ]
        }
      ],
      "source": [
        "# Sobremuestreo con RandomOverSampler\n",
        "# Aplica RandomOverSampler al conjunto de entrenamiento\n",
        "oversampler = RandomOverSampler(sampling_strategy='not majority', random_state=1)\n",
        "x_train_resampled2_cv, y_train_resampled2_cv = oversampler.fit_resample(x_train1, y_train)\n",
        "\n",
        "# Entrenamiento del modelo en el conjunto de entrenamiento sobremuestreado\n",
        "bnb1.fit(x_train_resampled2_cv, y_train_resampled2_cv)\n",
        "\n",
        "# Evalúa el modelo en el conjunto de prueba original\n",
        "print(f'Score para BN Bernoulli con oversampling RandomOverSampler {bnb1.score(x_test1, y_test)}')\n",
        "\n",
        "# Informe de clasificación\n",
        "y_pred = bnb1.predict(x_test1)\n",
        "etiquetas = ['1', '2', '3', '4', '5']\n",
        "print(classification_report(y_test, y_pred, target_names=etiquetas))\n",
        "\n",
        "# Tabla de contingencia\n",
        "tabla_cont = pd.crosstab(y_test, y_pred, rownames=['Predichos'], colnames=['Reales'], margins=True)\n",
        "print(tabla_cont)\n",
        "\n"
      ]
    },
    {
      "cell_type": "markdown",
      "metadata": {
        "id": "WtdYyn-tIzMD"
      },
      "source": [
        "## TF-IDF + Multinomial  \n",
        "\n",
        "Se transforma el texto con un vectorizador TF-IDF y luego se corre la variante multinomial."
      ]
    },
    {
      "cell_type": "code",
      "execution_count": 29,
      "metadata": {
        "colab": {
          "base_uri": "https://localhost:8080/",
          "height": 1000
        },
        "id": "lSJbmt-jI5DF",
        "outputId": "aff63ef0-2773-40a0-dad7-31ffa9de7a1c"
      },
      "outputs": [
        {
          "name": "stdout",
          "output_type": "stream",
          "text": [
            "type x_train <class 'scipy.sparse._csr.csr_matrix'>\n",
            "Score para BN Multinomial 0.8333808844507846\n",
            "              precision    recall  f1-score   support\n",
            "\n",
            "           1       0.00      0.00      0.00       160\n",
            "           2       0.00      0.00      0.00        62\n",
            "           3       0.00      0.00      0.00        93\n",
            "           4       0.00      0.00      0.00       269\n",
            "           5       0.83      1.00      0.91      2921\n",
            "\n",
            "    accuracy                           0.83      3505\n",
            "   macro avg       0.17      0.20      0.18      3505\n",
            "weighted avg       0.69      0.83      0.76      3505\n",
            "\n",
            "Reales        4   All\n",
            "Predichos            \n",
            "0           160   160\n",
            "1            62    62\n",
            "2            93    93\n",
            "3           269   269\n",
            "4          2921  2921\n",
            "All        3505  3505\n"
          ]
        }
      ],
      "source": [
        "vec2 = TfidfVectorizer(stop_words=stop_spanish, ngram_range=(1,3))\n",
        "x_train2 = vec2.fit_transform(X_train_text)\n",
        "x_test2 = vec2.transform(X_test_text)\n",
        "print('type x_train', type(x_train2))\n",
        "mnb1 = MultinomialNB_sk()\n",
        "mnb1.fit(x_train2, y_train)\n",
        "print(f'Score para BN Multinomial {mnb1.score(x_test2, y_test)}')\n",
        "\n",
        "# Informe de clasificación\n",
        "y_pred = mnb1.predict(x_test2)\n",
        "etiquetas = ['1', '2', '3', '4', '5']\n",
        "print(classification_report(y_test, y_pred, target_names=etiquetas))\n",
        "\n",
        "# Tabla de contingencia\n",
        "tabla_cont = pd.crosstab(y_test, y_pred, rownames=['Predichos'], colnames=['Reales'], margins=True)\n",
        "print(tabla_cont)\n",
        "\n"
      ]
    },
    {
      "cell_type": "code",
      "execution_count": 30,
      "metadata": {
        "colab": {
          "base_uri": "https://localhost:8080/",
          "height": 928
        },
        "id": "L_b-trzH_A8h",
        "outputId": "aa1ed4c7-ddd6-4d86-e513-ccbc0dae095e"
      },
      "outputs": [
        {
          "name": "stdout",
          "output_type": "stream",
          "text": [
            "Score para BN Multinomial con pesos 0.6022824536376605\n",
            "              precision    recall  f1-score   support\n",
            "\n",
            "           1       0.29      0.66      0.41       160\n",
            "           2       0.06      0.06      0.06        62\n",
            "           3       0.16      0.12      0.13        93\n",
            "           4       0.11      0.40      0.17       269\n",
            "           5       0.94      0.64      0.76      2921\n",
            "\n",
            "    accuracy                           0.60      3505\n",
            "   macro avg       0.31      0.38      0.31      3505\n",
            "weighted avg       0.81      0.60      0.67      3505\n",
            "\n",
            "Reales       0   1   2    3     4   All\n",
            "Predichos                              \n",
            "0          106  10  15   24     5   160\n",
            "1           33   4  13    9     3    62\n",
            "2           25   5  11   43     9    93\n",
            "3           38   5   5  108   113   269\n",
            "4          158  45  26  810  1882  2921\n",
            "All        360  69  70  994  2012  3505\n"
          ]
        }
      ],
      "source": [
        "# Utilizando pesos de clases\n",
        "\n",
        "# Crear el clasificador Multinomial Naive Bayes con pesos de clase\n",
        "mnb2 = MultinomialNB_sk(class_prior=class_priors, fit_prior=False)\n",
        "\n",
        "# Entrenar el modelo\n",
        "mnb2.fit(x_train2, y_train)\n",
        "\n",
        "# Evaluar el modelo en el conjunto de prueba\n",
        "print(f'Score para BN Multinomial con pesos {mnb2.score(x_test2, y_test)}')\n",
        "\n",
        "# Informe de clasificación\n",
        "y_pred = mnb2.predict(x_test2)\n",
        "etiquetas = ['1', '2', '3', '4', '5']\n",
        "print(classification_report(y_test, y_pred, target_names=etiquetas))\n",
        "\n",
        "# Tabla de contingencia\n",
        "tabla_cont = pd.crosstab(y_test, y_pred, rownames=['Predichos'], colnames=['Reales'], margins=True)\n",
        "print(tabla_cont)\n",
        "\n"
      ]
    },
    {
      "cell_type": "code",
      "execution_count": 31,
      "metadata": {
        "colab": {
          "base_uri": "https://localhost:8080/",
          "height": 928
        },
        "id": "28u2Q9DiAmsB",
        "outputId": "e112402a-e71d-45d8-a5dd-0c6519653550"
      },
      "outputs": [
        {
          "name": "stdout",
          "output_type": "stream",
          "text": [
            "Score para BN Multinomial con SMOTE 0.6379457917261055\n",
            "              precision    recall  f1-score   support\n",
            "\n",
            "           1       0.30      0.50      0.37       160\n",
            "           2       0.10      0.21      0.13        62\n",
            "           3       0.10      0.24      0.14        93\n",
            "           4       0.11      0.28      0.16       269\n",
            "           5       0.93      0.70      0.80      2921\n",
            "\n",
            "    accuracy                           0.64      3505\n",
            "   macro avg       0.31      0.39      0.32      3505\n",
            "weighted avg       0.80      0.64      0.70      3505\n",
            "\n",
            "Reales       0    1    2    3     4   All\n",
            "Predichos                                \n",
            "0           80   30   29   10    11   160\n",
            "1           22   13   18    4     5    62\n",
            "2           23   17   22   18    13    93\n",
            "3           30   15   32   76   116   269\n",
            "4          114   58  117  587  2045  2921\n",
            "All        269  133  218  695  2190  3505\n"
          ]
        }
      ],
      "source": [
        "# Sobremuestreo con SMOTE\n",
        "\n",
        "# Aplica SMOTE al conjunto de entrenamiento (con auto, all y not majority da igual)\n",
        "smote = SMOTE(sampling_strategy='not majority', random_state=1)\n",
        "x_train_resampled_tf, y_train_resampled_tf = smote.fit_resample(x_train2, y_train)\n",
        "\n",
        "# Entrenamiento del modelo en el conjunto de entrenamiento sobremuestreado\n",
        "mnb1.fit(x_train_resampled_tf, y_train_resampled_tf)\n",
        "\n",
        "# Evalúa el modelo en el conjunto de prueba original\n",
        "print(f'Score para BN Multinomial con SMOTE {mnb1.score(x_test2, y_test)}')\n",
        "\n",
        "# Informe de clasificación\n",
        "y_pred = mnb1.predict(x_test2)\n",
        "etiquetas = ['1', '2', '3', '4', '5']\n",
        "print(classification_report(y_test, y_pred, target_names=etiquetas))\n",
        "\n",
        "# Tabla de contingencia\n",
        "tabla_cont = pd.crosstab(y_test, y_pred, rownames=['Predichos'], colnames=['Reales'], margins=True)\n",
        "print(tabla_cont)\n",
        "\n"
      ]
    },
    {
      "cell_type": "code",
      "execution_count": 32,
      "metadata": {
        "colab": {
          "base_uri": "https://localhost:8080/",
          "height": 928
        },
        "id": "x4SP8sx2MyLj",
        "outputId": "32e98cdc-3537-4f2d-99ad-c311f1a27038"
      },
      "outputs": [
        {
          "name": "stdout",
          "output_type": "stream",
          "text": [
            "Score para BN Multinomial con oversampling RandomOverSampler 0.6559201141226819\n",
            "              precision    recall  f1-score   support\n",
            "\n",
            "           1       0.30      0.51      0.38       160\n",
            "           2       0.09      0.18      0.12        62\n",
            "           3       0.12      0.27      0.16        93\n",
            "           4       0.11      0.26      0.16       269\n",
            "           5       0.94      0.72      0.82      2921\n",
            "\n",
            "    accuracy                           0.66      3505\n",
            "   macro avg       0.31      0.39      0.33      3505\n",
            "weighted avg       0.81      0.66      0.72      3505\n",
            "\n",
            "Reales       0    1    2    3     4   All\n",
            "Predichos                                \n",
            "0           82   28   30   11     9   160\n",
            "1           21   11   22    4     4    62\n",
            "2           26   15   25   18     9    93\n",
            "3           31   13   31   71   123   269\n",
            "4          115   51  109  536  2110  2921\n",
            "All        275  118  217  640  2255  3505\n"
          ]
        }
      ],
      "source": [
        "# Sobremuestreo con RandomOverSampler\n",
        "# Aplica RandomOverSampler al conjunto de entrenamiento\n",
        "oversampler = RandomOverSampler(sampling_strategy='not majority', random_state=1)\n",
        "x_train_resampled2_tf, y_train_resampled2_tf = oversampler.fit_resample(x_train2, y_train)\n",
        "\n",
        "# Entrenamiento del modelo en el conjunto de entrenamiento sobremuestreado\n",
        "mnb1.fit(x_train_resampled2_tf, y_train_resampled2_tf)\n",
        "\n",
        "# Evalúa el modelo en el conjunto de prueba original\n",
        "print(f'Score para BN Multinomial con oversampling RandomOverSampler {mnb1.score(x_test2, y_test)}')\n",
        "\n",
        "# Informe de clasificación\n",
        "y_pred = mnb1.predict(x_test2)\n",
        "etiquetas = ['1', '2', '3', '4', '5']\n",
        "print(classification_report(y_test, y_pred, target_names=etiquetas))\n",
        "\n",
        "# Tabla de contingencia\n",
        "tabla_cont = pd.crosstab(y_test, y_pred, rownames=['Predichos'], colnames=['Reales'], margins=True)\n",
        "print(tabla_cont)\n",
        "\n"
      ]
    },
    {
      "cell_type": "markdown",
      "metadata": {
        "id": "wUMmkAKZMslw"
      },
      "source": [
        "## CountVectorizer + Complement\n",
        "La variante Complement se utiliza con CountVectorizer para intentar obtener mejores resultados trabajando con clases desbalanceadas."
      ]
    },
    {
      "cell_type": "code",
      "execution_count": 33,
      "metadata": {
        "colab": {
          "base_uri": "https://localhost:8080/",
          "height": 928
        },
        "id": "5-kTgKnLI4lN",
        "outputId": "f444fdeb-d5b5-4d6b-d758-f99f499304c2"
      },
      "outputs": [
        {
          "name": "stdout",
          "output_type": "stream",
          "text": [
            "Score para BN Complement 0.8171184022824537\n",
            "              precision    recall  f1-score   support\n",
            "\n",
            "           1       0.34      0.57      0.42       160\n",
            "           2       0.14      0.10      0.11        62\n",
            "           3       0.14      0.10      0.12        93\n",
            "           4       0.16      0.05      0.08       269\n",
            "           5       0.90      0.94      0.92      2921\n",
            "\n",
            "    accuracy                           0.82      3505\n",
            "   macro avg       0.34      0.35      0.33      3505\n",
            "weighted avg       0.79      0.82      0.80      3505\n",
            "\n",
            "Reales       0   1   2   3     4   All\n",
            "Predichos                             \n",
            "0           91  11  13   7    38   160\n",
            "1           32   6  12   3     9    62\n",
            "2           30   6   9  11    37    93\n",
            "3           30   4   7  14   214   269\n",
            "4           86  17  22  52  2744  2921\n",
            "All        269  44  63  87  3042  3505\n"
          ]
        }
      ],
      "source": [
        "vec3 = CountVectorizer(stop_words=stop_spanish, ngram_range=(1,3))\n",
        "x_train3 = vec3.fit_transform(X_train_text)\n",
        "x_test3 = vec3.transform(X_test_text)\n",
        "cnb1 = ComplementNB_sk()\n",
        "cnb1.fit(x_train3, y_train)\n",
        "print(f'Score para BN Complement {cnb1.score(x_test3, y_test)}')\n",
        "\n",
        "# Informe de clasificación\n",
        "y_pred = cnb1.predict(x_test3)\n",
        "etiquetas = ['1', '2', '3', '4', '5']\n",
        "print(classification_report(y_test, y_pred, target_names=etiquetas))\n",
        "\n",
        "# Tabla de contingencia\n",
        "tabla_cont = pd.crosstab(y_test, y_pred, rownames=['Predichos'], colnames=['Reales'], margins=True)\n",
        "print(tabla_cont)\n",
        "\n"
      ]
    },
    {
      "cell_type": "code",
      "execution_count": 34,
      "metadata": {
        "colab": {
          "base_uri": "https://localhost:8080/",
          "height": 928
        },
        "id": "eTiQLntTBLmM",
        "outputId": "37a33e8b-d650-4766-db44-1bc892e658cb"
      },
      "outputs": [
        {
          "name": "stdout",
          "output_type": "stream",
          "text": [
            "Score para BN Complement con pesos de clase 0.8171184022824537\n",
            "              precision    recall  f1-score   support\n",
            "\n",
            "           1       0.34      0.57      0.42       160\n",
            "           2       0.14      0.10      0.11        62\n",
            "           3       0.14      0.10      0.12        93\n",
            "           4       0.16      0.05      0.08       269\n",
            "           5       0.90      0.94      0.92      2921\n",
            "\n",
            "    accuracy                           0.82      3505\n",
            "   macro avg       0.34      0.35      0.33      3505\n",
            "weighted avg       0.79      0.82      0.80      3505\n",
            "\n",
            "Reales       0   1   2   3     4   All\n",
            "Predichos                             \n",
            "0           91  11  13   7    38   160\n",
            "1           32   6  12   3     9    62\n",
            "2           30   6   9  11    37    93\n",
            "3           30   4   7  14   214   269\n",
            "4           86  17  22  52  2744  2921\n",
            "All        269  44  63  87  3042  3505\n"
          ]
        }
      ],
      "source": [
        "# Crear el clasificador Complement Naive Bayes con pesos de clase\n",
        "cnb2 = ComplementNB_sk(class_prior=class_priors, fit_prior=False)\n",
        "\n",
        "# Entrenar el modelo\n",
        "cnb2.fit(x_train3, y_train)\n",
        "\n",
        "# Evaluar el modelo en el conjunto de prueba\n",
        "print(f'Score para BN Complement con pesos de clase {cnb2.score(x_test3, y_test)}')\n",
        "\n",
        "# Informe de clasificación\n",
        "y_pred = cnb2.predict(x_test3)\n",
        "etiquetas = ['1', '2', '3', '4', '5']\n",
        "print(classification_report(y_test, y_pred, target_names=etiquetas))\n",
        "\n",
        "# Tabla de contingencia\n",
        "tabla_cont = pd.crosstab(y_test, y_pred, rownames=['Predichos'], colnames=['Reales'], margins=True)\n",
        "print(tabla_cont)\n",
        "\n"
      ]
    },
    {
      "cell_type": "code",
      "execution_count": 35,
      "metadata": {
        "colab": {
          "base_uri": "https://localhost:8080/",
          "height": 928
        },
        "id": "ooftXf9XBu-2",
        "outputId": "95b5ef60-8e8d-4888-866a-9e2dd73dc937"
      },
      "outputs": [
        {
          "name": "stdout",
          "output_type": "stream",
          "text": [
            "Score para BN Complement SMOTE 0.7007132667617689\n",
            "              precision    recall  f1-score   support\n",
            "\n",
            "           1       0.29      0.59      0.39       160\n",
            "           2       0.19      0.18      0.18        62\n",
            "           3       0.19      0.17      0.18        93\n",
            "           4       0.12      0.24      0.16       269\n",
            "           5       0.92      0.78      0.84      2921\n",
            "\n",
            "    accuracy                           0.70      3505\n",
            "   macro avg       0.34      0.39      0.35      3505\n",
            "weighted avg       0.79      0.70      0.74      3505\n",
            "\n",
            "Reales       0   1   2    3     4   All\n",
            "Predichos                              \n",
            "0           94  16  17    6    27   160\n",
            "1           28  11  10    4     9    62\n",
            "2           29   7  16   20    21    93\n",
            "3           41   5   9   65   149   269\n",
            "4          130  20  33  468  2270  2921\n",
            "All        322  59  85  563  2476  3505\n"
          ]
        }
      ],
      "source": [
        "# Aplica SMOTE al conjunto de entrenamiento (con auto, all y not majority da igual)\n",
        "smote = SMOTE(sampling_strategy='not majority', random_state=1)\n",
        "x_train_resampled_cv, y_train_resampled_cv = smote.fit_resample(x_train3, y_train)\n",
        "\n",
        "# Entrenamiento del modelo en el conjunto de entrenamiento sobremuestreado\n",
        "cnb1.fit(x_train_resampled_cv, y_train_resampled_cv)\n",
        "\n",
        "# Evalúa el modelo en el conjunto de prueba original\n",
        "print(f'Score para BN Complement SMOTE {cnb1.score(x_test3, y_test)}')\n",
        "\n",
        "# Informe de clasificación\n",
        "y_pred = cnb1.predict(x_test3)\n",
        "etiquetas = ['1', '2', '3', '4', '5']\n",
        "print(classification_report(y_test, y_pred, target_names=etiquetas))\n",
        "\n",
        "# Tabla de contingencia\n",
        "tabla_cont = pd.crosstab(y_test, y_pred, rownames=['Predichos'], colnames=['Reales'], margins=True)\n",
        "print(tabla_cont)\n",
        "\n"
      ]
    },
    {
      "cell_type": "code",
      "execution_count": 36,
      "metadata": {
        "colab": {
          "base_uri": "https://localhost:8080/",
          "height": 928
        },
        "id": "PyRB9Z0ZKn-T",
        "outputId": "40a80ce0-2eda-4178-8c4a-13b3b0cdc49d"
      },
      "outputs": [
        {
          "name": "stdout",
          "output_type": "stream",
          "text": [
            "Score para BN Complement RandomOverSampler 0.6459343794579172\n",
            "              precision    recall  f1-score   support\n",
            "\n",
            "           1       0.29      0.51      0.37       160\n",
            "           2       0.12      0.24      0.16        62\n",
            "           3       0.09      0.20      0.13        93\n",
            "           4       0.10      0.25      0.15       269\n",
            "           5       0.93      0.71      0.81      2921\n",
            "\n",
            "    accuracy                           0.65      3505\n",
            "   macro avg       0.31      0.38      0.32      3505\n",
            "weighted avg       0.80      0.65      0.71      3505\n",
            "\n",
            "Reales       0    1    2    3     4   All\n",
            "Predichos                                \n",
            "0           82   26   23   11    18   160\n",
            "1           19   15   18    4     6    62\n",
            "2           27   13   19   17    17    93\n",
            "3           34   15   27   68   125   269\n",
            "4          117   55  114  555  2080  2921\n",
            "All        279  124  201  655  2246  3505\n"
          ]
        }
      ],
      "source": [
        "# Entrenamiento del modelo en el conjunto de entrenamiento sobremuestreado\n",
        "oversampler = RandomOverSampler(sampling_strategy='not majority', random_state=1)\n",
        "x_train_resampled2_cv, y_train_resampled2_cv = oversampler.fit_resample(x_train3, y_train)\n",
        "\n",
        "\n",
        "# Entrenamiento del modelo en el conjunto de entrenamiento sobremuestreado\n",
        "cnb1.fit(x_train_resampled2_cv, y_train_resampled2_cv)\n",
        "\n",
        "# Evalúa el modelo en el conjunto de prueba original\n",
        "print(f'Score para BN Complement RandomOverSampler {cnb1.score(x_test3, y_test)}')\n",
        "\n",
        "# Informe de clasificación\n",
        "y_pred = cnb1.predict(x_test3)\n",
        "etiquetas = ['1', '2', '3', '4', '5']\n",
        "print(classification_report(y_test, y_pred, target_names=etiquetas))\n",
        "\n",
        "# Tabla de contingencia\n",
        "tabla_cont = pd.crosstab(y_test, y_pred, rownames=['Predichos'], colnames=['Reales'], margins=True)\n",
        "print(tabla_cont)\n",
        "\n"
      ]
    },
    {
      "cell_type": "markdown",
      "metadata": {
        "id": "CutLRpba8nc2"
      },
      "source": [
        "## Redes Neuronales\n",
        "#### Se contruyen redes neuronales considerando sobremuestrear a las clases minoritarias y luego utilizando distintos pesos para cada clase"
      ]
    },
    {
      "cell_type": "code",
      "execution_count": 37,
      "metadata": {
        "id": "sX8GAjVy_ZGu"
      },
      "outputs": [],
      "source": [
        "vec = TfidfVectorizer(stop_words=stop_spanish, ngram_range=(1,3))\n",
        "x_train = vec.fit_transform(X_train_text)\n",
        "x_test = vec.transform(X_test_text)"
      ]
    },
    {
      "cell_type": "code",
      "execution_count": 38,
      "metadata": {
        "id": "uBS0eamF-gBx",
        "outputId": "63acd73f-0f45-46fe-b667-96ba6e1324cc"
      },
      "outputs": [
        {
          "name": "stdout",
          "output_type": "stream",
          "text": [
            "Epoch 1/100\n",
            "\u001b[1m881/881\u001b[0m \u001b[32m━━━━━━━━━━━━━━━━━━━━\u001b[0m\u001b[37m\u001b[0m \u001b[1m22s\u001b[0m 22ms/step - accuracy: 0.7629 - loss: 0.6913 - val_accuracy: 0.4432 - val_loss: 1.1748\n",
            "Epoch 2/100\n",
            "\u001b[1m881/881\u001b[0m \u001b[32m━━━━━━━━━━━━━━━━━━━━\u001b[0m\u001b[37m\u001b[0m \u001b[1m17s\u001b[0m 19ms/step - accuracy: 0.9411 - loss: 0.1651 - val_accuracy: 0.6556 - val_loss: 0.7913\n",
            "Epoch 3/100\n",
            "\u001b[1m881/881\u001b[0m \u001b[32m━━━━━━━━━━━━━━━━━━━━\u001b[0m\u001b[37m\u001b[0m \u001b[1m17s\u001b[0m 19ms/step - accuracy: 0.9548 - loss: 0.1230 - val_accuracy: 0.6748 - val_loss: 0.7229\n",
            "Epoch 4/100\n",
            "\u001b[1m881/881\u001b[0m \u001b[32m━━━━━━━━━━━━━━━━━━━━\u001b[0m\u001b[37m\u001b[0m \u001b[1m17s\u001b[0m 19ms/step - accuracy: 0.9590 - loss: 0.1090 - val_accuracy: 0.6781 - val_loss: 0.6918\n",
            "Epoch 5/100\n",
            "\u001b[1m881/881\u001b[0m \u001b[32m━━━━━━━━━━━━━━━━━━━━\u001b[0m\u001b[37m\u001b[0m \u001b[1m17s\u001b[0m 19ms/step - accuracy: 0.9595 - loss: 0.1046 - val_accuracy: 0.6758 - val_loss: 0.6785\n",
            "Epoch 6/100\n",
            "\u001b[1m881/881\u001b[0m \u001b[32m━━━━━━━━━━━━━━━━━━━━\u001b[0m\u001b[37m\u001b[0m \u001b[1m17s\u001b[0m 20ms/step - accuracy: 0.9593 - loss: 0.1019 - val_accuracy: 0.6731 - val_loss: 0.6609\n",
            "Epoch 7/100\n",
            "\u001b[1m881/881\u001b[0m \u001b[32m━━━━━━━━━━━━━━━━━━━━\u001b[0m\u001b[37m\u001b[0m \u001b[1m20s\u001b[0m 22ms/step - accuracy: 0.9598 - loss: 0.0998 - val_accuracy: 0.6700 - val_loss: 0.6562\n",
            "Epoch 8/100\n",
            "\u001b[1m881/881\u001b[0m \u001b[32m━━━━━━━━━━━━━━━━━━━━\u001b[0m\u001b[37m\u001b[0m \u001b[1m20s\u001b[0m 22ms/step - accuracy: 0.9603 - loss: 0.0982 - val_accuracy: 0.6680 - val_loss: 0.6528\n",
            "Epoch 9/100\n",
            "\u001b[1m881/881\u001b[0m \u001b[32m━━━━━━━━━━━━━━━━━━━━\u001b[0m\u001b[37m\u001b[0m \u001b[1m17s\u001b[0m 19ms/step - accuracy: 0.9606 - loss: 0.0970 - val_accuracy: 0.6632 - val_loss: 0.6532\n",
            "Epoch 10/100\n",
            "\u001b[1m881/881\u001b[0m \u001b[32m━━━━━━━━━━━━━━━━━━━━\u001b[0m\u001b[37m\u001b[0m \u001b[1m16s\u001b[0m 18ms/step - accuracy: 0.9601 - loss: 0.0962 - val_accuracy: 0.6656 - val_loss: 0.6527\n",
            "Epoch 11/100\n",
            "\u001b[1m881/881\u001b[0m \u001b[32m━━━━━━━━━━━━━━━━━━━━\u001b[0m\u001b[37m\u001b[0m \u001b[1m16s\u001b[0m 18ms/step - accuracy: 0.9604 - loss: 0.0953 - val_accuracy: 0.6654 - val_loss: 0.6479\n",
            "Epoch 12/100\n",
            "\u001b[1m881/881\u001b[0m \u001b[32m━━━━━━━━━━━━━━━━━━━━\u001b[0m\u001b[37m\u001b[0m \u001b[1m17s\u001b[0m 20ms/step - accuracy: 0.9604 - loss: 0.0944 - val_accuracy: 0.6619 - val_loss: 0.6420\n",
            "Epoch 13/100\n",
            "\u001b[1m881/881\u001b[0m \u001b[32m━━━━━━━━━━━━━━━━━━━━\u001b[0m\u001b[37m\u001b[0m \u001b[1m17s\u001b[0m 19ms/step - accuracy: 0.9611 - loss: 0.0936 - val_accuracy: 0.6653 - val_loss: 0.6317\n",
            "Epoch 14/100\n",
            "\u001b[1m881/881\u001b[0m \u001b[32m━━━━━━━━━━━━━━━━━━━━\u001b[0m\u001b[37m\u001b[0m \u001b[1m18s\u001b[0m 20ms/step - accuracy: 0.9619 - loss: 0.0930 - val_accuracy: 0.6673 - val_loss: 0.6323\n",
            "Epoch 15/100\n",
            "\u001b[1m881/881\u001b[0m \u001b[32m━━━━━━━━━━━━━━━━━━━━\u001b[0m\u001b[37m\u001b[0m \u001b[1m17s\u001b[0m 19ms/step - accuracy: 0.9616 - loss: 0.0926 - val_accuracy: 0.6781 - val_loss: 0.6205\n",
            "Epoch 16/100\n",
            "\u001b[1m881/881\u001b[0m \u001b[32m━━━━━━━━━━━━━━━━━━━━\u001b[0m\u001b[37m\u001b[0m \u001b[1m17s\u001b[0m 20ms/step - accuracy: 0.9617 - loss: 0.0921 - val_accuracy: 0.6836 - val_loss: 0.6200\n",
            "Epoch 17/100\n",
            "\u001b[1m881/881\u001b[0m \u001b[32m━━━━━━━━━━━━━━━━━━━━\u001b[0m\u001b[37m\u001b[0m \u001b[1m17s\u001b[0m 19ms/step - accuracy: 0.9619 - loss: 0.0917 - val_accuracy: 0.6881 - val_loss: 0.6199\n",
            "Epoch 18/100\n",
            "\u001b[1m881/881\u001b[0m \u001b[32m━━━━━━━━━━━━━━━━━━━━\u001b[0m\u001b[37m\u001b[0m \u001b[1m17s\u001b[0m 20ms/step - accuracy: 0.9615 - loss: 0.0914 - val_accuracy: 0.6832 - val_loss: 0.6331\n",
            "Epoch 19/100\n",
            "\u001b[1m881/881\u001b[0m \u001b[32m━━━━━━━━━━━━━━━━━━━━\u001b[0m\u001b[37m\u001b[0m \u001b[1m17s\u001b[0m 19ms/step - accuracy: 0.9622 - loss: 0.0909 - val_accuracy: 0.6732 - val_loss: 0.6258\n",
            "Epoch 20/100\n",
            "\u001b[1m881/881\u001b[0m \u001b[32m━━━━━━━━━━━━━━━━━━━━\u001b[0m\u001b[37m\u001b[0m \u001b[1m17s\u001b[0m 19ms/step - accuracy: 0.9620 - loss: 0.0905 - val_accuracy: 0.6846 - val_loss: 0.6129\n",
            "Epoch 21/100\n",
            "\u001b[1m881/881\u001b[0m \u001b[32m━━━━━━━━━━━━━━━━━━━━\u001b[0m\u001b[37m\u001b[0m \u001b[1m17s\u001b[0m 19ms/step - accuracy: 0.9623 - loss: 0.0899 - val_accuracy: 0.6830 - val_loss: 0.6001\n",
            "Epoch 22/100\n",
            "\u001b[1m881/881\u001b[0m \u001b[32m━━━━━━━━━━━━━━━━━━━━\u001b[0m\u001b[37m\u001b[0m \u001b[1m17s\u001b[0m 20ms/step - accuracy: 0.9621 - loss: 0.0896 - val_accuracy: 0.6772 - val_loss: 0.6045\n",
            "Epoch 23/100\n",
            "\u001b[1m881/881\u001b[0m \u001b[32m━━━━━━━━━━━━━━━━━━━━\u001b[0m\u001b[37m\u001b[0m \u001b[1m16s\u001b[0m 19ms/step - accuracy: 0.9625 - loss: 0.0892 - val_accuracy: 0.6742 - val_loss: 0.5920\n",
            "Epoch 24/100\n",
            "\u001b[1m881/881\u001b[0m \u001b[32m━━━━━━━━━━━━━━━━━━━━\u001b[0m\u001b[37m\u001b[0m \u001b[1m17s\u001b[0m 19ms/step - accuracy: 0.9624 - loss: 0.0894 - val_accuracy: 0.6774 - val_loss: 0.5893\n",
            "Epoch 25/100\n",
            "\u001b[1m881/881\u001b[0m \u001b[32m━━━━━━━━━━━━━━━━━━━━\u001b[0m\u001b[37m\u001b[0m \u001b[1m17s\u001b[0m 19ms/step - accuracy: 0.9619 - loss: 0.0896 - val_accuracy: 0.6785 - val_loss: 0.5907\n",
            "Epoch 26/100\n",
            "\u001b[1m881/881\u001b[0m \u001b[32m━━━━━━━━━━━━━━━━━━━━\u001b[0m\u001b[37m\u001b[0m \u001b[1m17s\u001b[0m 20ms/step - accuracy: 0.9619 - loss: 0.0894 - val_accuracy: 0.6839 - val_loss: 0.5952\n",
            "Epoch 27/100\n",
            "\u001b[1m881/881\u001b[0m \u001b[32m━━━━━━━━━━━━━━━━━━━━\u001b[0m\u001b[37m\u001b[0m \u001b[1m18s\u001b[0m 20ms/step - accuracy: 0.9620 - loss: 0.0895 - val_accuracy: 0.6906 - val_loss: 0.5926\n",
            "\u001b[1m110/110\u001b[0m \u001b[32m━━━━━━━━━━━━━━━━━━━━\u001b[0m\u001b[37m\u001b[0m \u001b[1m1s\u001b[0m 5ms/step - accuracy: 0.7848 - loss: 1.5364\n",
            "Precisión en el conjunto de prueba: 0.7874464988708496\n",
            "\u001b[1m110/110\u001b[0m \u001b[32m━━━━━━━━━━━━━━━━━━━━\u001b[0m\u001b[37m\u001b[0m \u001b[1m1s\u001b[0m 5ms/step\n",
            "              precision    recall  f1-score   support\n",
            "\n",
            "           1       0.35      0.42      0.38       160\n",
            "           2       0.12      0.15      0.13        62\n",
            "           3       0.12      0.18      0.14        93\n",
            "           4       0.16      0.10      0.12       269\n",
            "           5       0.90      0.90      0.90      2921\n",
            "\n",
            "    accuracy                           0.79      3505\n",
            "   macro avg       0.33      0.35      0.34      3505\n",
            "weighted avg       0.78      0.79      0.78      3505\n",
            "\n",
            "Reales       0   1    2    3     4   All\n",
            "Predichos                               \n",
            "0           67  24   14   11    44   160\n",
            "1           25   9   12    4    12    62\n",
            "2           21  10   17   10    35    93\n",
            "3           21   7   15   26   200   269\n",
            "4           57  24   86  113  2641  2921\n",
            "All        191  74  144  164  2932  3505\n"
          ]
        }
      ],
      "source": [
        "## Se utiliza early stopping para intentar evitar el sobreajuste\n",
        "\n",
        "# Convertir matrices dispersas en matrices densas \n",
        "x_train = x_train.toarray()\n",
        "x_test = x_test.toarray()\n",
        "\n",
        "# Realiza el sobremuestreo solo en el conjunto de entrenamiento\n",
        "oversampler = RandomOverSampler(sampling_strategy='not minority', random_state=1)\n",
        "X_train_resampled, y_train_resampled = oversampler.fit_resample(x_train, y_train)\n",
        "\n",
        "# se especifica una semilla para la inicializacion de los pesos de la red (puede tener un componente aleatorio)\n",
        "np.random.seed(1)\n",
        "tf.random.set_seed(1)\n",
        "\n",
        "\n",
        "# Define el modelo de la red neuronal\n",
        "model = keras.Sequential([\n",
        "    keras.layers.Input(shape=(X_train_resampled.shape[1],)),\n",
        "    keras.layers.Dense(128, activation='relu'),\n",
        "    keras.layers.Dense(64, activation='relu'),\n",
        "    keras.layers.Dense(5, activation='softmax')\n",
        "])\n",
        "\n",
        "# Compila el modelo\n",
        "model.compile(optimizer='adam', loss='sparse_categorical_crossentropy', metrics=['accuracy'])\n",
        "\n",
        "# Define EarlyStopping\n",
        "early_stopping = EarlyStopping(monitor='val_loss', patience=3, restore_best_weights=True)\n",
        "\n",
        "# Entrena el modelo con el conjunto de entrenamiento sobremuestreado y EarlyStopping\n",
        "model.fit(X_train_resampled, y_train_resampled, epochs=100, batch_size=32, validation_split=0.2, callbacks=[early_stopping])\n",
        "\n",
        "# Evalúa el modelo en el conjunto de prueba original\n",
        "test_loss, test_acc = model.evaluate(x_test, y_test)\n",
        "print(f'Precisión en el conjunto de prueba: {test_acc}')\n",
        "\n",
        "# Informe de clasificación\n",
        "y_pred_probs = model.predict(x_test)\n",
        "y_pred = np.argmax(y_pred_probs, axis=1)\n",
        "\n",
        "etiquetas = ['1', '2', '3', '4', '5']\n",
        "print(classification_report(y_test, y_pred, target_names=etiquetas))\n",
        "\n",
        "# Tabla de contingencia\n",
        "tabla_cont = pd.crosstab(y_test, y_pred, rownames=['Predichos'], colnames=['Reales'], margins=True)\n",
        "print(tabla_cont)\n",
        "\n"
      ]
    },
    {
      "cell_type": "code",
      "execution_count": 39,
      "metadata": {
        "id": "78Qm1ZT-6NKy",
        "outputId": "e6e88bd3-c21c-462f-d435-cf68698db19a"
      },
      "outputs": [
        {
          "name": "stdout",
          "output_type": "stream",
          "text": [
            "Epoch 1/100\n",
            "\u001b[1m881/881\u001b[0m \u001b[32m━━━━━━━━━━━━━━━━━━━━\u001b[0m\u001b[37m\u001b[0m \u001b[1m23s\u001b[0m 22ms/step - accuracy: 0.8271 - loss: 0.6235 - val_accuracy: 0.3614 - val_loss: 1.1441\n",
            "Epoch 2/100\n",
            "\u001b[1m881/881\u001b[0m \u001b[32m━━━━━━━━━━━━━━━━━━━━\u001b[0m\u001b[37m\u001b[0m \u001b[1m17s\u001b[0m 19ms/step - accuracy: 0.9423 - loss: 0.1541 - val_accuracy: 0.5986 - val_loss: 0.7729\n",
            "Epoch 3/100\n",
            "\u001b[1m881/881\u001b[0m \u001b[32m━━━━━━━━━━━━━━━━━━━━\u001b[0m\u001b[37m\u001b[0m \u001b[1m17s\u001b[0m 19ms/step - accuracy: 0.9574 - loss: 0.1114 - val_accuracy: 0.6635 - val_loss: 0.6575\n",
            "Epoch 4/100\n",
            "\u001b[1m881/881\u001b[0m \u001b[32m━━━━━━━━━━━━━━━━━━━━\u001b[0m\u001b[37m\u001b[0m \u001b[1m17s\u001b[0m 19ms/step - accuracy: 0.9633 - loss: 0.0954 - val_accuracy: 0.6869 - val_loss: 0.6038\n",
            "Epoch 5/100\n",
            "\u001b[1m881/881\u001b[0m \u001b[32m━━━━━━━━━━━━━━━━━━━━\u001b[0m\u001b[37m\u001b[0m \u001b[1m17s\u001b[0m 19ms/step - accuracy: 0.9653 - loss: 0.0898 - val_accuracy: 0.7026 - val_loss: 0.5610\n",
            "Epoch 6/100\n",
            "\u001b[1m881/881\u001b[0m \u001b[32m━━━━━━━━━━━━━━━━━━━━\u001b[0m\u001b[37m\u001b[0m \u001b[1m20s\u001b[0m 22ms/step - accuracy: 0.9669 - loss: 0.0862 - val_accuracy: 0.6998 - val_loss: 0.5445\n",
            "Epoch 7/100\n",
            "\u001b[1m881/881\u001b[0m \u001b[32m━━━━━━━━━━━━━━━━━━━━\u001b[0m\u001b[37m\u001b[0m \u001b[1m20s\u001b[0m 23ms/step - accuracy: 0.9678 - loss: 0.0832 - val_accuracy: 0.7080 - val_loss: 0.5187\n",
            "Epoch 8/100\n",
            "\u001b[1m881/881\u001b[0m \u001b[32m━━━━━━━━━━━━━━━━━━━━\u001b[0m\u001b[37m\u001b[0m \u001b[1m19s\u001b[0m 21ms/step - accuracy: 0.9682 - loss: 0.0811 - val_accuracy: 0.7100 - val_loss: 0.5183\n",
            "Epoch 9/100\n",
            "\u001b[1m881/881\u001b[0m \u001b[32m━━━━━━━━━━━━━━━━━━━━\u001b[0m\u001b[37m\u001b[0m \u001b[1m17s\u001b[0m 20ms/step - accuracy: 0.9692 - loss: 0.0788 - val_accuracy: 0.7137 - val_loss: 0.5118\n",
            "Epoch 10/100\n",
            "\u001b[1m881/881\u001b[0m \u001b[32m━━━━━━━━━━━━━━━━━━━━\u001b[0m\u001b[37m\u001b[0m \u001b[1m17s\u001b[0m 19ms/step - accuracy: 0.9701 - loss: 0.0775 - val_accuracy: 0.7114 - val_loss: 0.5300\n",
            "Epoch 11/100\n",
            "\u001b[1m881/881\u001b[0m \u001b[32m━━━━━━━━━━━━━━━━━━━━\u001b[0m\u001b[37m\u001b[0m \u001b[1m17s\u001b[0m 20ms/step - accuracy: 0.9704 - loss: 0.0759 - val_accuracy: 0.7133 - val_loss: 0.5279\n",
            "Epoch 12/100\n",
            "\u001b[1m881/881\u001b[0m \u001b[32m━━━━━━━━━━━━━━━━━━━━\u001b[0m\u001b[37m\u001b[0m \u001b[1m20s\u001b[0m 22ms/step - accuracy: 0.9710 - loss: 0.0744 - val_accuracy: 0.7225 - val_loss: 0.5087\n",
            "Epoch 13/100\n",
            "\u001b[1m881/881\u001b[0m \u001b[32m━━━━━━━━━━━━━━━━━━━━\u001b[0m\u001b[37m\u001b[0m \u001b[1m19s\u001b[0m 21ms/step - accuracy: 0.9714 - loss: 0.0732 - val_accuracy: 0.7270 - val_loss: 0.5055\n",
            "Epoch 14/100\n",
            "\u001b[1m881/881\u001b[0m \u001b[32m━━━━━━━━━━━━━━━━━━━━\u001b[0m\u001b[37m\u001b[0m \u001b[1m18s\u001b[0m 20ms/step - accuracy: 0.9723 - loss: 0.0723 - val_accuracy: 0.7354 - val_loss: 0.4935\n",
            "Epoch 15/100\n",
            "\u001b[1m881/881\u001b[0m \u001b[32m━━━━━━━━━━━━━━━━━━━━\u001b[0m\u001b[37m\u001b[0m \u001b[1m18s\u001b[0m 20ms/step - accuracy: 0.9733 - loss: 0.0716 - val_accuracy: 0.7453 - val_loss: 0.4807\n",
            "Epoch 16/100\n",
            "\u001b[1m881/881\u001b[0m \u001b[32m━━━━━━━━━━━━━━━━━━━━\u001b[0m\u001b[37m\u001b[0m \u001b[1m17s\u001b[0m 20ms/step - accuracy: 0.9731 - loss: 0.0707 - val_accuracy: 0.7435 - val_loss: 0.4874\n",
            "Epoch 17/100\n",
            "\u001b[1m881/881\u001b[0m \u001b[32m━━━━━━━━━━━━━━━━━━━━\u001b[0m\u001b[37m\u001b[0m \u001b[1m18s\u001b[0m 20ms/step - accuracy: 0.9733 - loss: 0.0701 - val_accuracy: 0.7516 - val_loss: 0.4736\n",
            "Epoch 18/100\n",
            "\u001b[1m881/881\u001b[0m \u001b[32m━━━━━━━━━━━━━━━━━━━━\u001b[0m\u001b[37m\u001b[0m \u001b[1m17s\u001b[0m 20ms/step - accuracy: 0.9740 - loss: 0.0692 - val_accuracy: 0.7499 - val_loss: 0.4692\n",
            "Epoch 19/100\n",
            "\u001b[1m881/881\u001b[0m \u001b[32m━━━━━━━━━━━━━━━━━━━━\u001b[0m\u001b[37m\u001b[0m \u001b[1m17s\u001b[0m 20ms/step - accuracy: 0.9741 - loss: 0.0683 - val_accuracy: 0.7503 - val_loss: 0.4689\n",
            "Epoch 20/100\n",
            "\u001b[1m881/881\u001b[0m \u001b[32m━━━━━━━━━━━━━━━━━━━━\u001b[0m\u001b[37m\u001b[0m \u001b[1m17s\u001b[0m 20ms/step - accuracy: 0.9741 - loss: 0.0677 - val_accuracy: 0.7507 - val_loss: 0.4768\n",
            "Epoch 21/100\n",
            "\u001b[1m881/881\u001b[0m \u001b[32m━━━━━━━━━━━━━━━━━━━━\u001b[0m\u001b[37m\u001b[0m \u001b[1m18s\u001b[0m 20ms/step - accuracy: 0.9745 - loss: 0.0671 - val_accuracy: 0.7456 - val_loss: 0.4754\n",
            "Epoch 22/100\n",
            "\u001b[1m881/881\u001b[0m \u001b[32m━━━━━━━━━━━━━━━━━━━━\u001b[0m\u001b[37m\u001b[0m \u001b[1m19s\u001b[0m 22ms/step - accuracy: 0.9746 - loss: 0.0668 - val_accuracy: 0.7445 - val_loss: 0.4794\n",
            "\u001b[1m110/110\u001b[0m \u001b[32m━━━━━━━━━━━━━━━━━━━━\u001b[0m\u001b[37m\u001b[0m \u001b[1m1s\u001b[0m 5ms/step - accuracy: 0.7722 - loss: 1.7124\n",
            "Precisión en el conjunto de prueba: 0.7711840271949768\n",
            "\u001b[1m110/110\u001b[0m \u001b[32m━━━━━━━━━━━━━━━━━━━━\u001b[0m\u001b[37m\u001b[0m \u001b[1m1s\u001b[0m 5ms/step\n",
            "              precision    recall  f1-score   support\n",
            "\n",
            "           1       0.34      0.46      0.39       160\n",
            "           2       0.13      0.08      0.10        62\n",
            "           3       0.12      0.22      0.15        93\n",
            "           4       0.13      0.13      0.13       269\n",
            "           5       0.91      0.88      0.89      2921\n",
            "\n",
            "    accuracy                           0.77      3505\n",
            "   macro avg       0.33      0.35      0.33      3505\n",
            "weighted avg       0.79      0.77      0.78      3505\n",
            "\n",
            "Reales       0   1    2    3     4   All\n",
            "Predichos                               \n",
            "0           73  10   24   20    33   160\n",
            "1           26   5   18    5     8    62\n",
            "2           24   7   20   12    30    93\n",
            "3           23   6   19   34   187   269\n",
            "4           67  11   90  182  2571  2921\n",
            "All        213  39  171  253  2829  3505\n"
          ]
        }
      ],
      "source": [
        "# Realizar el sobremuestreo solo en el conjunto de entrenamiento utilizando SMOTE\n",
        "smote = SMOTE(sampling_strategy='not minority', random_state=1)\n",
        "X_train_resampled, y_train_resampled = smote.fit_resample(x_train, y_train)\n",
        "\n",
        "np.random.seed(1)\n",
        "tf.random.set_seed(1)\n",
        "\n",
        "# Define el modelo de la red neuronal\n",
        "model = keras.Sequential([\n",
        "    keras.layers.Input(shape=(X_train_resampled.shape[1],)),\n",
        "    keras.layers.Dense(128, activation='relu'),\n",
        "    keras.layers.Dense(64, activation='relu'),\n",
        "    keras.layers.Dense(5, activation='softmax')\n",
        "])\n",
        "\n",
        "# Compila el modelo\n",
        "model.compile(optimizer='adam', loss='sparse_categorical_crossentropy', metrics=['accuracy'])\n",
        "\n",
        "# Define EarlyStopping\n",
        "early_stopping = EarlyStopping(monitor='val_loss', patience=3, restore_best_weights=True)\n",
        "\n",
        "# Entrena el modelo con el conjunto de entrenamiento sobremuestreado y EarlyStopping\n",
        "model.fit(X_train_resampled, y_train_resampled, epochs=100, batch_size=32, validation_split=0.2, callbacks=[early_stopping])\n",
        "\n",
        "# Evalúa el modelo en el conjunto de prueba original\n",
        "test_loss, test_acc = model.evaluate(x_test, y_test)\n",
        "print(f'Precisión en el conjunto de prueba: {test_acc}')\n",
        "\n",
        "# Informe de clasificación\n",
        "y_pred_probs = model.predict(x_test)\n",
        "y_pred = np.argmax(y_pred_probs, axis=1)\n",
        "\n",
        "etiquetas = ['1', '2', '3', '4', '5']\n",
        "print(classification_report(y_test, y_pred, target_names=etiquetas))\n",
        "\n",
        "# Tabla de contingencia\n",
        "tabla_cont = pd.crosstab(y_test, y_pred, rownames=['Predichos'], colnames=['Reales'], margins=True)\n",
        "print(tabla_cont)\n",
        "\n"
      ]
    },
    {
      "cell_type": "code",
      "execution_count": 40,
      "metadata": {
        "id": "_fGCIxin4yGt",
        "outputId": "e5166c98-f116-4d9c-e24c-fe9c66568dd5"
      },
      "outputs": [
        {
          "name": "stdout",
          "output_type": "stream",
          "text": [
            "Epoch 1/200\n",
            "\u001b[1m263/263\u001b[0m \u001b[32m━━━━━━━━━━━━━━━━━━━━\u001b[0m\u001b[37m\u001b[0m \u001b[1m8s\u001b[0m 23ms/step - accuracy: 0.7731 - loss: 0.4189 - val_accuracy: 0.6952 - val_loss: 0.3343\n",
            "Epoch 2/200\n",
            "\u001b[1m263/263\u001b[0m \u001b[32m━━━━━━━━━━━━━━━━━━━━\u001b[0m\u001b[37m\u001b[0m \u001b[1m5s\u001b[0m 21ms/step - accuracy: 0.8243 - loss: 0.2801 - val_accuracy: 0.6505 - val_loss: 0.3484\n",
            "Epoch 3/200\n",
            "\u001b[1m263/263\u001b[0m \u001b[32m━━━━━━━━━━━━━━━━━━━━\u001b[0m\u001b[37m\u001b[0m \u001b[1m6s\u001b[0m 22ms/step - accuracy: 0.8749 - loss: 0.1651 - val_accuracy: 0.6576 - val_loss: 0.4090\n",
            "Epoch 4/200\n",
            "\u001b[1m263/263\u001b[0m \u001b[32m━━━━━━━━━━━━━━━━━━━━\u001b[0m\u001b[37m\u001b[0m \u001b[1m6s\u001b[0m 23ms/step - accuracy: 0.9159 - loss: 0.0990 - val_accuracy: 0.6681 - val_loss: 0.4638\n",
            "\u001b[1m110/110\u001b[0m \u001b[32m━━━━━━━━━━━━━━━━━━━━\u001b[0m\u001b[37m\u001b[0m \u001b[1m1s\u001b[0m 6ms/step - accuracy: 0.7434 - loss: 0.7578\n",
            "Precisión en el conjunto de prueba: 0.7332382202148438\n",
            "\u001b[1m110/110\u001b[0m \u001b[32m━━━━━━━━━━━━━━━━━━━━\u001b[0m\u001b[37m\u001b[0m \u001b[1m1s\u001b[0m 5ms/step\n",
            "              precision    recall  f1-score   support\n",
            "\n",
            "           1       0.30      0.88      0.45       160\n",
            "           2       0.00      0.00      0.00        62\n",
            "           3       0.00      0.00      0.00        93\n",
            "           4       0.12      0.21      0.15       269\n",
            "           5       0.93      0.81      0.87      2921\n",
            "\n",
            "    accuracy                           0.73      3505\n",
            "   macro avg       0.27      0.38      0.29      3505\n",
            "weighted avg       0.79      0.73      0.75      3505\n",
            "\n",
            "Reales       0    3     4   All\n",
            "Predichos                      \n",
            "0          140    9    11   160\n",
            "1           52    4     6    62\n",
            "2           49   28    16    93\n",
            "3           55   57   157   269\n",
            "4          170  378  2373  2921\n",
            "All        466  476  2563  3505\n"
          ]
        }
      ],
      "source": [
        "# Asignar pesos a las clases minoritarias\n",
        "class_weights = {\n",
        "    0: 1.0,\n",
        "    1: 1.0,\n",
        "    2: 1.0,\n",
        "    3: 1.0,\n",
        "    4: 0.17\n",
        "}\n",
        "\n",
        "# Convertir las matrices dispersas a arrays NumPy densos\n",
        "#x_train = x_train.toarray()\n",
        "# = x_test.toarray()\n",
        "\n",
        "np.random.seed(1)\n",
        "tf.random.set_seed(1)\n",
        "\n",
        "\n",
        "# Define el modelo de la red neuronal\n",
        "model = keras.Sequential([\n",
        "    keras.layers.Input(shape=(x_train.shape[1],)),\n",
        "    keras.layers.Dense(128, activation='relu'),\n",
        "    keras.layers.Dense(64, activation='relu'),\n",
        "    keras.layers.Dense(5, activation='softmax')\n",
        "])\n",
        "\n",
        "# Compila el modelo con pesos de clase\n",
        "\n",
        "model.compile(\n",
        "    optimizer='adam',\n",
        "    loss='sparse_categorical_crossentropy',\n",
        "    metrics=['accuracy']\n",
        ")\n",
        "\n",
        "# Define EarlyStopping\n",
        "early_stopping = EarlyStopping(monitor='val_loss', patience=3, restore_best_weights=True)\n",
        "\n",
        "# Entrena el modelo\n",
        "model.fit(x_train, y_train, epochs=200, batch_size=32, sample_weight=np.array([class_weights[c] for c in y_train]), validation_split=0.2, callbacks=[early_stopping] )\n",
        "\n",
        "# Evalúa el modelo en el conjunto de prueba\n",
        "test_loss, test_acc = model.evaluate(x_test, y_test)\n",
        "print(f'Precisión en el conjunto de prueba: {test_acc}')\n",
        "\n",
        "# Informe de clasificación\n",
        "y_pred_probs = model.predict(x_test)\n",
        "y_pred = np.argmax(y_pred_probs, axis=1)\n",
        "\n",
        "etiquetas = ['1', '2', '3', '4', '5']\n",
        "print(classification_report(y_test, y_pred, target_names=etiquetas))\n",
        "\n",
        "# Tabla de contingencia\n",
        "tabla_cont = pd.crosstab(y_test, y_pred, rownames=['Predichos'], colnames=['Reales'], margins=True)\n",
        "print(tabla_cont)\n",
        "\n"
      ]
    },
    {
      "cell_type": "markdown",
      "metadata": {
        "id": "qXKb_cYvUn8f"
      },
      "source": [
        "# Regresión Logística"
      ]
    },
    {
      "cell_type": "code",
      "execution_count": 41,
      "metadata": {
        "id": "Q0ltd0qRGjcM",
        "outputId": "1617df2d-a222-41cf-880c-d33e49f2b14a"
      },
      "outputs": [
        {
          "name": "stdout",
          "output_type": "stream",
          "text": [
            "Precisión en el conjunto de prueba (con pesos de clases): 0.8427960057061341\n",
            "              precision    recall  f1-score   support\n",
            "\n",
            "           1       0.53      0.21      0.30       160\n",
            "           2       0.00      0.00      0.00        62\n",
            "           3       0.31      0.04      0.08        93\n",
            "           4       0.18      0.01      0.01       269\n",
            "           5       0.85      1.00      0.92      2921\n",
            "\n",
            "    accuracy                           0.84      3505\n",
            "   macro avg       0.37      0.25      0.26      3505\n",
            "weighted avg       0.76      0.84      0.78      3505\n",
            "\n",
            "Reales      0   2   3     4   All\n",
            "Predichos                        \n",
            "0          34   1   0   125   160\n",
            "1          11   6   1    44    62\n",
            "2           5   4   7    77    93\n",
            "3           8   2   2   257   269\n",
            "4           6   0   1  2914  2921\n",
            "All        64  13  11  3417  3505\n"
          ]
        }
      ],
      "source": [
        "# Define el modelo de regresión logística\n",
        "logreg = LogisticRegression(max_iter=200)\n",
        "\n",
        "# Entrena el modelo\n",
        "logreg.fit(x_train, y_train)\n",
        "\n",
        "# Evalúa el modelo en el conjunto de prueba\n",
        "test_acc = logreg.score(x_test, y_test)\n",
        "print(f'Precisión en el conjunto de prueba (con pesos de clases): {test_acc}')\n",
        "\n",
        "# Informe de clasificación\n",
        "y_pred = logreg.predict(x_test)\n",
        "etiquetas = ['1', '2', '3', '4', '5']\n",
        "print(classification_report(y_test, y_pred, target_names=etiquetas))\n",
        "\n",
        "# Tabla de contingencia\n",
        "tabla_cont = pd.crosstab(y_test, y_pred, rownames=['Predichos'], colnames=['Reales'], margins=True)\n",
        "print(tabla_cont)\n",
        "\n",
        "\n"
      ]
    },
    {
      "cell_type": "code",
      "execution_count": 42,
      "metadata": {
        "id": "YgY0u-QyicM4",
        "outputId": "a309fd91-c8c9-41e2-c33b-e4ed5880044c"
      },
      "outputs": [
        {
          "name": "stdout",
          "output_type": "stream",
          "text": [
            "Precisión en el conjunto de prueba (con pesos de clases): 0.8108416547788873\n",
            "              precision    recall  f1-score   support\n",
            "\n",
            "           1       0.43      0.53      0.47       160\n",
            "           2       0.33      0.02      0.03        62\n",
            "           3       0.25      0.06      0.10        93\n",
            "           4       0.12      0.10      0.11       269\n",
            "           5       0.89      0.93      0.91      2921\n",
            "\n",
            "    accuracy                           0.81      3505\n",
            "   macro avg       0.40      0.33      0.33      3505\n",
            "weighted avg       0.78      0.81      0.79      3505\n",
            "\n",
            "Reales       0  1   2    3     4   All\n",
            "Predichos                             \n",
            "0           84  0   5   14    57   160\n",
            "1           29  1   8    5    19    62\n",
            "2           18  1   6   20    48    93\n",
            "3           24  0   2   27   216   269\n",
            "4           42  1   3  151  2724  2921\n",
            "All        197  3  24  217  3064  3505\n"
          ]
        }
      ],
      "source": [
        "# Utilizando pesos de clases\n",
        "# Define el modelo de regresión logística\n",
        "logreg2 = LogisticRegression(class_weight=class_weights, max_iter=200)\n",
        "\n",
        "# Entrena el modelo\n",
        "logreg2.fit(x_train, y_train)\n",
        "\n",
        "# Evalúa el modelo en el conjunto de prueba\n",
        "test_acc = logreg2.score(x_test, y_test)\n",
        "print(f'Precisión en el conjunto de prueba (con pesos de clases): {test_acc}')\n",
        "\n",
        "# Informe de clasificación\n",
        "y_pred = logreg2.predict(x_test)\n",
        "etiquetas = ['1', '2', '3', '4', '5']\n",
        "print(classification_report(y_test, y_pred, target_names=etiquetas))\n",
        "\n",
        "# Tabla de contingencia\n",
        "tabla_cont = pd.crosstab(y_test, y_pred, rownames=['Predichos'], colnames=['Reales'], margins=True)\n",
        "print(tabla_cont)\n",
        "\n"
      ]
    },
    {
      "cell_type": "markdown",
      "metadata": {
        "id": "g8LrutfnraZJ"
      },
      "source": [
        "Luego de entrenar varios modelos y evaluar sus métricas se llega a la conclusión de que podría mejorarse el rendimiento. Se procede a recategorizar la variable Estrellas, agrupando las categorías 1 y 2, que al ser las más bajas interesan de manera conjunta para el problema que se intenta resolver."
      ]
    },
    {
      "cell_type": "code",
      "execution_count": 48,
      "metadata": {
        "id": "nK-40QZ5rlzy",
        "outputId": "d29528cd-39c2-4d72-f00b-60ae2d364261"
      },
      "outputs": [
        {
          "name": "stdout",
          "output_type": "stream",
          "text": [
            "5    0.833381\n",
            "4    0.076748\n",
            "1    0.063267\n",
            "3    0.026605\n",
            "Name: Estrellas, dtype: float64\n"
          ]
        },
        {
          "data": {
            "image/png": "[encoded data removed]",
            "text/plain": [
              "<Figure size 640x480 with 1 Axes>"
            ]
          },
          "metadata": {},
          "output_type": "display_data"
        }
      ],
      "source": [
        "# Agrupa las categorías 1 y 2 y las asigna a categoría 1\n",
        "df['Estrellas'] = df['Estrellas'].apply(lambda Y: 1 if Y in [1, 2] else int(Y))\n",
        "df['Estrellas'].value_counts()\n",
        "\n",
        "df['Estrellas'].value_counts().plot(kind='bar', title='Histograma de distribución de clases')\n",
        "print(df['Estrellas'].value_counts() / len(df))\n",
        "\n",
        "\n"
      ]
    },
    {
      "cell_type": "code",
      "execution_count": 49,
      "metadata": {
        "id": "8FSY6GHExkVJ",
        "outputId": "fc846c6f-d7c7-4f10-fabf-4e735ca8fc97"
      },
      "outputs": [
        {
          "data": {
            "text/plain": [
              "dtype('int64')"
            ]
          },
          "execution_count": 49,
          "metadata": {},
          "output_type": "execute_result"
        }
      ],
      "source": [
        "df['Estrellas'].dtype"
      ]
    },
    {
      "cell_type": "code",
      "execution_count": 50,
      "metadata": {
        "id": "4yp0MCxntKzD",
        "outputId": "08b5aa81-42e0-442b-b344-3d2590ed94c8"
      },
      "outputs": [
        {
          "name": "stdout",
          "output_type": "stream",
          "text": [
            "<class 'pandas.core.series.Series'>\n"
          ]
        }
      ],
      "source": [
        "Y, X = df['Estrellas'], df['Título']\n",
        "X = X.apply(lemmatizar_y_limpiar)\n",
        "\n",
        "le = LabelEncoder()\n",
        "y = le.fit_transform(Y)\n",
        "X_train_text, X_test_text, y_train, y_test = train_test_split(X, y, stratify=y, random_state=1)\n",
        "print(type(X_train_text))"
      ]
    },
    {
      "cell_type": "code",
      "execution_count": 51,
      "metadata": {
        "id": "SRZGMBvtzQAs"
      },
      "outputs": [],
      "source": [
        "vec = TfidfVectorizer(stop_words=stop_spanish, ngram_range=(1,1))\n",
        "x_train = vec.fit_transform(X_train_text)\n",
        "x_test = vec.transform(X_test_text)"
      ]
    },
    {
      "cell_type": "markdown",
      "metadata": {
        "id": "0Hy8Y3Es1CNg"
      },
      "source": [
        "CountVectorizer y Bernoulli"
      ]
    },
    {
      "cell_type": "code",
      "execution_count": 52,
      "metadata": {
        "id": "znfFOPPL078k",
        "outputId": "8ac904f5-a485-45c4-a2f0-4098e0855a17"
      },
      "outputs": [
        {
          "name": "stdout",
          "output_type": "stream",
          "text": [
            "Score para BN Bernoulli 0.8342368045649072\n",
            "0.0339335658367866\n",
            "0.026146066810453793\n",
            "<class 'scipy.sparse._csr.csr_matrix'>\n",
            "              precision    recall  f1-score   support\n",
            "\n",
            "           1       1.00      0.01      0.03       222\n",
            "           3       0.00      0.00      0.00        93\n",
            "           4       0.00      0.00      0.00       269\n",
            "           5       0.83      1.00      0.91      2921\n",
            "\n",
            "    accuracy                           0.83      3505\n",
            "   macro avg       0.46      0.25      0.23      3505\n",
            "weighted avg       0.76      0.83      0.76      3505\n",
            "\n",
            "Reales     0     3   All\n",
            "Predichos               \n",
            "0          3   219   222\n",
            "1          0    93    93\n",
            "2          0   269   269\n",
            "3          0  2921  2921\n",
            "All        3  3502  3505\n"
          ]
        }
      ],
      "source": [
        "vec1 = CountVectorizer(stop_words=stop_spanish, binary=True, ngram_range=(1,3))\n",
        "x_train1 = vec1.fit_transform(X_train_text)\n",
        "x_test1 = vec1.transform(X_test_text)\n",
        "bnb1 = BernoulliNB_sk()\n",
        "bnb1.fit(x_train1, y_train)\n",
        "print(f'Score para BN Bernoulli {bnb1.score(x_test1, y_test)}')\n",
        "\n",
        "# Imprimir esparcidad del train y test\n",
        "print(x_train1.nnz / (x_train1.shape[0] * x_train1.shape[1])*100)\n",
        "print(x_test1.nnz / (x_test1.shape[0] * x_test1.shape[1])*100)\n",
        "print(type(x_train1))\n",
        "\n",
        "# Informe de clasificación\n",
        "y_pred = bnb1.predict(x_test1)\n",
        "etiquetas = ['1', '3', '4', '5']\n",
        "print(classification_report(y_test, y_pred, target_names=etiquetas))\n",
        "\n",
        "# Tabla de contingencia\n",
        "tabla_cont = pd.crosstab(y_test, y_pred, rownames=['Predichos'], colnames=['Reales'], margins=True)\n",
        "print(tabla_cont)\n",
        "\n"
      ]
    },
    {
      "cell_type": "code",
      "execution_count": 53,
      "metadata": {
        "id": "RJKY-RyT1Vyl",
        "outputId": "40129877-8f01-4923-cece-724c325aab77"
      },
      "outputs": [
        {
          "name": "stdout",
          "output_type": "stream",
          "text": [
            "Score para BN Bernoulli con pesos 0.83509272467903\n",
            "              precision    recall  f1-score   support\n",
            "\n",
            "           1       0.64      0.03      0.06       222\n",
            "           3       0.00      0.00      0.00        93\n",
            "           4       0.00      0.00      0.00       269\n",
            "           5       0.84      1.00      0.91      2921\n",
            "\n",
            "    accuracy                           0.84      3505\n",
            "   macro avg       0.37      0.26      0.24      3505\n",
            "weighted avg       0.74      0.84      0.76      3505\n",
            "\n",
            "Reales      0  2     3   All\n",
            "Predichos                   \n",
            "0           7  1   214   222\n",
            "1           2  0    91    93\n",
            "2           1  0   268   269\n",
            "3           1  0  2920  2921\n",
            "All        11  1  3493  3505\n"
          ]
        }
      ],
      "source": [
        "# Definir los pesos de clase\n",
        "class_weights = {\n",
        "    0: 1.0,\n",
        "    1: 1.0,\n",
        "    2: 1.0,\n",
        "    3: 0.17\n",
        "}\n",
        "\n",
        "# Calcular las probabilidades a priori a partir de los pesos de clase\n",
        "class_priors = [class_weights[i] / sum(class_weights.values()) for i in range(len(class_weights))]\n",
        "\n",
        "# Crear el clasificador Bernoulli Naive Bayes con pesos de clase\n",
        "bnb2 = BernoulliNB_sk(class_prior=class_priors, fit_prior=False)\n",
        "\n",
        "# Entrenar el modelo\n",
        "bnb2.fit(x_train1, y_train)\n",
        "\n",
        "# Evaluar el modelo en el conjunto de prueba\n",
        "print(f'Score para BN Bernoulli con pesos {bnb2.score(x_test1, y_test)}')\n",
        "\n",
        "# Informe de clasificación\n",
        "y_pred = bnb2.predict(x_test1)\n",
        "etiquetas = ['1', '3', '4', '5']\n",
        "print(classification_report(y_test, y_pred, target_names=etiquetas))\n",
        "\n",
        "# Tabla de contingencia\n",
        "tabla_cont = pd.crosstab(y_test, y_pred, rownames=['Predichos'], colnames=['Reales'], margins=True)\n",
        "print(tabla_cont)\n",
        "\n"
      ]
    },
    {
      "cell_type": "code",
      "execution_count": 54,
      "metadata": {
        "id": "hSQD19p6W8mk",
        "outputId": "5a4148c3-da02-46a8-f4aa-516724afdbb2"
      },
      "outputs": [
        {
          "name": "stdout",
          "output_type": "stream",
          "text": [
            "Score para BN Bernoulli con oversampling SMOTE 0.5209700427960057\n",
            "              precision    recall  f1-score   support\n",
            "\n",
            "           1       0.40      0.68      0.50       222\n",
            "           3       0.07      0.25      0.11        93\n",
            "           4       0.08      0.34      0.13       269\n",
            "           5       0.92      0.53      0.68      2921\n",
            "\n",
            "    accuracy                           0.52      3505\n",
            "   macro avg       0.37      0.45      0.35      3505\n",
            "weighted avg       0.80      0.52      0.61      3505\n",
            "\n",
            "Reales       0    1     2     3   All\n",
            "Predichos                            \n",
            "0          150   36    10    26   222\n",
            "1           36   23    21    13    93\n",
            "2           43   33    91   102   269\n",
            "3          149  248   962  1562  2921\n",
            "All        378  340  1084  1703  3505\n"
          ]
        }
      ],
      "source": [
        "# Sobremuestreo con SMOTE\n",
        "# Aplica SMOTE al conjunto de entrenamiento (con auto, all y not majority da igual)\n",
        "smote = SMOTE(sampling_strategy='not majority', random_state=1)\n",
        "x_train_resampled_cv, y_train_resampled_cv = smote.fit_resample(x_train1, y_train)\n",
        "\n",
        "# Entrenamiento del modelo en el conjunto de entrenamiento sobremuestreado\n",
        "bnb1.fit(x_train_resampled_cv, y_train_resampled_cv)\n",
        "\n",
        "# Evalúa el modelo en el conjunto de prueba original\n",
        "print(f'Score para BN Bernoulli con oversampling SMOTE {bnb1.score(x_test1, y_test)}')\n",
        "\n",
        "# Informe de clasificación\n",
        "y_pred = bnb1.predict(x_test1)\n",
        "etiquetas = ['1', '3', '4', '5']\n",
        "print(classification_report(y_test, y_pred, target_names=etiquetas))\n",
        "\n",
        "# Tabla de contingencia\n",
        "tabla_cont = pd.crosstab(y_test, y_pred, rownames=['Predichos'], colnames=['Reales'], margins=True)\n",
        "print(tabla_cont)\n",
        "\n"
      ]
    },
    {
      "cell_type": "code",
      "execution_count": 55,
      "metadata": {
        "id": "QDgcpDYj1qey",
        "outputId": "c587ea8d-6484-4a8c-c710-9b7e3143a4fe"
      },
      "outputs": [
        {
          "name": "stdout",
          "output_type": "stream",
          "text": [
            "Score para BN Bernoulli con oversampling RandomOverSampler 0.7349500713266762\n",
            "              precision    recall  f1-score   support\n",
            "\n",
            "           1       0.50      0.54      0.52       222\n",
            "           3       0.14      0.23      0.17        93\n",
            "           4       0.11      0.20      0.14       269\n",
            "           5       0.91      0.82      0.86      2921\n",
            "\n",
            "    accuracy                           0.73      3505\n",
            "   macro avg       0.42      0.44      0.42      3505\n",
            "weighted avg       0.80      0.73      0.77      3505\n",
            "\n",
            "Reales       0    1    2     3   All\n",
            "Predichos                           \n",
            "0          119   41   19    43   222\n",
            "1           29   21   20    23    93\n",
            "2           26   23   54   166   269\n",
            "3           62   64  413  2382  2921\n",
            "All        236  149  506  2614  3505\n"
          ]
        }
      ],
      "source": [
        "# Sobremuestreo con RandomOverSampler\n",
        "# Aplica RandomOverSampler al conjunto de entrenamiento\n",
        "oversampler = RandomOverSampler(sampling_strategy='not majority', random_state=1)\n",
        "x_train_resampled2_cv, y_train_resampled2_cv = oversampler.fit_resample(x_train1, y_train)\n",
        "\n",
        "# Entrenamiento del modelo en el conjunto de entrenamiento sobremuestreado\n",
        "bnb1.fit(x_train_resampled2_cv, y_train_resampled2_cv)\n",
        "\n",
        "# Evalúa el modelo en el conjunto de prueba original\n",
        "print(f'Score para BN Bernoulli con oversampling RandomOverSampler {bnb1.score(x_test1, y_test)}')\n",
        "\n",
        "# Informe de clasificación\n",
        "y_pred = bnb1.predict(x_test1)\n",
        "etiquetas = ['1', '3', '4', '5']\n",
        "print(classification_report(y_test, y_pred, target_names=etiquetas))\n",
        "\n",
        "# Tabla de contingencia\n",
        "tabla_cont = pd.crosstab(y_test, y_pred, rownames=['Predichos'], colnames=['Reales'], margins=True)\n",
        "print(tabla_cont)\n",
        "\n"
      ]
    },
    {
      "cell_type": "markdown",
      "metadata": {
        "id": "-sSQVboc10-r"
      },
      "source": [
        "Tf-IDF Multinomial"
      ]
    },
    {
      "cell_type": "code",
      "execution_count": 56,
      "metadata": {
        "id": "8Etc5WhsnWKN",
        "outputId": "c36f5c8c-d5d6-4de3-918b-43a5f2b6b69c"
      },
      "outputs": [
        {
          "name": "stdout",
          "output_type": "stream",
          "text": [
            "type x_train <class 'scipy.sparse._csr.csr_matrix'>\n",
            "Score para BN Multinomial 0.8359486447931527\n",
            "              precision    recall  f1-score   support\n",
            "\n",
            "           1       0.90      0.04      0.08       222\n",
            "           3       0.00      0.00      0.00        93\n",
            "           4       0.00      0.00      0.00       269\n",
            "           5       0.84      1.00      0.91      2921\n",
            "\n",
            "    accuracy                           0.84      3505\n",
            "   macro avg       0.43      0.26      0.25      3505\n",
            "weighted avg       0.75      0.84      0.76      3505\n",
            "\n",
            "Reales      0     3   All\n",
            "Predichos                \n",
            "0           9   213   222\n",
            "1           0    93    93\n",
            "2           1   268   269\n",
            "3           0  2921  2921\n",
            "All        10  3495  3505\n"
          ]
        }
      ],
      "source": [
        "vec2 = TfidfVectorizer(stop_words=stop_spanish, ngram_range=(1,3))\n",
        "x_train2 = vec2.fit_transform(X_train_text)\n",
        "x_test2 = vec2.transform(X_test_text)\n",
        "print('type x_train', type(x_train2))\n",
        "mnb1 = MultinomialNB_sk()\n",
        "mnb1.fit(x_train2, y_train)\n",
        "print(f'Score para BN Multinomial {mnb1.score(x_test2, y_test)}')\n",
        "\n",
        "# Informe de clasificación\n",
        "y_pred = mnb1.predict(x_test2)\n",
        "etiquetas = ['1', '3', '4', '5']\n",
        "print(classification_report(y_test, y_pred, target_names=etiquetas))\n",
        "\n",
        "# Tabla de contingencia\n",
        "tabla_cont = pd.crosstab(y_test, y_pred, rownames=['Predichos'], colnames=['Reales'], margins=True)\n",
        "print(tabla_cont)\n",
        "\n"
      ]
    },
    {
      "cell_type": "code",
      "execution_count": 57,
      "metadata": {
        "id": "lfiRRt3Un_-w",
        "outputId": "9cfbbe72-ad2e-4cae-b833-7b02826babfc"
      },
      "outputs": [
        {
          "name": "stdout",
          "output_type": "stream",
          "text": [
            "Score para BN Multinomial con pesos 0.6139800285306705\n",
            "              precision    recall  f1-score   support\n",
            "\n",
            "           1       0.38      0.76      0.51       222\n",
            "           3       0.09      0.09      0.09        93\n",
            "           4       0.10      0.38      0.16       269\n",
            "           5       0.93      0.64      0.76      2921\n",
            "\n",
            "    accuracy                           0.61      3505\n",
            "   macro avg       0.38      0.47      0.38      3505\n",
            "weighted avg       0.81      0.61      0.68      3505\n",
            "\n",
            "Reales       0   1    2     3   All\n",
            "Predichos                          \n",
            "0          168  16   29     9   222\n",
            "1           39   8   36    10    93\n",
            "2           50   5  101   113   269\n",
            "3          184  65  797  1875  2921\n",
            "All        441  94  963  2007  3505\n"
          ]
        }
      ],
      "source": [
        "# Utilizando pesos de clases\n",
        "\n",
        "# Crear el clasificador Multinomial Naive Bayes con pesos de clase\n",
        "mnb2 = MultinomialNB_sk(class_prior=class_priors, fit_prior=False)\n",
        "\n",
        "# Entrenar el modelo\n",
        "mnb2.fit(x_train2, y_train)\n",
        "\n",
        "# Evaluar el modelo en el conjunto de prueba\n",
        "print(f'Score para BN Multinomial con pesos {mnb2.score(x_test2, y_test)}')\n",
        "\n",
        "# Informe de clasificación\n",
        "y_pred = mnb2.predict(x_test2)\n",
        "etiquetas = ['1', '3', '4', '5']\n",
        "print(classification_report(y_test, y_pred, target_names=etiquetas))\n",
        "\n",
        "# Tabla de contingencia\n",
        "tabla_cont = pd.crosstab(y_test, y_pred, rownames=['Predichos'], colnames=['Reales'], margins=True)\n",
        "print(tabla_cont)\n",
        "\n"
      ]
    },
    {
      "cell_type": "code",
      "execution_count": 58,
      "metadata": {
        "id": "MuuCfK9Yxr3V",
        "outputId": "b6781b0c-5f34-4016-fbd1-80baeac30161"
      },
      "outputs": [
        {
          "name": "stdout",
          "output_type": "stream",
          "text": [
            "Score para BN Multinomial con SMOTE 0.6582025677603424\n",
            "              precision    recall  f1-score   support\n",
            "\n",
            "           1       0.43      0.61      0.50       222\n",
            "           3       0.12      0.31      0.17        93\n",
            "           4       0.11      0.30      0.16       269\n",
            "           5       0.93      0.71      0.80      2921\n",
            "\n",
            "    accuracy                           0.66      3505\n",
            "   macro avg       0.40      0.48      0.41      3505\n",
            "weighted avg       0.81      0.66      0.72      3505\n",
            "\n",
            "Reales       0    1    2     3   All\n",
            "Predichos                           \n",
            "0          135   56    9    22   222\n",
            "1           33   29   19    12    93\n",
            "2           33   35   82   119   269\n",
            "3          116  128  616  2061  2921\n",
            "All        317  248  726  2214  3505\n"
          ]
        }
      ],
      "source": [
        "# Sobremuestreo con SMOTE\n",
        "\n",
        "# Aplica SMOTE al conjunto de entrenamiento (con auto, all y not majority da igual)\n",
        "smote = SMOTE(sampling_strategy='not majority', random_state=1)\n",
        "x_train_resampled_tf, y_train_resampled_tf = smote.fit_resample(x_train2, y_train)\n",
        "\n",
        "# Entrenamiento del modelo en el conjunto de entrenamiento sobremuestreado\n",
        "mnb1.fit(x_train_resampled_tf, y_train_resampled_tf)\n",
        "\n",
        "# Evalúa el modelo en el conjunto de prueba original\n",
        "print(f'Score para BN Multinomial con SMOTE {mnb1.score(x_test2, y_test)}')\n",
        "\n",
        "# Informe de clasificación\n",
        "y_pred = mnb1.predict(x_test2)\n",
        "etiquetas = ['1', '3', '4', '5']\n",
        "print(classification_report(y_test, y_pred, target_names=etiquetas))\n",
        "\n",
        "# Tabla de contingencia\n",
        "tabla_cont = pd.crosstab(y_test, y_pred, rownames=['Predichos'], colnames=['Reales'], margins=True)\n",
        "print(tabla_cont)\n",
        "\n"
      ]
    },
    {
      "cell_type": "code",
      "execution_count": 59,
      "metadata": {
        "id": "ZQDQ7FdHyUGG",
        "outputId": "edef13a0-54f3-4f55-e8f1-5f8afd222688"
      },
      "outputs": [
        {
          "name": "stdout",
          "output_type": "stream",
          "text": [
            "Score para BN Multinomial con oversampling RandomOverSampler 0.6830242510699002\n",
            "              precision    recall  f1-score   support\n",
            "\n",
            "           1       0.41      0.62      0.50       222\n",
            "           3       0.13      0.30      0.18        93\n",
            "           4       0.12      0.28      0.17       269\n",
            "           5       0.93      0.74      0.82      2921\n",
            "\n",
            "    accuracy                           0.68      3505\n",
            "   macro avg       0.40      0.49      0.42      3505\n",
            "weighted avg       0.81      0.68      0.73      3505\n",
            "\n",
            "Reales       0    1    2     3   All\n",
            "Predichos                           \n",
            "0          138   52   11    21   222\n",
            "1           36   28   17    12    93\n",
            "2           33   33   76   127   269\n",
            "3          128  108  533  2152  2921\n",
            "All        335  221  637  2312  3505\n"
          ]
        }
      ],
      "source": [
        "# Sobremuestreo con RandomOverSampler\n",
        "# Aplica RandomOverSampler al conjunto de entrenamiento\n",
        "oversampler = RandomOverSampler(sampling_strategy='not majority', random_state=1)\n",
        "x_train_resampled2_tf, y_train_resampled2_tf = oversampler.fit_resample(x_train2, y_train)\n",
        "\n",
        "# Entrenamiento del modelo en el conjunto de entrenamiento sobremuestreado\n",
        "mnb1.fit(x_train_resampled2_tf, y_train_resampled2_tf)\n",
        "\n",
        "# Evalúa el modelo en el conjunto de prueba original\n",
        "print(f'Score para BN Multinomial con oversampling RandomOverSampler {mnb1.score(x_test2, y_test)}')\n",
        "\n",
        "# Informe de clasificación\n",
        "y_pred = mnb1.predict(x_test2)\n",
        "etiquetas = ['1', '3', '4', '5']\n",
        "print(classification_report(y_test, y_pred, target_names=etiquetas))\n",
        "\n",
        "# Tabla de contingencia\n",
        "tabla_cont = pd.crosstab(y_test, y_pred, rownames=['Predichos'], colnames=['Reales'], margins=True)\n",
        "print(tabla_cont)\n",
        "\n"
      ]
    },
    {
      "cell_type": "markdown",
      "metadata": {
        "id": "7BKkxl5tzbfv"
      },
      "source": [
        "###complement"
      ]
    },
    {
      "cell_type": "code",
      "execution_count": 60,
      "metadata": {
        "id": "j1KtujjRzaZc",
        "outputId": "fb9306b4-356a-4288-c483-79e1202dbae6"
      },
      "outputs": [
        {
          "name": "stdout",
          "output_type": "stream",
          "text": [
            "Score para BN Complement 0.8336661911554921\n",
            "              precision    recall  f1-score   support\n",
            "\n",
            "           1       0.48      0.69      0.56       222\n",
            "           3       0.16      0.11      0.13        93\n",
            "           4       0.16      0.04      0.07       269\n",
            "           5       0.90      0.94      0.92      2921\n",
            "\n",
            "    accuracy                           0.83      3505\n",
            "   macro avg       0.43      0.45      0.42      3505\n",
            "weighted avg       0.80      0.83      0.81      3505\n",
            "\n",
            "Reales       0   1   2     3   All\n",
            "Predichos                         \n",
            "0          153  16   6    47   222\n",
            "1           33  10  10    40    93\n",
            "2           39   5  12   213   269\n",
            "3           96  30  48  2747  2921\n",
            "All        321  61  76  3047  3505\n"
          ]
        }
      ],
      "source": [
        "vec3 = CountVectorizer(stop_words=stop_spanish, ngram_range=(1,3))\n",
        "x_train3 = vec3.fit_transform(X_train_text)\n",
        "x_test3 = vec3.transform(X_test_text)\n",
        "cnb1 = ComplementNB_sk()\n",
        "cnb1.fit(x_train3, y_train)\n",
        "print(f'Score para BN Complement {cnb1.score(x_test3, y_test)}')\n",
        "\n",
        "# Informe de clasificación\n",
        "y_pred = cnb1.predict(x_test3)\n",
        "etiquetas = ['1', '3', '4', '5']\n",
        "print(classification_report(y_test, y_pred, target_names=etiquetas))\n",
        "\n",
        "# Tabla de contingencia\n",
        "tabla_cont = pd.crosstab(y_test, y_pred, rownames=['Predichos'], colnames=['Reales'], margins=True)\n",
        "print(tabla_cont)\n",
        "\n"
      ]
    },
    {
      "cell_type": "code",
      "execution_count": 61,
      "metadata": {
        "id": "NFB1UsxGzvAI",
        "outputId": "4a48c730-7b68-464c-e828-d5cdc9292d52"
      },
      "outputs": [
        {
          "name": "stdout",
          "output_type": "stream",
          "text": [
            "Score para BN Complement con pesos de clase 0.8336661911554921\n",
            "              precision    recall  f1-score   support\n",
            "\n",
            "           1       0.48      0.69      0.56       222\n",
            "           3       0.16      0.11      0.13        93\n",
            "           4       0.16      0.04      0.07       269\n",
            "           5       0.90      0.94      0.92      2921\n",
            "\n",
            "    accuracy                           0.83      3505\n",
            "   macro avg       0.43      0.45      0.42      3505\n",
            "weighted avg       0.80      0.83      0.81      3505\n",
            "\n",
            "Reales       0   1   2     3   All\n",
            "Predichos                         \n",
            "0          153  16   6    47   222\n",
            "1           33  10  10    40    93\n",
            "2           39   5  12   213   269\n",
            "3           96  30  48  2747  2921\n",
            "All        321  61  76  3047  3505\n"
          ]
        }
      ],
      "source": [
        "# Pesos de clase y probabilidades a priori a partir de los pesos de clase\n",
        "class_weights = {\n",
        "    0: 1.0,\n",
        "    1: 1.0,\n",
        "    2: 1.0,\n",
        "    3: 0.17\n",
        "}\n",
        "\n",
        "class_priors = [class_weights[i] / sum(class_weights.values()) for i in range(len(class_weights))]\n",
        "\n",
        "# Crear el clasificador Complement Naive Bayes con pesos de clase\n",
        "cnb2 = ComplementNB_sk(class_prior=class_priors, fit_prior=False)\n",
        "\n",
        "# Entrenar el modelo\n",
        "cnb2.fit(x_train3, y_train)\n",
        "\n",
        "# Evaluar el modelo en el conjunto de prueba\n",
        "print(f'Score para BN Complement con pesos de clase {cnb2.score(x_test3, y_test)}')\n",
        "\n",
        "# Informe de clasificación\n",
        "y_pred = cnb2.predict(x_test3)\n",
        "etiquetas = ['1', '3', '4', '5']\n",
        "print(classification_report(y_test, y_pred, target_names=etiquetas))\n",
        "\n",
        "# Tabla de contingencia\n",
        "tabla_cont = pd.crosstab(y_test, y_pred, rownames=['Predichos'], colnames=['Reales'], margins=True)\n",
        "print(tabla_cont)\n",
        "\n"
      ]
    },
    {
      "cell_type": "code",
      "execution_count": 62,
      "metadata": {
        "id": "T49HgGQhz6RP",
        "outputId": "245609a9-8413-4290-cf6b-fcf5dffb31dd"
      },
      "outputs": [
        {
          "name": "stdout",
          "output_type": "stream",
          "text": [
            "Score para BN Complement SMOTE 0.7126961483594865\n"
          ]
        },
        {
          "name": "stdout",
          "output_type": "stream",
          "text": [
            "              precision    recall  f1-score   support\n",
            "\n",
            "           1       0.40      0.71      0.51       222\n",
            "           3       0.20      0.18      0.19        93\n",
            "           4       0.12      0.25      0.16       269\n",
            "           5       0.92      0.77      0.84      2921\n",
            "\n",
            "    accuracy                           0.71      3505\n",
            "   macro avg       0.41      0.48      0.42      3505\n",
            "weighted avg       0.80      0.71      0.75      3505\n",
            "\n",
            "Reales       0   1    2     3   All\n",
            "Predichos                          \n",
            "0          158  17    6    41   222\n",
            "1           36  17   19    21    93\n",
            "2           44  12   66   147   269\n",
            "3          160  38  466  2257  2921\n",
            "All        398  84  557  2466  3505\n"
          ]
        }
      ],
      "source": [
        "# Aplica SMOTE al conjunto de entrenamiento (con auto, all y not majority da igual)\n",
        "smote = SMOTE(sampling_strategy='not majority', random_state=1)\n",
        "x_train_resampled_cv, y_train_resampled_cv = smote.fit_resample(x_train3, y_train)\n",
        "\n",
        "# Entrenamiento del modelo en el conjunto de entrenamiento sobremuestreado\n",
        "cnb1.fit(x_train_resampled_cv, y_train_resampled_cv)\n",
        "\n",
        "# Evalúa el modelo en el conjunto de prueba original\n",
        "print(f'Score para BN Complement SMOTE {cnb1.score(x_test3, y_test)}')\n",
        "\n",
        "# Informe de clasificación\n",
        "y_pred = cnb1.predict(x_test3)\n",
        "etiquetas = ['1', '3', '4', '5']\n",
        "print(classification_report(y_test, y_pred, target_names=etiquetas))\n",
        "\n",
        "# Tabla de contingencia\n",
        "tabla_cont = pd.crosstab(y_test, y_pred, rownames=['Predichos'], colnames=['Reales'], margins=True)\n",
        "print(tabla_cont)\n",
        "\n"
      ]
    },
    {
      "cell_type": "code",
      "execution_count": 63,
      "metadata": {
        "id": "bOxOCn_q0Iey",
        "outputId": "5b9ffa04-a27a-4fba-bf29-874bff778527"
      },
      "outputs": [
        {
          "name": "stdout",
          "output_type": "stream",
          "text": [
            "Score para BN Complement RandomOverSampler 0.6861626248216833\n",
            "              precision    recall  f1-score   support\n",
            "\n",
            "           1       0.41      0.64      0.50       222\n",
            "           3       0.11      0.25      0.15        93\n",
            "           4       0.10      0.22      0.14       269\n",
            "           5       0.92      0.75      0.82      2921\n",
            "\n",
            "    accuracy                           0.69      3505\n",
            "   macro avg       0.39      0.46      0.40      3505\n",
            "weighted avg       0.80      0.69      0.73      3505\n",
            "\n",
            "Reales       0    1    2     3   All\n",
            "Predichos                           \n",
            "0          143   41    8    30   222\n",
            "1           35   23   18    17    93\n",
            "2           38   27   58   146   269\n",
            "3          129  115  496  2181  2921\n",
            "All        345  206  580  2374  3505\n"
          ]
        }
      ],
      "source": [
        "# Entrenamiento del modelo en el conjunto de entrenamiento sobremuestreado\n",
        "oversampler = RandomOverSampler(sampling_strategy='not majority', random_state=1)\n",
        "x_train_resampled2_cv, y_train_resampled2_cv = oversampler.fit_resample(x_train3, y_train)\n",
        "\n",
        "\n",
        "# Entrenamiento del modelo en el conjunto de entrenamiento sobremuestreado\n",
        "cnb1.fit(x_train_resampled2_cv, y_train_resampled2_cv)\n",
        "\n",
        "# Evalúa el modelo en el conjunto de prueba original\n",
        "print(f'Score para BN Complement RandomOverSampler {cnb1.score(x_test3, y_test)}')\n",
        "\n",
        "# Informe de clasificación\n",
        "y_pred = cnb1.predict(x_test3)\n",
        "etiquetas = ['1', '3', '4', '5']\n",
        "print(classification_report(y_test, y_pred, target_names=etiquetas))\n",
        "\n",
        "# Tabla de contingencia\n",
        "tabla_cont = pd.crosstab(y_test, y_pred, rownames=['Predichos'], colnames=['Reales'], margins=True)\n",
        "print(tabla_cont)\n",
        "\n"
      ]
    },
    {
      "cell_type": "markdown",
      "metadata": {
        "id": "oW6DCS1P2yaD"
      },
      "source": [
        "Redes Neuronales"
      ]
    },
    {
      "cell_type": "code",
      "execution_count": 64,
      "metadata": {
        "id": "WMRZ5A3e2xm4",
        "outputId": "e3825fb2-929e-41c6-da67-ce804142b452"
      },
      "outputs": [
        {
          "name": "stdout",
          "output_type": "stream",
          "text": [
            "Epoch 1/100\n",
            "\u001b[1m665/665\u001b[0m \u001b[32m━━━━━━━━━━━━━━━━━━━━\u001b[0m\u001b[37m\u001b[0m \u001b[1m4s\u001b[0m 5ms/step - accuracy: 0.6843 - loss: 0.7886 - val_accuracy: 0.4370 - val_loss: 0.9711\n",
            "Epoch 2/100\n",
            "\u001b[1m665/665\u001b[0m \u001b[32m━━━━━━━━━━━━━━━━━━━━\u001b[0m\u001b[37m\u001b[0m \u001b[1m3s\u001b[0m 5ms/step - accuracy: 0.8531 - loss: 0.3815 - val_accuracy: 0.5719 - val_loss: 0.7617\n",
            "Epoch 3/100\n",
            "\u001b[1m665/665\u001b[0m \u001b[32m━━━━━━━━━━━━━━━━━━━━\u001b[0m\u001b[37m\u001b[0m \u001b[1m3s\u001b[0m 4ms/step - accuracy: 0.8786 - loss: 0.3046 - val_accuracy: 0.6099 - val_loss: 0.6535\n",
            "Epoch 4/100\n",
            "\u001b[1m665/665\u001b[0m \u001b[32m━━━━━━━━━━━━━━━━━━━━\u001b[0m\u001b[37m\u001b[0m \u001b[1m3s\u001b[0m 4ms/step - accuracy: 0.8993 - loss: 0.2554 - val_accuracy: 0.6539 - val_loss: 0.5792\n",
            "Epoch 5/100\n",
            "\u001b[1m665/665\u001b[0m \u001b[32m━━━━━━━━━━━━━━━━━━━━\u001b[0m\u001b[37m\u001b[0m \u001b[1m3s\u001b[0m 4ms/step - accuracy: 0.9112 - loss: 0.2235 - val_accuracy: 0.6869 - val_loss: 0.5401\n",
            "Epoch 6/100\n",
            "\u001b[1m665/665\u001b[0m \u001b[32m━━━━━━━━━━━━━━━━━━━━\u001b[0m\u001b[37m\u001b[0m \u001b[1m3s\u001b[0m 4ms/step - accuracy: 0.9190 - loss: 0.2045 - val_accuracy: 0.7010 - val_loss: 0.5214\n",
            "Epoch 7/100\n",
            "\u001b[1m665/665\u001b[0m \u001b[32m━━━━━━━━━━━━━━━━━━━━\u001b[0m\u001b[37m\u001b[0m \u001b[1m3s\u001b[0m 4ms/step - accuracy: 0.9233 - loss: 0.1922 - val_accuracy: 0.7008 - val_loss: 0.5160\n",
            "Epoch 8/100\n",
            "\u001b[1m665/665\u001b[0m \u001b[32m━━━━━━━━━━━━━━━━━━━━\u001b[0m\u001b[37m\u001b[0m \u001b[1m3s\u001b[0m 5ms/step - accuracy: 0.9265 - loss: 0.1843 - val_accuracy: 0.7030 - val_loss: 0.5123\n",
            "Epoch 9/100\n",
            "\u001b[1m665/665\u001b[0m \u001b[32m━━━━━━━━━━━━━━━━━━━━\u001b[0m\u001b[37m\u001b[0m \u001b[1m4s\u001b[0m 5ms/step - accuracy: 0.9280 - loss: 0.1788 - val_accuracy: 0.7044 - val_loss: 0.5060\n",
            "Epoch 10/100\n",
            "\u001b[1m665/665\u001b[0m \u001b[32m━━━━━━━━━━━━━━━━━━━━\u001b[0m\u001b[37m\u001b[0m \u001b[1m3s\u001b[0m 4ms/step - accuracy: 0.9289 - loss: 0.1744 - val_accuracy: 0.7029 - val_loss: 0.5039\n",
            "Epoch 11/100\n",
            "\u001b[1m665/665\u001b[0m \u001b[32m━━━━━━━━━━━━━━━━━━━━\u001b[0m\u001b[37m\u001b[0m \u001b[1m3s\u001b[0m 5ms/step - accuracy: 0.9290 - loss: 0.1705 - val_accuracy: 0.7066 - val_loss: 0.5066\n",
            "Epoch 12/100\n",
            "\u001b[1m665/665\u001b[0m \u001b[32m━━━━━━━━━━━━━━━━━━━━\u001b[0m\u001b[37m\u001b[0m \u001b[1m3s\u001b[0m 4ms/step - accuracy: 0.9307 - loss: 0.1680 - val_accuracy: 0.7032 - val_loss: 0.5088\n",
            "Epoch 13/100\n",
            "\u001b[1m665/665\u001b[0m \u001b[32m━━━━━━━━━━━━━━━━━━━━\u001b[0m\u001b[37m\u001b[0m \u001b[1m3s\u001b[0m 4ms/step - accuracy: 0.9308 - loss: 0.1654 - val_accuracy: 0.7012 - val_loss: 0.5069\n",
            "\u001b[1m110/110\u001b[0m \u001b[32m━━━━━━━━━━━━━━━━━━━━\u001b[0m\u001b[37m\u001b[0m \u001b[1m0s\u001b[0m 2ms/step - accuracy: 0.8023 - loss: 0.9591\n",
            "Precisión en el conjunto de prueba. Redes Neuronales con RandomOverSampler: 0.806847333908081\n",
            "\u001b[1m110/110\u001b[0m \u001b[32m━━━━━━━━━━━━━━━━━━━━\u001b[0m\u001b[37m\u001b[0m \u001b[1m0s\u001b[0m 3ms/step\n",
            "              precision    recall  f1-score   support\n",
            "\n",
            "           1       0.46      0.60      0.52       222\n",
            "           3       0.28      0.12      0.17        93\n",
            "           4       0.16      0.15      0.16       269\n",
            "           5       0.90      0.90      0.90      2921\n",
            "\n",
            "    accuracy                           0.81      3505\n",
            "   macro avg       0.45      0.44      0.44      3505\n",
            "weighted avg       0.80      0.81      0.80      3505\n",
            "\n",
            "Reales       0   1    2     3   All\n",
            "Predichos                          \n",
            "0          134   6   16    66   222\n",
            "1           35  11   13    34    93\n",
            "2           36   9   40   184   269\n",
            "3           86  14  178  2643  2921\n",
            "All        291  40  247  2927  3505\n"
          ]
        }
      ],
      "source": [
        "## Se utiliza early stopping para intentar evitar el sobreajuste. Se emplea RandomOverSampler\n",
        "\n",
        "# Convertir matrices dispersas en matrices densas para el sobremuestreo\n",
        "x_train = x_train.toarray()\n",
        "x_test = x_test.toarray()\n",
        "\n",
        "# Realiza el sobremuestreo solo en el conjunto de entrenamiento\n",
        "oversampler = RandomOverSampler(sampling_strategy='not minority', random_state=1)\n",
        "X_train_resampled, y_train_resampled = oversampler.fit_resample(x_train, y_train)\n",
        "\n",
        "np.random.seed(1)\n",
        "tf.random.set_seed(1)\n",
        "\n",
        "\n",
        "# Define el modelo de la red neuronal\n",
        "model = keras.Sequential([\n",
        "    keras.layers.Input(shape=(X_train_resampled.shape[1],)),\n",
        "    keras.layers.Dense(128, activation='relu'),\n",
        "    keras.layers.Dense(64, activation='relu'),\n",
        "    keras.layers.Dense(4, activation='softmax')\n",
        "])\n",
        "\n",
        "# Compila el modelo\n",
        "model.compile(optimizer='adam', loss='sparse_categorical_crossentropy', metrics=['accuracy'])\n",
        "\n",
        "# Define EarlyStopping\n",
        "early_stopping = EarlyStopping(monitor='val_loss', patience=3, restore_best_weights=True)\n",
        "\n",
        "# Entrena el modelo con el conjunto de entrenamiento sobremuestreado y EarlyStopping\n",
        "model.fit(X_train_resampled, y_train_resampled, epochs=100, batch_size=32, validation_split=0.2, callbacks=[early_stopping])\n",
        "\n",
        "# Evalúa el modelo en el conjunto de prueba original\n",
        "test_loss, test_acc = model.evaluate(x_test, y_test)\n",
        "print(f'Precisión en el conjunto de prueba. Redes Neuronales con RandomOverSampler: {test_acc}')\n",
        "\n",
        "# Informe de clasificación\n",
        "y_pred_probs = model.predict(x_test)\n",
        "y_pred = np.argmax(y_pred_probs, axis=1)\n",
        "\n",
        "etiquetas = ['1', '3', '4', '5']\n",
        "print(classification_report(y_test, y_pred, target_names=etiquetas))\n",
        "\n",
        "# Tabla de contingencia\n",
        "tabla_cont = pd.crosstab(y_test, y_pred, rownames=['Predichos'], colnames=['Reales'], margins=True)\n",
        "print(tabla_cont)\n"
      ]
    },
    {
      "cell_type": "code",
      "execution_count": 65,
      "metadata": {
        "id": "52KH9jmyNjej",
        "outputId": "e301a04a-d5ef-43e8-9abc-4c354d2101c2"
      },
      "outputs": [
        {
          "name": "stdout",
          "output_type": "stream",
          "text": [
            "Epoch 1/200\n",
            "\u001b[1m665/665\u001b[0m \u001b[32m━━━━━━━━━━━━━━━━━━━━\u001b[0m\u001b[37m\u001b[0m \u001b[1m4s\u001b[0m 5ms/step - accuracy: 0.7037 - loss: 0.7770 - val_accuracy: 0.4006 - val_loss: 1.0459\n",
            "Epoch 2/200\n",
            "\u001b[1m665/665\u001b[0m \u001b[32m━━━━━━━━━━━━━━━━━━━━\u001b[0m\u001b[37m\u001b[0m \u001b[1m3s\u001b[0m 5ms/step - accuracy: 0.8441 - loss: 0.3965 - val_accuracy: 0.5188 - val_loss: 0.8188\n",
            "Epoch 3/200\n",
            "\u001b[1m665/665\u001b[0m \u001b[32m━━━━━━━━━━━━━━━━━━━━\u001b[0m\u001b[37m\u001b[0m \u001b[1m3s\u001b[0m 4ms/step - accuracy: 0.8759 - loss: 0.3056 - val_accuracy: 0.5988 - val_loss: 0.6804\n",
            "Epoch 4/200\n",
            "\u001b[1m665/665\u001b[0m \u001b[32m━━━━━━━━━━━━━━━━━━━━\u001b[0m\u001b[37m\u001b[0m \u001b[1m3s\u001b[0m 4ms/step - accuracy: 0.8991 - loss: 0.2485 - val_accuracy: 0.6481 - val_loss: 0.6067\n",
            "Epoch 5/200\n",
            "\u001b[1m665/665\u001b[0m \u001b[32m━━━━━━━━━━━━━━━━━━━━\u001b[0m\u001b[37m\u001b[0m \u001b[1m3s\u001b[0m 4ms/step - accuracy: 0.9106 - loss: 0.2160 - val_accuracy: 0.6699 - val_loss: 0.5625\n",
            "Epoch 6/200\n",
            "\u001b[1m665/665\u001b[0m \u001b[32m━━━━━━━━━━━━━━━━━━━━\u001b[0m\u001b[37m\u001b[0m \u001b[1m3s\u001b[0m 4ms/step - accuracy: 0.9188 - loss: 0.1971 - val_accuracy: 0.6906 - val_loss: 0.5276\n",
            "Epoch 7/200\n",
            "\u001b[1m665/665\u001b[0m \u001b[32m━━━━━━━━━━━━━━━━━━━━\u001b[0m\u001b[37m\u001b[0m \u001b[1m3s\u001b[0m 4ms/step - accuracy: 0.9230 - loss: 0.1851 - val_accuracy: 0.7098 - val_loss: 0.5006\n",
            "Epoch 8/200\n",
            "\u001b[1m665/665\u001b[0m \u001b[32m━━━━━━━━━━━━━━━━━━━━\u001b[0m\u001b[37m\u001b[0m \u001b[1m3s\u001b[0m 4ms/step - accuracy: 0.9262 - loss: 0.1776 - val_accuracy: 0.7179 - val_loss: 0.4905\n",
            "Epoch 9/200\n",
            "\u001b[1m665/665\u001b[0m \u001b[32m━━━━━━━━━━━━━━━━━━━━\u001b[0m\u001b[37m\u001b[0m \u001b[1m3s\u001b[0m 4ms/step - accuracy: 0.9278 - loss: 0.1713 - val_accuracy: 0.7241 - val_loss: 0.4767\n",
            "Epoch 10/200\n",
            "\u001b[1m665/665\u001b[0m \u001b[32m━━━━━━━━━━━━━━━━━━━━\u001b[0m\u001b[37m\u001b[0m \u001b[1m3s\u001b[0m 4ms/step - accuracy: 0.9297 - loss: 0.1665 - val_accuracy: 0.7224 - val_loss: 0.4778\n",
            "Epoch 11/200\n",
            "\u001b[1m665/665\u001b[0m \u001b[32m━━━━━━━━━━━━━━━━━━━━\u001b[0m\u001b[37m\u001b[0m \u001b[1m3s\u001b[0m 4ms/step - accuracy: 0.9318 - loss: 0.1617 - val_accuracy: 0.7288 - val_loss: 0.4678\n",
            "Epoch 12/200\n",
            "\u001b[1m665/665\u001b[0m \u001b[32m━━━━━━━━━━━━━━━━━━━━\u001b[0m\u001b[37m\u001b[0m \u001b[1m3s\u001b[0m 5ms/step - accuracy: 0.9349 - loss: 0.1585 - val_accuracy: 0.7322 - val_loss: 0.4659\n",
            "Epoch 13/200\n",
            "\u001b[1m665/665\u001b[0m \u001b[32m━━━━━━━━━━━━━━━━━━━━\u001b[0m\u001b[37m\u001b[0m \u001b[1m3s\u001b[0m 4ms/step - accuracy: 0.9362 - loss: 0.1551 - val_accuracy: 0.7326 - val_loss: 0.4670\n",
            "Epoch 14/200\n",
            "\u001b[1m665/665\u001b[0m \u001b[32m━━━━━━━━━━━━━━━━━━━━\u001b[0m\u001b[37m\u001b[0m \u001b[1m3s\u001b[0m 4ms/step - accuracy: 0.9364 - loss: 0.1527 - val_accuracy: 0.7320 - val_loss: 0.4697\n",
            "Epoch 15/200\n",
            "\u001b[1m665/665\u001b[0m \u001b[32m━━━━━━━━━━━━━━━━━━━━\u001b[0m\u001b[37m\u001b[0m \u001b[1m3s\u001b[0m 4ms/step - accuracy: 0.9367 - loss: 0.1497 - val_accuracy: 0.7347 - val_loss: 0.4660\n",
            "\u001b[1m110/110\u001b[0m \u001b[32m━━━━━━━━━━━━━━━━━━━━\u001b[0m\u001b[37m\u001b[0m \u001b[1m0s\u001b[0m 3ms/step - accuracy: 0.8089 - loss: 1.2951\n",
            "Precisión en el conjunto de prueba. Redes Neuronales con SMOTE: 0.8071326613426208\n",
            "\u001b[1m110/110\u001b[0m \u001b[32m━━━━━━━━━━━━━━━━━━━━\u001b[0m\u001b[37m\u001b[0m \u001b[1m0s\u001b[0m 2ms/step\n",
            "              precision    recall  f1-score   support\n",
            "\n",
            "           1       0.53      0.53      0.53       222\n",
            "           3       0.26      0.13      0.17        93\n",
            "           4       0.12      0.12      0.12       269\n",
            "           5       0.90      0.91      0.91      2921\n",
            "\n",
            "    accuracy                           0.81      3505\n",
            "   macro avg       0.45      0.42      0.43      3505\n",
            "weighted avg       0.80      0.81      0.80      3505\n",
            "\n",
            "Reales       0   1    2     3   All\n",
            "Predichos                          \n",
            "0          118   7   30    67   222\n",
            "1           29  12   17    35    93\n",
            "2           31   9   33   196   269\n",
            "3           44  18  193  2666  2921\n",
            "All        222  46  273  2964  3505\n"
          ]
        }
      ],
      "source": [
        "# Realiza el sobremuestreo solo en el conjunto de entrenamiento\n",
        "smote = SMOTE(sampling_strategy='not minority', random_state=1)\n",
        "X_train_resampled, y_train_resampled = smote.fit_resample(x_train, y_train)\n",
        "\n",
        "np.random.seed(1)\n",
        "tf.random.set_seed(1)\n",
        "\n",
        "\n",
        "# Define el modelo de la red neuronal\n",
        "model = keras.Sequential([\n",
        "    keras.layers.Input(shape=(X_train_resampled.shape[1],)),\n",
        "    keras.layers.Dense(128, activation='relu'),\n",
        "    keras.layers.Dense(64, activation='relu'),\n",
        "    keras.layers.Dense(4, activation='softmax')\n",
        "])\n",
        "\n",
        "# Compila el modelo\n",
        "model.compile(optimizer='adam', loss='sparse_categorical_crossentropy', metrics=['accuracy'])\n",
        "\n",
        "# Define EarlyStopping\n",
        "early_stopping = EarlyStopping(monitor='val_loss', patience=3, restore_best_weights=True)\n",
        "\n",
        "# Entrena el modelo con el conjunto de entrenamiento sobremuestreado y EarlyStopping\n",
        "model.fit(X_train_resampled, y_train_resampled, epochs=200, batch_size=32, validation_split=0.2, callbacks=[early_stopping])\n",
        "\n",
        "# Evalúa el modelo en el conjunto de prueba original\n",
        "test_loss, test_acc = model.evaluate(x_test, y_test)\n",
        "print(f'Precisión en el conjunto de prueba. Redes Neuronales con SMOTE: {test_acc}')\n",
        "\n",
        "# Informe de clasificación\n",
        "y_pred_probs = model.predict(x_test)\n",
        "y_pred = np.argmax(y_pred_probs, axis=1)\n",
        "\n",
        "etiquetas = ['1', '3', '4', '5']\n",
        "print(classification_report(y_test, y_pred, target_names=etiquetas))\n",
        "\n",
        "# Tabla de contingencia\n",
        "tabla_cont = pd.crosstab(y_test, y_pred, rownames=['Predichos'], colnames=['Reales'], margins=True)\n",
        "print(tabla_cont)\n",
        "\n"
      ]
    },
    {
      "cell_type": "code",
      "execution_count": 66,
      "metadata": {
        "id": "z-tJEnZ03zp5",
        "outputId": "f03bc835-9e65-4e39-abda-82273f680077"
      },
      "outputs": [
        {
          "name": "stdout",
          "output_type": "stream",
          "text": [
            "Epoch 1/100\n",
            "\u001b[1m263/263\u001b[0m \u001b[32m━━━━━━━━━━━━━━━━━━━━\u001b[0m\u001b[37m\u001b[0m \u001b[1m2s\u001b[0m 6ms/step - accuracy: 0.7225 - loss: 0.3712 - val_accuracy: 0.7608 - val_loss: 0.3007\n",
            "Epoch 2/100\n",
            "\u001b[1m263/263\u001b[0m \u001b[32m━━━━━━━━━━━━━━━━━━━━\u001b[0m\u001b[37m\u001b[0m \u001b[1m2s\u001b[0m 7ms/step - accuracy: 0.8185 - loss: 0.2659 - val_accuracy: 0.7194 - val_loss: 0.3084\n",
            "Epoch 3/100\n",
            "\u001b[1m263/263\u001b[0m \u001b[32m━━━━━━━━━━━━━━━━━━━━\u001b[0m\u001b[37m\u001b[0m \u001b[1m2s\u001b[0m 7ms/step - accuracy: 0.8222 - loss: 0.2172 - val_accuracy: 0.7147 - val_loss: 0.3349\n",
            "Epoch 4/100\n",
            "\u001b[1m263/263\u001b[0m \u001b[32m━━━━━━━━━━━━━━━━━━━━\u001b[0m\u001b[37m\u001b[0m \u001b[1m1s\u001b[0m 5ms/step - accuracy: 0.8422 - loss: 0.1771 - val_accuracy: 0.7166 - val_loss: 0.3632\n",
            "\u001b[1m110/110\u001b[0m \u001b[32m━━━━━━━━━━━━━━━━━━━━\u001b[0m\u001b[37m\u001b[0m \u001b[1m0s\u001b[0m 1ms/step - accuracy: 0.7690 - loss: 0.7202\n",
            "Precisión en el conjunto de prueba. Redes Neuronales con Pesos : 0.7657632231712341\n",
            "\u001b[1m110/110\u001b[0m \u001b[32m━━━━━━━━━━━━━━━━━━━━\u001b[0m\u001b[37m\u001b[0m \u001b[1m0s\u001b[0m 2ms/step\n",
            "              precision    recall  f1-score   support\n",
            "\n",
            "           1       0.38      0.83      0.52       222\n",
            "           3       0.00      0.00      0.00        93\n",
            "           4       0.12      0.16      0.14       269\n",
            "           5       0.92      0.84      0.88      2921\n",
            "\n",
            "    accuracy                           0.77      3505\n",
            "   macro avg       0.36      0.46      0.38      3505\n",
            "weighted avg       0.80      0.77      0.78      3505\n",
            "\n",
            "Reales       0    2     3   All\n",
            "Predichos                      \n",
            "0          184   16    22   222\n",
            "1           57   16    20    93\n",
            "2           52   43   174   269\n",
            "3          194  270  2457  2921\n",
            "All        487  345  2673  3505\n"
          ]
        }
      ],
      "source": [
        "# Utilizando Early Stopping + pesos por clases\n",
        "# Define el modelo de la red neuronal\n",
        "\n",
        "np.random.seed(1)\n",
        "tf.random.set_seed(1)\n",
        "\n",
        "model = keras.Sequential([\n",
        "    keras.layers.Input(shape=(x_train.shape[1],)),\n",
        "    keras.layers.Dense(128, activation='relu'),\n",
        "    keras.layers.Dense(64, activation='relu'),\n",
        "    keras.layers.Dense(4, activation='softmax')\n",
        "])\n",
        "\n",
        "# Compila el modelo con pesos de clase\n",
        "\n",
        "model.compile(\n",
        "    optimizer='adam',\n",
        "    loss='sparse_categorical_crossentropy',\n",
        "    metrics=['accuracy']\n",
        ")\n",
        "\n",
        "# Define EarlyStopping\n",
        "early_stopping = EarlyStopping(monitor='val_loss', patience=3, restore_best_weights=True)\n",
        "\n",
        "# Entrena el modelo\n",
        "model.fit(x_train, y_train, epochs=100, batch_size=32, sample_weight=np.array([class_weights[c] for c in y_train]), validation_split=0.2, callbacks=[early_stopping] )\n",
        "\n",
        "# Evalúa el modelo en el conjunto de prueba\n",
        "test_loss, test_acc = model.evaluate(x_test, y_test)\n",
        "print(f'Precisión en el conjunto de prueba. Redes Neuronales con Pesos : {test_acc}')\n",
        "\n",
        "# Informe de clasificación\n",
        "y_pred_probs = model.predict(x_test)\n",
        "y_pred = np.argmax(y_pred_probs, axis=1)\n",
        "\n",
        "etiquetas = ['1', '3', '4', '5']\n",
        "print(classification_report(y_test, y_pred, target_names=etiquetas))\n",
        "\n",
        "# Tabla de contingencia\n",
        "tabla_cont = pd.crosstab(y_test, y_pred, rownames=['Predichos'], colnames=['Reales'], margins=True)\n",
        "print(tabla_cont)\n",
        "\n"
      ]
    },
    {
      "cell_type": "markdown",
      "metadata": {
        "id": "i7MPqmac3-Ht"
      },
      "source": [
        "Regresión Logística"
      ]
    },
    {
      "cell_type": "code",
      "execution_count": 67,
      "metadata": {
        "id": "PdDoy6uc39jD",
        "outputId": "997c517d-3abc-47b7-c9ed-e3c7a27db753"
      },
      "outputs": [
        {
          "name": "stdout",
          "output_type": "stream",
          "text": [
            "Precisión en el conjunto de prueba. Reg Log: 0.8559201141226819\n",
            "              precision    recall  f1-score   support\n",
            "\n",
            "           1       0.67      0.39      0.49       222\n",
            "           3       0.00      0.00      0.00        93\n",
            "           4       0.10      0.00      0.01       269\n",
            "           5       0.87      1.00      0.93      2921\n",
            "\n",
            "    accuracy                           0.86      3505\n",
            "   macro avg       0.41      0.35      0.36      3505\n",
            "weighted avg       0.77      0.86      0.80      3505\n",
            "\n",
            "Reales       0  1   2     3   All\n",
            "Predichos                        \n",
            "0           87  1   1   133   222\n",
            "1           22  0   6    65    93\n",
            "2           14  0   1   254   269\n",
            "3            7  0   2  2912  2921\n",
            "All        130  1  10  3364  3505\n"
          ]
        }
      ],
      "source": [
        "# Define el modelo de regresión logística\n",
        "logreg = LogisticRegression(max_iter=200)\n",
        "\n",
        "# Entrena el modelo\n",
        "logreg.fit(x_train, y_train)\n",
        "\n",
        "# Evalúa el modelo en el conjunto de prueba\n",
        "test_acc = logreg.score(x_test, y_test)\n",
        "print(f'Precisión en el conjunto de prueba. Reg Log: {test_acc}')\n",
        "\n",
        "# Informe de clasificación\n",
        "y_pred = logreg.predict(x_test)\n",
        "etiquetas = ['1', '3', '4', '5']\n",
        "print(classification_report(y_test, y_pred, target_names=etiquetas))\n",
        "\n",
        "# Tabla de contingencia\n",
        "tabla_cont = pd.crosstab(y_test, y_pred, rownames=['Predichos'], colnames=['Reales'], margins=True)\n",
        "print(tabla_cont)\n",
        "\n"
      ]
    },
    {
      "cell_type": "code",
      "execution_count": 68,
      "metadata": {},
      "outputs": [
        {
          "name": "stdout",
          "output_type": "stream",
          "text": [
            "Precisión en el conjunto de prueba. Reg Log: 0.6770328102710413\n",
            "              precision    recall  f1-score   support\n",
            "\n",
            "           1       0.41      0.75      0.53       222\n",
            "           3       0.00      0.00      0.00        93\n",
            "           4       0.12      0.37      0.18       269\n",
            "           5       0.93      0.72      0.81      2921\n",
            "\n",
            "    accuracy                           0.68      3505\n",
            "   macro avg       0.37      0.46      0.38      3505\n",
            "weighted avg       0.81      0.68      0.72      3505\n",
            "\n",
            "Reales       0  1    2     3   All\n",
            "Predichos                         \n",
            "0          167  1   26    28   222\n",
            "1           50  0   31    12    93\n",
            "2           45  0  100   124   269\n",
            "3          143  0  672  2106  2921\n",
            "All        405  1  829  2270  3505\n"
          ]
        }
      ],
      "source": [
        "# Realiza el sobremuestreo solo en el conjunto de entrenamiento\n",
        "oversampler = RandomOverSampler(sampling_strategy='not minority', random_state=1)\n",
        "X_train_resampled, y_train_resampled = oversampler.fit_resample(x_train, y_train)\n",
        "\n",
        "logreg = LogisticRegression(max_iter=200)\n",
        "logreg.fit(X_train_resampled, y_train_resampled)\n",
        "\n",
        "test_acc = logreg.score(x_test, y_test)\n",
        "print(f'Precisión en el conjunto de prueba. Reg Log: {test_acc}')\n",
        "\n",
        "# Informe de clasificación\n",
        "y_pred = logreg.predict(x_test)\n",
        "etiquetas = ['1', '3', '4', '5']\n",
        "print(classification_report(y_test, y_pred, target_names=etiquetas))\n",
        "\n",
        "# Tabla de contingencia\n",
        "tabla_cont = pd.crosstab(y_test, y_pred, rownames=['Predichos'], colnames=['Reales'], margins=True)\n",
        "print(tabla_cont)\n",
        "\n"
      ]
    },
    {
      "cell_type": "code",
      "execution_count": 69,
      "metadata": {
        "id": "0KD0kebG4KjN",
        "outputId": "2c49253d-32dc-4894-9daf-2bbeffc2f1d3"
      },
      "outputs": [
        {
          "name": "stdout",
          "output_type": "stream",
          "text": [
            "Precisión en el conjunto de prueba. Reg Log con pesos de clases: 0.797432239657632\n",
            "              precision    recall  f1-score   support\n",
            "\n",
            "           1       0.49      0.73      0.59       222\n",
            "           3       0.33      0.02      0.04        93\n",
            "           4       0.14      0.16      0.15       269\n",
            "           5       0.91      0.89      0.90      2921\n",
            "\n",
            "    accuracy                           0.80      3505\n",
            "   macro avg       0.47      0.45      0.42      3505\n",
            "weighted avg       0.81      0.80      0.80      3505\n",
            "\n",
            "Reales       0  1    2     3   All\n",
            "Predichos                         \n",
            "0          162  1   10    49   222\n",
            "1           40  2   19    32    93\n",
            "2           36  1   44   188   269\n",
            "3           90  2  242  2587  2921\n",
            "All        328  6  315  2856  3505\n"
          ]
        }
      ],
      "source": [
        "# Utilizando pesos de clases\n",
        "# Define el modelo de regresión logística\n",
        "logreg2 = LogisticRegression(class_weight=class_weights, max_iter=200)\n",
        "\n",
        "# Entrena el modelo\n",
        "logreg2.fit(x_train, y_train)\n",
        "\n",
        "# Evalúa el modelo en el conjunto de prueba\n",
        "test_acc = logreg2.score(x_test, y_test)\n",
        "print(f'Precisión en el conjunto de prueba. Reg Log con pesos de clases: {test_acc}')\n",
        "\n",
        "# Informe de clasificación\n",
        "y_pred = logreg2.predict(x_test)\n",
        "etiquetas = ['1', '3', '4', '5']\n",
        "print(classification_report(y_test, y_pred, target_names=etiquetas))\n",
        "\n",
        "# Tabla de contingencia\n",
        "tabla_cont = pd.crosstab(y_test, y_pred, rownames=['Predichos'], colnames=['Reales'], margins=True)\n",
        "print(tabla_cont)\n",
        "\n"
      ]
    },
    {
      "cell_type": "code",
      "execution_count": 70,
      "metadata": {
        "id": "j-3aOdeOfxlo",
        "outputId": "d3af5d7c-19e2-4cb3-f0ff-cce7356c200b"
      },
      "outputs": [
        {
          "name": "stdout",
          "output_type": "stream",
          "text": [
            "Precisión en el conjunto de prueba. Reg Log con SMOTE: 0.6239657631954351\n",
            "              precision    recall  f1-score   support\n",
            "\n",
            "           1       0.39      0.68      0.50       222\n",
            "           3       0.08      0.19      0.11        93\n",
            "           4       0.11      0.35      0.17       269\n",
            "           5       0.94      0.66      0.77      2921\n",
            "\n",
            "    accuracy                           0.62      3505\n",
            "   macro avg       0.38      0.47      0.39      3505\n",
            "weighted avg       0.82      0.62      0.69      3505\n",
            "\n",
            "Reales       0    1    2     3   All\n",
            "Predichos                           \n",
            "0          152   35   19    16   222\n",
            "1           38   18   26    11    93\n",
            "2           40   30   95   104   269\n",
            "3          155  149  695  1922  2921\n",
            "All        385  232  835  2053  3505\n"
          ]
        }
      ],
      "source": [
        "# Sobremuestreo con SMOTE\n",
        "# Aplica SMOTE al conjunto de entrenamiento (con auto, all y not majority da igual)\n",
        "smote = SMOTE(sampling_strategy='not majority', random_state=1)\n",
        "x_train_resampled, y_train_resampled = smote.fit_resample(x_train, y_train)\n",
        "\n",
        "# Define el modelo de regresión logística\n",
        "logreg = LogisticRegression(max_iter=300)\n",
        "\n",
        "# Entrena el modelo en el conjunto de entrenamiento sobremuestreado\n",
        "logreg.fit(x_train_resampled, y_train_resampled)\n",
        "\n",
        "# Evalúa el modelo en el conjunto de prueba\n",
        "test_acc = logreg.score(x_test, y_test)\n",
        "print(f'Precisión en el conjunto de prueba. Reg Log con SMOTE: {test_acc}')\n",
        "\n",
        "# Informe de clasificación\n",
        "y_pred = logreg.predict(x_test)\n",
        "etiquetas = ['1', '3', '4', '5']\n",
        "print(classification_report(y_test, y_pred, target_names=etiquetas))\n",
        "\n",
        "# Tabla de contingencia\n",
        "tabla_cont = pd.crosstab(y_test, y_pred, rownames=['Predichos'], colnames=['Reales'], margins=True)\n",
        "print(tabla_cont)\n",
        "\n"
      ]
    },
    {
      "cell_type": "markdown",
      "metadata": {
        "id": "ap3K7Lvs4uYQ"
      },
      "source": [
        "###Nubes de Palabras\n",
        "#####Se realizan nubes de palabras para visualizar las más frecuentes en cada categoría de estrellas."
      ]
    },
    {
      "cell_type": "code",
      "execution_count": 71,
      "metadata": {
        "id": "0aLFCw1ustdH",
        "outputId": "5891d572-e4d3-4dbe-db7d-91443bfc53ad"
      },
      "outputs": [
        {
          "data": {
            "image/png": "[encoded data removed]",
            "text/plain": [
              "<Figure size 1000x500 with 1 Axes>"
            ]
          },
          "metadata": {},
          "output_type": "display_data"
        }
      ],
      "source": [
        "# Combina ambas listas de stopwords\n",
        "custom_stopwords = {'ser', 'haber', 'hacer', 'vez', 'hsn'} #palabras que NO nos interesa visualizar en la nube de palabras\n",
        "all_stopwords = set(stop_spanish).union(custom_stopwords)\n",
        "\n",
        "# Crear una función para generar la nube de palabras\n",
        "def generate_wordcloud(text, title):\n",
        "    wordcloud = WordCloud(width=800, height=400, background_color='white', stopwords=all_stopwords).generate(text)\n",
        "\n",
        "    plt.figure(figsize=(10, 5))\n",
        "    plt.imshow(wordcloud, interpolation='bilinear')\n",
        "    plt.axis('off')\n",
        "    plt.title(title)\n",
        "    plt.show()\n",
        "\n",
        "# Generar nubes de palabras para las categorías de 1 y 2 estrellas\n",
        "titles_for_star = ' '.join(X[df['Estrellas'] == 1])\n",
        "generate_wordcloud(titles_for_star, f'Nube de palabras para 1-2 estrellas')\n"
      ]
    },
    {
      "cell_type": "code",
      "execution_count": 72,
      "metadata": {
        "id": "lxXLNGftNf2d",
        "outputId": "adcafcf2-2d22-4f3d-c7ee-be84a0535fc8"
      },
      "outputs": [
        {
          "data": {
            "application/vnd.plotly.v1+json": {
              "config": {
                "plotlyServerURL": "https://plot.ly"
              },
              "data": [
                {
                  "marker": {
                    "color": "skyblue"
                  },
                  "name": "Frecuencia",
                  "type": "bar",
                  "x": [
                    "pedido",
                    "producto",
                    "precio",
                    "llegar",
                    "malo",
                    "servicio",
                    "envío",
                    "mal",
                    "comprar",
                    "día",
                    "recibir",
                    "cliente",
                    "pago",
                    "paquete",
                    "problema"
                  ],
                  "y": [
                    136,
                    70,
                    61,
                    55,
                    32,
                    32,
                    31,
                    30,
                    26,
                    26,
                    26,
                    24,
                    23,
                    23,
                    21
                  ]
                }
              ],
              "layout": {
                "annotations": [
                  {
                    "font": {
                      "size": 16
                    },
                    "showarrow": false,
                    "text": "Las 15 palabras más frecuentes en la categoría 1-2 estrellas",
                    "x": 0.5,
                    "xanchor": "center",
                    "xref": "paper",
                    "y": 1,
                    "yanchor": "bottom",
                    "yref": "paper"
                  }
                ],
                "showlegend": true,
                "template": {
                  "data": {
                    "bar": [
                      {
                        "error_x": {
                          "color": "#2a3f5f"
                        },
                        "error_y": {
                          "color": "#2a3f5f"
                        },
                        "marker": {
                          "line": {
                            "color": "#E5ECF6",
                            "width": 0.5
                          },
                          "pattern": {
                            "fillmode": "overlay",
                            "size": 10,
                            "solidity": 0.2
                          }
                        },
                        "type": "bar"
                      }
                    ],
                    "barpolar": [
                      {
                        "marker": {
                          "line": {
                            "color": "#E5ECF6",
                            "width": 0.5
                          },
                          "pattern": {
                            "fillmode": "overlay",
                            "size": 10,
                            "solidity": 0.2
                          }
                        },
                        "type": "barpolar"
                      }
                    ],
                    "carpet": [
                      {
                        "aaxis": {
                          "endlinecolor": "#2a3f5f",
                          "gridcolor": "white",
                          "linecolor": "white",
                          "minorgridcolor": "white",
                          "startlinecolor": "#2a3f5f"
                        },
                        "baxis": {
                          "endlinecolor": "#2a3f5f",
                          "gridcolor": "white",
                          "linecolor": "white",
                          "minorgridcolor": "white",
                          "startlinecolor": "#2a3f5f"
                        },
                        "type": "carpet"
                      }
                    ],
                    "choropleth": [
                      {
                        "colorbar": {
                          "outlinewidth": 0,
                          "ticks": ""
                        },
                        "type": "choropleth"
                      }
                    ],
                    "contour": [
                      {
                        "colorbar": {
                          "outlinewidth": 0,
                          "ticks": ""
                        },
                        "colorscale": [
                          [
                            0,
                            "#0d0887"
                          ],
                          [
                            0.1111111111111111,
                            "#46039f"
                          ],
                          [
                            0.2222222222222222,
                            "#7201a8"
                          ],
                          [
                            0.3333333333333333,
                            "#9c179e"
                          ],
                          [
                            0.4444444444444444,
                            "#bd3786"
                          ],
                          [
                            0.5555555555555556,
                            "#d8576b"
                          ],
                          [
                            0.6666666666666666,
                            "#ed7953"
                          ],
                          [
                            0.7777777777777778,
                            "#fb9f3a"
                          ],
                          [
                            0.8888888888888888,
                            "#fdca26"
                          ],
                          [
                            1,
                            "#f0f921"
                          ]
                        ],
                        "type": "contour"
                      }
                    ],
                    "contourcarpet": [
                      {
                        "colorbar": {
                          "outlinewidth": 0,
                          "ticks": ""
                        },
                        "type": "contourcarpet"
                      }
                    ],
                    "heatmap": [
                      {
                        "colorbar": {
                          "outlinewidth": 0,
                          "ticks": ""
                        },
                        "colorscale": [
                          [
                            0,
                            "#0d0887"
                          ],
                          [
                            0.1111111111111111,
                            "#46039f"
                          ],
                          [
                            0.2222222222222222,
                            "#7201a8"
                          ],
                          [
                            0.3333333333333333,
                            "#9c179e"
                          ],
                          [
                            0.4444444444444444,
                            "#bd3786"
                          ],
                          [
                            0.5555555555555556,
                            "#d8576b"
                          ],
                          [
                            0.6666666666666666,
                            "#ed7953"
                          ],
                          [
                            0.7777777777777778,
                            "#fb9f3a"
                          ],
                          [
                            0.8888888888888888,
                            "#fdca26"
                          ],
                          [
                            1,
                            "#f0f921"
                          ]
                        ],
                        "type": "heatmap"
                      }
                    ],
                    "heatmapgl": [
                      {
                        "colorbar": {
                          "outlinewidth": 0,
                          "ticks": ""
                        },
                        "colorscale": [
                          [
                            0,
                            "#0d0887"
                          ],
                          [
                            0.1111111111111111,
                            "#46039f"
                          ],
                          [
                            0.2222222222222222,
                            "#7201a8"
                          ],
                          [
                            0.3333333333333333,
                            "#9c179e"
                          ],
                          [
                            0.4444444444444444,
                            "#bd3786"
                          ],
                          [
                            0.5555555555555556,
                            "#d8576b"
                          ],
                          [
                            0.6666666666666666,
                            "#ed7953"
                          ],
                          [
                            0.7777777777777778,
                            "#fb9f3a"
                          ],
                          [
                            0.8888888888888888,
                            "#fdca26"
                          ],
                          [
                            1,
                            "#f0f921"
                          ]
                        ],
                        "type": "heatmapgl"
                      }
                    ],
                    "histogram": [
                      {
                        "marker": {
                          "pattern": {
                            "fillmode": "overlay",
                            "size": 10,
                            "solidity": 0.2
                          }
                        },
                        "type": "histogram"
                      }
                    ],
                    "histogram2d": [
                      {
                        "colorbar": {
                          "outlinewidth": 0,
                          "ticks": ""
                        },
                        "colorscale": [
                          [
                            0,
                            "#0d0887"
                          ],
                          [
                            0.1111111111111111,
                            "#46039f"
                          ],
                          [
                            0.2222222222222222,
                            "#7201a8"
                          ],
                          [
                            0.3333333333333333,
                            "#9c179e"
                          ],
                          [
                            0.4444444444444444,
                            "#bd3786"
                          ],
                          [
                            0.5555555555555556,
                            "#d8576b"
                          ],
                          [
                            0.6666666666666666,
                            "#ed7953"
                          ],
                          [
                            0.7777777777777778,
                            "#fb9f3a"
                          ],
                          [
                            0.8888888888888888,
                            "#fdca26"
                          ],
                          [
                            1,
                            "#f0f921"
                          ]
                        ],
                        "type": "histogram2d"
                      }
                    ],
                    "histogram2dcontour": [
                      {
                        "colorbar": {
                          "outlinewidth": 0,
                          "ticks": ""
                        },
                        "colorscale": [
                          [
                            0,
                            "#0d0887"
                          ],
                          [
                            0.1111111111111111,
                            "#46039f"
                          ],
                          [
                            0.2222222222222222,
                            "#7201a8"
                          ],
                          [
                            0.3333333333333333,
                            "#9c179e"
                          ],
                          [
                            0.4444444444444444,
                            "#bd3786"
                          ],
                          [
                            0.5555555555555556,
                            "#d8576b"
                          ],
                          [
                            0.6666666666666666,
                            "#ed7953"
                          ],
                          [
                            0.7777777777777778,
                            "#fb9f3a"
                          ],
                          [
                            0.8888888888888888,
                            "#fdca26"
                          ],
                          [
                            1,
                            "#f0f921"
                          ]
                        ],
                        "type": "histogram2dcontour"
                      }
                    ],
                    "mesh3d": [
                      {
                        "colorbar": {
                          "outlinewidth": 0,
                          "ticks": ""
                        },
                        "type": "mesh3d"
                      }
                    ],
                    "parcoords": [
                      {
                        "line": {
                          "colorbar": {
                            "outlinewidth": 0,
                            "ticks": ""
                          }
                        },
                        "type": "parcoords"
                      }
                    ],
                    "pie": [
                      {
                        "automargin": true,
                        "type": "pie"
                      }
                    ],
                    "scatter": [
                      {
                        "fillpattern": {
                          "fillmode": "overlay",
                          "size": 10,
                          "solidity": 0.2
                        },
                        "type": "scatter"
                      }
                    ],
                    "scatter3d": [
                      {
                        "line": {
                          "colorbar": {
                            "outlinewidth": 0,
                            "ticks": ""
                          }
                        },
                        "marker": {
                          "colorbar": {
                            "outlinewidth": 0,
                            "ticks": ""
                          }
                        },
                        "type": "scatter3d"
                      }
                    ],
                    "scattercarpet": [
                      {
                        "marker": {
                          "colorbar": {
                            "outlinewidth": 0,
                            "ticks": ""
                          }
                        },
                        "type": "scattercarpet"
                      }
                    ],
                    "scattergeo": [
                      {
                        "marker": {
                          "colorbar": {
                            "outlinewidth": 0,
                            "ticks": ""
                          }
                        },
                        "type": "scattergeo"
                      }
                    ],
                    "scattergl": [
                      {
                        "marker": {
                          "colorbar": {
                            "outlinewidth": 0,
                            "ticks": ""
                          }
                        },
                        "type": "scattergl"
                      }
                    ],
                    "scattermapbox": [
                      {
                        "marker": {
                          "colorbar": {
                            "outlinewidth": 0,
                            "ticks": ""
                          }
                        },
                        "type": "scattermapbox"
                      }
                    ],
                    "scatterpolar": [
                      {
                        "marker": {
                          "colorbar": {
                            "outlinewidth": 0,
                            "ticks": ""
                          }
                        },
                        "type": "scatterpolar"
                      }
                    ],
                    "scatterpolargl": [
                      {
                        "marker": {
                          "colorbar": {
                            "outlinewidth": 0,
                            "ticks": ""
                          }
                        },
                        "type": "scatterpolargl"
                      }
                    ],
                    "scatterternary": [
                      {
                        "marker": {
                          "colorbar": {
                            "outlinewidth": 0,
                            "ticks": ""
                          }
                        },
                        "type": "scatterternary"
                      }
                    ],
                    "surface": [
                      {
                        "colorbar": {
                          "outlinewidth": 0,
                          "ticks": ""
                        },
                        "colorscale": [
                          [
                            0,
                            "#0d0887"
                          ],
                          [
                            0.1111111111111111,
                            "#46039f"
                          ],
                          [
                            0.2222222222222222,
                            "#7201a8"
                          ],
                          [
                            0.3333333333333333,
                            "#9c179e"
                          ],
                          [
                            0.4444444444444444,
                            "#bd3786"
                          ],
                          [
                            0.5555555555555556,
                            "#d8576b"
                          ],
                          [
                            0.6666666666666666,
                            "#ed7953"
                          ],
                          [
                            0.7777777777777778,
                            "#fb9f3a"
                          ],
                          [
                            0.8888888888888888,
                            "#fdca26"
                          ],
                          [
                            1,
                            "#f0f921"
                          ]
                        ],
                        "type": "surface"
                      }
                    ],
                    "table": [
                      {
                        "cells": {
                          "fill": {
                            "color": "#EBF0F8"
                          },
                          "line": {
                            "color": "white"
                          }
                        },
                        "header": {
                          "fill": {
                            "color": "#C8D4E3"
                          },
                          "line": {
                            "color": "white"
                          }
                        },
                        "type": "table"
                      }
                    ]
                  },
                  "layout": {
                    "annotationdefaults": {
                      "arrowcolor": "#2a3f5f",
                      "arrowhead": 0,
                      "arrowwidth": 1
                    },
                    "autotypenumbers": "strict",
                    "coloraxis": {
                      "colorbar": {
                        "outlinewidth": 0,
                        "ticks": ""
                      }
                    },
                    "colorscale": {
                      "diverging": [
                        [
                          0,
                          "#8e0152"
                        ],
                        [
                          0.1,
                          "#c51b7d"
                        ],
                        [
                          0.2,
                          "#de77ae"
                        ],
                        [
                          0.3,
                          "#f1b6da"
                        ],
                        [
                          0.4,
                          "#fde0ef"
                        ],
                        [
                          0.5,
                          "#f7f7f7"
                        ],
                        [
                          0.6,
                          "#e6f5d0"
                        ],
                        [
                          0.7,
                          "#b8e186"
                        ],
                        [
                          0.8,
                          "#7fbc41"
                        ],
                        [
                          0.9,
                          "#4d9221"
                        ],
                        [
                          1,
                          "#276419"
                        ]
                      ],
                      "sequential": [
                        [
                          0,
                          "#0d0887"
                        ],
                        [
                          0.1111111111111111,
                          "#46039f"
                        ],
                        [
                          0.2222222222222222,
                          "#7201a8"
                        ],
                        [
                          0.3333333333333333,
                          "#9c179e"
                        ],
                        [
                          0.4444444444444444,
                          "#bd3786"
                        ],
                        [
                          0.5555555555555556,
                          "#d8576b"
                        ],
                        [
                          0.6666666666666666,
                          "#ed7953"
                        ],
                        [
                          0.7777777777777778,
                          "#fb9f3a"
                        ],
                        [
                          0.8888888888888888,
                          "#fdca26"
                        ],
                        [
                          1,
                          "#f0f921"
                        ]
                      ],
                      "sequentialminus": [
                        [
                          0,
                          "#0d0887"
                        ],
                        [
                          0.1111111111111111,
                          "#46039f"
                        ],
                        [
                          0.2222222222222222,
                          "#7201a8"
                        ],
                        [
                          0.3333333333333333,
                          "#9c179e"
                        ],
                        [
                          0.4444444444444444,
                          "#bd3786"
                        ],
                        [
                          0.5555555555555556,
                          "#d8576b"
                        ],
                        [
                          0.6666666666666666,
                          "#ed7953"
                        ],
                        [
                          0.7777777777777778,
                          "#fb9f3a"
                        ],
                        [
                          0.8888888888888888,
                          "#fdca26"
                        ],
                        [
                          1,
                          "#f0f921"
                        ]
                      ]
                    },
                    "colorway": [
                      "#636efa",
                      "#EF553B",
                      "#00cc96",
                      "#ab63fa",
                      "#FFA15A",
                      "#19d3f3",
                      "#FF6692",
                      "#B6E880",
                      "#FF97FF",
                      "#FECB52"
                    ],
                    "font": {
                      "color": "#2a3f5f"
                    },
                    "geo": {
                      "bgcolor": "white",
                      "lakecolor": "white",
                      "landcolor": "#E5ECF6",
                      "showlakes": true,
                      "showland": true,
                      "subunitcolor": "white"
                    },
                    "hoverlabel": {
                      "align": "left"
                    },
                    "hovermode": "closest",
                    "mapbox": {
                      "style": "light"
                    },
                    "paper_bgcolor": "white",
                    "plot_bgcolor": "#E5ECF6",
                    "polar": {
                      "angularaxis": {
                        "gridcolor": "white",
                        "linecolor": "white",
                        "ticks": ""
                      },
                      "bgcolor": "#E5ECF6",
                      "radialaxis": {
                        "gridcolor": "white",
                        "linecolor": "white",
                        "ticks": ""
                      }
                    },
                    "scene": {
                      "xaxis": {
                        "backgroundcolor": "#E5ECF6",
                        "gridcolor": "white",
                        "gridwidth": 2,
                        "linecolor": "white",
                        "showbackground": true,
                        "ticks": "",
                        "zerolinecolor": "white"
                      },
                      "yaxis": {
                        "backgroundcolor": "#E5ECF6",
                        "gridcolor": "white",
                        "gridwidth": 2,
                        "linecolor": "white",
                        "showbackground": true,
                        "ticks": "",
                        "zerolinecolor": "white"
                      },
                      "zaxis": {
                        "backgroundcolor": "#E5ECF6",
                        "gridcolor": "white",
                        "gridwidth": 2,
                        "linecolor": "white",
                        "showbackground": true,
                        "ticks": "",
                        "zerolinecolor": "white"
                      }
                    },
                    "shapedefaults": {
                      "line": {
                        "color": "#2a3f5f"
                      }
                    },
                    "ternary": {
                      "aaxis": {
                        "gridcolor": "white",
                        "linecolor": "white",
                        "ticks": ""
                      },
                      "baxis": {
                        "gridcolor": "white",
                        "linecolor": "white",
                        "ticks": ""
                      },
                      "bgcolor": "#E5ECF6",
                      "caxis": {
                        "gridcolor": "white",
                        "linecolor": "white",
                        "ticks": ""
                      }
                    },
                    "title": {
                      "x": 0.05
                    },
                    "xaxis": {
                      "automargin": true,
                      "gridcolor": "white",
                      "linecolor": "white",
                      "ticks": "",
                      "title": {
                        "standoff": 15
                      },
                      "zerolinecolor": "white",
                      "zerolinewidth": 2
                    },
                    "yaxis": {
                      "automargin": true,
                      "gridcolor": "white",
                      "linecolor": "white",
                      "ticks": "",
                      "title": {
                        "standoff": 15
                      },
                      "zerolinecolor": "white",
                      "zerolinewidth": 2
                    }
                  }
                },
                "xaxis": {
                  "anchor": "y",
                  "domain": [
                    0,
                    1
                  ],
                  "title": {
                    "text": "Palabras"
                  }
                },
                "yaxis": {
                  "anchor": "x",
                  "domain": [
                    0,
                    1
                  ],
                  "title": {
                    "text": "Frecuencia"
                  }
                }
              }
            }
          },
          "metadata": {},
          "output_type": "display_data"
        }
      ],
      "source": [
        "# Obtener las palabras más frecuentes en la categoría 1 sin stopwords\n",
        "text_category_1 = ' '.join(X[df['Estrellas'] == 1])\n",
        "filtered_words = [word for word in text_category_1.split() if word.lower() not in all_stopwords]\n",
        "word_counter = Counter(filtered_words)\n",
        "top_words = word_counter.most_common(15)\n",
        "\n",
        "# Crear una lista con las palabras y sus frecuencias\n",
        "words = [word[0] for word in top_words]\n",
        "frequencies = [word[1] for word in top_words]\n",
        "\n",
        "# Crear un subplot interactivo con Plotly\n",
        "fig = make_subplots(rows=1, cols=1, subplot_titles=[\"Las 15 palabras más frecuentes en la categoría 1-2 estrellas\"])\n",
        "\n",
        "# Crear el gráfico de barras interactivas\n",
        "bar_chart = go.Bar(x=words, y=frequencies, marker_color='skyblue', name=\"Frecuencia\")\n",
        "fig.add_trace(bar_chart)\n",
        "\n",
        "# Actualizar el diseño del gráfico\n",
        "fig.update_layout(xaxis_title=\"Palabras\",\n",
        "                  yaxis_title=\"Frecuencia\",\n",
        "                  showlegend=True)\n",
        "\n",
        "# Mostrar el gráfico interactivo\n",
        "fig.show()"
      ]
    },
    {
      "cell_type": "markdown",
      "metadata": {
        "id": "Scor3yEqRLft"
      },
      "source": [
        "Se observa que los términos que aparecen con mayor frecuencia en la nube de palabras de la categoría más baja están relacionados con el envío (llegar, recibir, entrega, pedido, día, paquete). También aparece con frecuencia la palabra precio, lo que probablemente se deba al contexto inflacionario.\n",
        "\n",
        "En este sentido, y dado que el servicio de transporte se encuentra tercerizado, se propone como posible estrategia de mejora el cambio de la empresa que brinda el servicio. Además de esta modificación, se ofrecerá a los clientes que han realizado reseñas negativas, un descuento del 50% en su siguiente compra.\n",
        "\n"
      ]
    },
    {
      "cell_type": "markdown",
      "metadata": {
        "id": "3jM8ESi_jcSl"
      },
      "source": [
        "### Valoración"
      ]
    },
    {
      "cell_type": "markdown",
      "metadata": {
        "id": "h1O_CMfvRkEm"
      },
      "source": [
        "**Si se considera:**\n",
        "- Valor de compra promedio 25€ (valor a partir del cual se ofrece envío gratuito)\n",
        "- Promedio de 4 compras anuales por cliente\n",
        "\n",
        "\n",
        "*TP:* el modelo predice una baja calificación cuando efectivamente lo es. Si se retiene o recupera un cliente que da una mala reseña esto representaría 25€ x 4 – 12,5€ (valor del descuento) = 87,5€\n",
        "\n",
        "*FP:* el modelo predice una calificación baja cuando no lo es. Si se ofrece un descuento a un cliente que no está disconforme, se estaría perdiendo 12,5€ (lo que se deja de ganar por ofrecer un descuento)\n",
        "\n",
        "*FN:* el modelo predice que una calificación es buena cuando en realidad no lo es (falla en detectar las bajas calificaciones). En este caso no se realiza ninguna acción. Se establece un valor = 0.\n",
        "\n",
        "*TN:* el modelo predice que una calificación es buena cuando esta lo es. En este caso no se realiza ninguna acción. Se establece un valor = 0.\n",
        "\n",
        "![image.png](data:image/png;base64,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)\n",
        "\n",
        "Tabla: Valoración de los distintos modelos\n",
        "\n",
        "![image.png](data:image/png;base64,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)\n",
        "\n",
        "\n",
        "**Valor =87,5 x VP - 12,5 x FP - 0 x FN + 0 x VN**\n",
        "\n",
        "\n"
      ]
    },
    {
      "cell_type": "markdown",
      "metadata": {
        "id": "WCu0XRhjk6PC"
      },
      "source": [
        "# Consideraciones\n",
        "\n",
        "Limitaciones del Modelo:\n",
        "- Los todos los modelos presentan valores de accuracy globales aceptables, aunque esto se debe a la influencia de la categoría 5 estrellas.\n",
        "- Cuando se observan las métricas para la categoría de interés (1-2 estrellas), estas no son buenas.\n",
        "- Si bien se intentó balancear el dataset, la categoría 5 estrellas sigue siendo muy grande, lo cual influye la performance de los modelos. \n",
        "- Todos los modelos evaluados han mostrado una baja sensibilidad (recall) en la categoría 1 estrella., lo que significa que NO fueron muy propensos a detectarla. Sin embargo, al agrupar las categorías 1 y 2 estrellas, se puede observar una mejora en las métricas. \n",
        " \n",
        "\n",
        "Si se considera:\n",
        "- Valor de compra promedio 25€ (valor a partir del cual se ofrece envío gratuito)\n",
        "- Existen 886 reseñas con 1 y 2 estrellas en total, lo que representa un promedio de 230 por año (reseñas desde enero 2020 hasta octubre 2023). Se realizará la estimación considerando un que una reseña representa al usuario.\n",
        "- 230 usuarios x 25€ x 4 pedidos anuales = 23.000€ anuales que podrían ganarse si el 100% de estos usuarios continuaran comprando (20.125 el primer año)\n",
        "- Si la estrategia que incluye el descuento y la mejora del transporte, lograra un efecto positivo en al menos el 50%, se estarían recuperando 11.500€ anuales (10.062 el primer año)\n",
        "\n",
        "\n",
        "La estimación del valor potencial se realiza considerando el valor promedio de compra, el número de reseñas anuales y la posible recuperación económica mediante estrategias de descuento y mejora en el transporte. La aplicación de la estrategia podría resultar en la recuperación de una cantidad significativa de ingresos anuales, especialmente si se logra un impacto positivo en al menos el 50% de los usuarios insatisfechos.\n",
        "\n",
        "\n",
        "Uso del modelo propuesto: A pesar de las limitaciones métricas, el modelo propuesto puede desempeñar un papel valioso en el monitoreo de los motivos de insatisfacción de los clientes a través de las reseñas disponibles.\n",
        "Además, puede ser una herramienta efectiva para evaluar el impacto potencial de diversas estrategias comerciales, permitiendo una asignación más eficiente de recursos y una toma de decisiones más informada.\n",
        "Recomendaciones y oportunidades de mejora: Es crucial considerar futuras mejoras, como la expansión del conjunto de datos, la recopilación de información adicional sobre la experiencia del cliente y la exploración de técnicas avanzadas de procesamiento de lenguaje natural para mejorar la comprensión de las reseñas.\n",
        "Se podría explorar la posibilidad de incorporar características adicionales, como el sentimiento expresado en las reseñas, para mejorar la capacidad del modelo para capturar matices emocionales.\n",
        "\n",
        "Conclusiones: La elección del modelo de redes neuronales con pesos por clases se basa en la tabla de valorización que considera descuentos en compras futuras.  \n",
        "A pesar de las limitaciones, el modelo propuesto presenta un valor práctico en términos de la toma de decisiones empresariales, especialmente cuando se considera el impacto económico de las estrategias implementadas. Es una herramienta valiosa para comprender y abordar las preocupaciones de los clientes, así como para evaluar el rendimiento de las iniciativas comerciales.\n",
        "\n"
      ]
    }
  ],
  "metadata": {
    "accelerator": "GPU",
    "colab": {
      "gpuType": "T4",
      "provenance": []
    },
    "kernelspec": {
      "display_name": "Python 3 (ipykernel)",
      "language": "python",
      "name": "python3"
    },
    "language_info": {
      "codemirror_mode": {
        "name": "ipython",
        "version": 3
      },
      "file_extension": ".py",
      "mimetype": "text/x-python",
      "name": "python",
      "nbconvert_exporter": "python",
      "pygments_lexer": "ipython3",
      "version": "3.10.7"
    }
  },
  "nbformat": 4,
  "nbformat_minor": 0
}
