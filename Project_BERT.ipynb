{
  "cells": [
    {
      "cell_type": "markdown",
      "metadata": {
        "id": "view-in-github",
        "colab_type": "text"
      },
      "source": [
        "<a href=\"https://colab.research.google.com/github/VeroGI/Supplement_Reviews/blob/main/Project_BERT.ipynb\" target=\"_parent\"><img src=\"https://colab.research.google.com/assets/colab-badge.svg\" alt=\"Open In Colab\"/></a>"
      ]
    },
    {
      "cell_type": "markdown",
      "metadata": {
        "id": "bwoEY0s0M7t4"
      },
      "source": [
        "## Intro\n",
        "\n",
        "In this project, I'm exploring the capabilities of the Hugging Face library for sentiment analysis on reviews of nutritional supplements. To do this, I've employed the same dataset utilized in the final project of my data science diploma, along with models that have demonstrated the best performance.\n",
        "\n",
        "Specifically, I've chosen to use the bert-base-multilingual-uncased-sentiment model (BERT), which has been fine-tuned for sentiment analysis on product reviews across six languages, including Spanish. This model assigns a sentiment rating ranging from 1 to 5 stars to each review."
      ]
    },
    {
      "cell_type": "code",
      "execution_count": 106,
      "metadata": {
        "colab": {
          "base_uri": "https://localhost:8080/"
        },
        "id": "VdAbIdMQ5NPU",
        "outputId": "bde95d42-11a3-416a-f6c1-b80e19d019eb"
      },
      "outputs": [
        {
          "output_type": "stream",
          "name": "stdout",
          "text": [
            "\u001b[38;5;2m✔ Download and installation successful\u001b[0m\n",
            "You can now load the package via spacy.load('es_core_news_sm')\n",
            "\u001b[38;5;3m⚠ Restart to reload dependencies\u001b[0m\n",
            "If you are in a Jupyter or Colab notebook, you may need to restart Python in\n",
            "order to load all the package's dependencies. You can do this by selecting the\n",
            "'Restart kernel' or 'Restart runtime' option.\n"
          ]
        }
      ],
      "source": [
        "import pandas as pd\n",
        "import numpy as np\n",
        "import matplotlib.pyplot as plt\n",
        "!pip install transformers -q\n",
        "from transformers import pipeline\n",
        "from sklearn.preprocessing import LabelEncoder\n",
        "import tensorflow as tf\n",
        "from tensorflow import keras\n",
        "from tensorflow.keras.callbacks import EarlyStopping\n",
        "from sklearn.linear_model import LogisticRegression\n",
        "from sklearn.feature_extraction.text import CountVectorizer\n",
        "from sklearn.naive_bayes import ComplementNB as ComplementNB_sk\n",
        "\n",
        "from sklearn.metrics import confusion_matrix\n",
        "from sklearn.metrics import roc_curve, auc\n",
        "from sklearn.preprocessing import label_binarize\n",
        "from sklearn.metrics import classification_report\n",
        "import spacy\n",
        "spacy.cli.download(\"es_core_news_sm\")\n",
        "import joblib\n",
        "\n"
      ]
    },
    {
      "cell_type": "code",
      "execution_count": null,
      "metadata": {
        "colab": {
          "base_uri": "https://localhost:8080/",
          "height": 90
        },
        "id": "0V8jIHkV40ui",
        "outputId": "4ba0e679-da1b-4a70-bb34-d2a7bac2d53d"
      },
      "outputs": [
        {
          "output_type": "display_data",
          "data": {
            "text/plain": [
              "<IPython.core.display.HTML object>"
            ],
            "text/html": [
              "\n",
              "     <input type=\"file\" id=\"files-0fbab2e2-e1ef-4434-9338-457e1d0b68a3\" name=\"files[]\" multiple disabled\n",
              "        style=\"border:none\" />\n",
              "     <output id=\"result-0fbab2e2-e1ef-4434-9338-457e1d0b68a3\">\n",
              "      Upload widget is only available when the cell has been executed in the\n",
              "      current browser session. Please rerun this cell to enable.\n",
              "      </output>\n",
              "      <script>// Copyright 2017 Google LLC\n",
              "//\n",
              "// Licensed under the Apache License, Version 2.0 (the \"License\");\n",
              "// you may not use this file except in compliance with the License.\n",
              "// You may obtain a copy of the License at\n",
              "//\n",
              "//      http://www.apache.org/licenses/LICENSE-2.0\n",
              "//\n",
              "// Unless required by applicable law or agreed to in writing, software\n",
              "// distributed under the License is distributed on an \"AS IS\" BASIS,\n",
              "// WITHOUT WARRANTIES OR CONDITIONS OF ANY KIND, either express or implied.\n",
              "// See the License for the specific language governing permissions and\n",
              "// limitations under the License.\n",
              "\n",
              "/**\n",
              " * @fileoverview Helpers for google.colab Python module.\n",
              " */\n",
              "(function(scope) {\n",
              "function span(text, styleAttributes = {}) {\n",
              "  const element = document.createElement('span');\n",
              "  element.textContent = text;\n",
              "  for (const key of Object.keys(styleAttributes)) {\n",
              "    element.style[key] = styleAttributes[key];\n",
              "  }\n",
              "  return element;\n",
              "}\n",
              "\n",
              "// Max number of bytes which will be uploaded at a time.\n",
              "const MAX_PAYLOAD_SIZE = 100 * 1024;\n",
              "\n",
              "function _uploadFiles(inputId, outputId) {\n",
              "  const steps = uploadFilesStep(inputId, outputId);\n",
              "  const outputElement = document.getElementById(outputId);\n",
              "  // Cache steps on the outputElement to make it available for the next call\n",
              "  // to uploadFilesContinue from Python.\n",
              "  outputElement.steps = steps;\n",
              "\n",
              "  return _uploadFilesContinue(outputId);\n",
              "}\n",
              "\n",
              "// This is roughly an async generator (not supported in the browser yet),\n",
              "// where there are multiple asynchronous steps and the Python side is going\n",
              "// to poll for completion of each step.\n",
              "// This uses a Promise to block the python side on completion of each step,\n",
              "// then passes the result of the previous step as the input to the next step.\n",
              "function _uploadFilesContinue(outputId) {\n",
              "  const outputElement = document.getElementById(outputId);\n",
              "  const steps = outputElement.steps;\n",
              "\n",
              "  const next = steps.next(outputElement.lastPromiseValue);\n",
              "  return Promise.resolve(next.value.promise).then((value) => {\n",
              "    // Cache the last promise value to make it available to the next\n",
              "    // step of the generator.\n",
              "    outputElement.lastPromiseValue = value;\n",
              "    return next.value.response;\n",
              "  });\n",
              "}\n",
              "\n",
              "/**\n",
              " * Generator function which is called between each async step of the upload\n",
              " * process.\n",
              " * @param {string} inputId Element ID of the input file picker element.\n",
              " * @param {string} outputId Element ID of the output display.\n",
              " * @return {!Iterable<!Object>} Iterable of next steps.\n",
              " */\n",
              "function* uploadFilesStep(inputId, outputId) {\n",
              "  const inputElement = document.getElementById(inputId);\n",
              "  inputElement.disabled = false;\n",
              "\n",
              "  const outputElement = document.getElementById(outputId);\n",
              "  outputElement.innerHTML = '';\n",
              "\n",
              "  const pickedPromise = new Promise((resolve) => {\n",
              "    inputElement.addEventListener('change', (e) => {\n",
              "      resolve(e.target.files);\n",
              "    });\n",
              "  });\n",
              "\n",
              "  const cancel = document.createElement('button');\n",
              "  inputElement.parentElement.appendChild(cancel);\n",
              "  cancel.textContent = 'Cancel upload';\n",
              "  const cancelPromise = new Promise((resolve) => {\n",
              "    cancel.onclick = () => {\n",
              "      resolve(null);\n",
              "    };\n",
              "  });\n",
              "\n",
              "  // Wait for the user to pick the files.\n",
              "  const files = yield {\n",
              "    promise: Promise.race([pickedPromise, cancelPromise]),\n",
              "    response: {\n",
              "      action: 'starting',\n",
              "    }\n",
              "  };\n",
              "\n",
              "  cancel.remove();\n",
              "\n",
              "  // Disable the input element since further picks are not allowed.\n",
              "  inputElement.disabled = true;\n",
              "\n",
              "  if (!files) {\n",
              "    return {\n",
              "      response: {\n",
              "        action: 'complete',\n",
              "      }\n",
              "    };\n",
              "  }\n",
              "\n",
              "  for (const file of files) {\n",
              "    const li = document.createElement('li');\n",
              "    li.append(span(file.name, {fontWeight: 'bold'}));\n",
              "    li.append(span(\n",
              "        `(${file.type || 'n/a'}) - ${file.size} bytes, ` +\n",
              "        `last modified: ${\n",
              "            file.lastModifiedDate ? file.lastModifiedDate.toLocaleDateString() :\n",
              "                                    'n/a'} - `));\n",
              "    const percent = span('0% done');\n",
              "    li.appendChild(percent);\n",
              "\n",
              "    outputElement.appendChild(li);\n",
              "\n",
              "    const fileDataPromise = new Promise((resolve) => {\n",
              "      const reader = new FileReader();\n",
              "      reader.onload = (e) => {\n",
              "        resolve(e.target.result);\n",
              "      };\n",
              "      reader.readAsArrayBuffer(file);\n",
              "    });\n",
              "    // Wait for the data to be ready.\n",
              "    let fileData = yield {\n",
              "      promise: fileDataPromise,\n",
              "      response: {\n",
              "        action: 'continue',\n",
              "      }\n",
              "    };\n",
              "\n",
              "    // Use a chunked sending to avoid message size limits. See b/62115660.\n",
              "    let position = 0;\n",
              "    do {\n",
              "      const length = Math.min(fileData.byteLength - position, MAX_PAYLOAD_SIZE);\n",
              "      const chunk = new Uint8Array(fileData, position, length);\n",
              "      position += length;\n",
              "\n",
              "      const base64 = btoa(String.fromCharCode.apply(null, chunk));\n",
              "      yield {\n",
              "        response: {\n",
              "          action: 'append',\n",
              "          file: file.name,\n",
              "          data: base64,\n",
              "        },\n",
              "      };\n",
              "\n",
              "      let percentDone = fileData.byteLength === 0 ?\n",
              "          100 :\n",
              "          Math.round((position / fileData.byteLength) * 100);\n",
              "      percent.textContent = `${percentDone}% done`;\n",
              "\n",
              "    } while (position < fileData.byteLength);\n",
              "  }\n",
              "\n",
              "  // All done.\n",
              "  yield {\n",
              "    response: {\n",
              "      action: 'complete',\n",
              "    }\n",
              "  };\n",
              "}\n",
              "\n",
              "scope.google = scope.google || {};\n",
              "scope.google.colab = scope.google.colab || {};\n",
              "scope.google.colab._files = {\n",
              "  _uploadFiles,\n",
              "  _uploadFilesContinue,\n",
              "};\n",
              "})(self);\n",
              "</script> "
            ]
          },
          "metadata": {}
        },
        {
          "output_type": "stream",
          "name": "stdout",
          "text": [
            "Saving ReviewsStars.xlsx to ReviewsStars (1).xlsx\n"
          ]
        }
      ],
      "source": [
        "# Upload file\n",
        "from google.colab import files\n",
        "\n",
        "uploaded = files.upload()"
      ]
    },
    {
      "cell_type": "code",
      "execution_count": 56,
      "metadata": {
        "id": "1bMJXQ0Y5AcS"
      },
      "outputs": [],
      "source": [
        "datos = 'ReviewsStars.xlsx'\n",
        "df = pd.read_excel(datos)"
      ]
    },
    {
      "cell_type": "markdown",
      "metadata": {
        "id": "U3eSdnVgUCYE"
      },
      "source": [
        "Sentiment analysis is conducted on every title within the 'Título' column employing a pre-existing BERT-based sentiment analysis model. The outcomes are stored in a newly created column named 'HF' within the original DataFrame.\n",
        "\n"
      ]
    },
    {
      "cell_type": "code",
      "execution_count": 57,
      "metadata": {
        "id": "sUiUGs6dTz9l"
      },
      "outputs": [],
      "source": [
        "model_name = \"nlptown/bert-base-multilingual-uncased-sentiment\"\n",
        "classifier = pipeline(\"sentiment-analysis\", model=model_name)\n",
        "\n",
        "HF = []\n",
        "\n",
        "for titulo in df['Título']:\n",
        "    res = classifier(titulo)\n",
        "    HF.append(res)\n",
        "\n",
        "\n",
        "df['HF'] = HF\n"
      ]
    },
    {
      "cell_type": "code",
      "execution_count": 58,
      "metadata": {
        "colab": {
          "base_uri": "https://localhost:8080/",
          "height": 588
        },
        "id": "G6WYemQT-_1s",
        "outputId": "52643d65-fb31-48fe-a98f-bf6cb7d2d7d5"
      },
      "outputs": [
        {
          "output_type": "execute_result",
          "data": {
            "text/plain": [
              "                         Nombre  \\\n",
              "0                 Jose Gallardo   \n",
              "1                       cliente   \n",
              "2  Jose antonio García llorente   \n",
              "3                Mariló Andrade   \n",
              "4                        javier   \n",
              "\n",
              "                                           Título  \\\n",
              "0           Mejor comprar desde la página oficial   \n",
              "1            Como puede ser que sin previo aviso…   \n",
              "2               Los precios son los mejores y la…   \n",
              "3  Buena relación calidad precio y rápida entrega   \n",
              "4           Llevo mucho tiempo comprando en esta…   \n",
              "\n",
              "                                              Reseña Cantidad de Opiniones  \\\n",
              "0  Mucho más informativa y ordenada que la página...             1 opinión   \n",
              "1  Como puede ser que sin previo aviso dejéis de ...           4 opiniones   \n",
              "2  Los precios son los mejores y la calidad, pues...           2 opiniones   \n",
              "3  Buenísima relación calidad precio y la entrega...           2 opiniones   \n",
              "4  Llevo mucho tiempo comprando en esta empresa, ...             1 opinión   \n",
              "\n",
              "   Estrellas País Fecha Reseña     Verificada  \\\n",
              "0          5   ES   2023-10-12  No disponible   \n",
              "1          1   ES   2023-10-05     Verificada   \n",
              "2          5   ES   2023-10-14  No disponible   \n",
              "3          5   ES   2023-10-05     Verificada   \n",
              "4          3   ES   2023-10-12     Verificada   \n",
              "\n",
              "                                                  HF  \n",
              "0  [{'label': '5 stars', 'score': 0.5639822483062...  \n",
              "1  [{'label': '5 stars', 'score': 0.2663534283638...  \n",
              "2  [{'label': '5 stars', 'score': 0.7408106327056...  \n",
              "3  [{'label': '4 stars', 'score': 0.5154177546501...  \n",
              "4  [{'label': '5 stars', 'score': 0.5783866643905...  "
            ],
            "text/html": [
              "\n",
              "  <div id=\"df-456c0035-bad3-46af-9a93-e4c13318eca4\" class=\"colab-df-container\">\n",
              "    <div>\n",
              "<style scoped>\n",
              "    .dataframe tbody tr th:only-of-type {\n",
              "        vertical-align: middle;\n",
              "    }\n",
              "\n",
              "    .dataframe tbody tr th {\n",
              "        vertical-align: top;\n",
              "    }\n",
              "\n",
              "    .dataframe thead th {\n",
              "        text-align: right;\n",
              "    }\n",
              "</style>\n",
              "<table border=\"1\" class=\"dataframe\">\n",
              "  <thead>\n",
              "    <tr style=\"text-align: right;\">\n",
              "      <th></th>\n",
              "      <th>Nombre</th>\n",
              "      <th>Título</th>\n",
              "      <th>Reseña</th>\n",
              "      <th>Cantidad de Opiniones</th>\n",
              "      <th>Estrellas</th>\n",
              "      <th>País</th>\n",
              "      <th>Fecha Reseña</th>\n",
              "      <th>Verificada</th>\n",
              "      <th>HF</th>\n",
              "    </tr>\n",
              "  </thead>\n",
              "  <tbody>\n",
              "    <tr>\n",
              "      <th>0</th>\n",
              "      <td>Jose Gallardo</td>\n",
              "      <td>Mejor comprar desde la página oficial</td>\n",
              "      <td>Mucho más informativa y ordenada que la página...</td>\n",
              "      <td>1 opinión</td>\n",
              "      <td>5</td>\n",
              "      <td>ES</td>\n",
              "      <td>2023-10-12</td>\n",
              "      <td>No disponible</td>\n",
              "      <td>[{'label': '5 stars', 'score': 0.5639822483062...</td>\n",
              "    </tr>\n",
              "    <tr>\n",
              "      <th>1</th>\n",
              "      <td>cliente</td>\n",
              "      <td>Como puede ser que sin previo aviso…</td>\n",
              "      <td>Como puede ser que sin previo aviso dejéis de ...</td>\n",
              "      <td>4 opiniones</td>\n",
              "      <td>1</td>\n",
              "      <td>ES</td>\n",
              "      <td>2023-10-05</td>\n",
              "      <td>Verificada</td>\n",
              "      <td>[{'label': '5 stars', 'score': 0.2663534283638...</td>\n",
              "    </tr>\n",
              "    <tr>\n",
              "      <th>2</th>\n",
              "      <td>Jose antonio García llorente</td>\n",
              "      <td>Los precios son los mejores y la…</td>\n",
              "      <td>Los precios son los mejores y la calidad, pues...</td>\n",
              "      <td>2 opiniones</td>\n",
              "      <td>5</td>\n",
              "      <td>ES</td>\n",
              "      <td>2023-10-14</td>\n",
              "      <td>No disponible</td>\n",
              "      <td>[{'label': '5 stars', 'score': 0.7408106327056...</td>\n",
              "    </tr>\n",
              "    <tr>\n",
              "      <th>3</th>\n",
              "      <td>Mariló Andrade</td>\n",
              "      <td>Buena relación calidad precio y rápida entrega</td>\n",
              "      <td>Buenísima relación calidad precio y la entrega...</td>\n",
              "      <td>2 opiniones</td>\n",
              "      <td>5</td>\n",
              "      <td>ES</td>\n",
              "      <td>2023-10-05</td>\n",
              "      <td>Verificada</td>\n",
              "      <td>[{'label': '4 stars', 'score': 0.5154177546501...</td>\n",
              "    </tr>\n",
              "    <tr>\n",
              "      <th>4</th>\n",
              "      <td>javier</td>\n",
              "      <td>Llevo mucho tiempo comprando en esta…</td>\n",
              "      <td>Llevo mucho tiempo comprando en esta empresa, ...</td>\n",
              "      <td>1 opinión</td>\n",
              "      <td>3</td>\n",
              "      <td>ES</td>\n",
              "      <td>2023-10-12</td>\n",
              "      <td>Verificada</td>\n",
              "      <td>[{'label': '5 stars', 'score': 0.5783866643905...</td>\n",
              "    </tr>\n",
              "  </tbody>\n",
              "</table>\n",
              "</div>\n",
              "    <div class=\"colab-df-buttons\">\n",
              "\n",
              "  <div class=\"colab-df-container\">\n",
              "    <button class=\"colab-df-convert\" onclick=\"convertToInteractive('df-456c0035-bad3-46af-9a93-e4c13318eca4')\"\n",
              "            title=\"Convert this dataframe to an interactive table.\"\n",
              "            style=\"display:none;\">\n",
              "\n",
              "  <svg xmlns=\"http://www.w3.org/2000/svg\" height=\"24px\" viewBox=\"0 -960 960 960\">\n",
              "    <path d=\"M120-120v-720h720v720H120Zm60-500h600v-160H180v160Zm220 220h160v-160H400v160Zm0 220h160v-160H400v160ZM180-400h160v-160H180v160Zm440 0h160v-160H620v160ZM180-180h160v-160H180v160Zm440 0h160v-160H620v160Z\"/>\n",
              "  </svg>\n",
              "    </button>\n",
              "\n",
              "  <style>\n",
              "    .colab-df-container {\n",
              "      display:flex;\n",
              "      gap: 12px;\n",
              "    }\n",
              "\n",
              "    .colab-df-convert {\n",
              "      background-color: #E8F0FE;\n",
              "      border: none;\n",
              "      border-radius: 50%;\n",
              "      cursor: pointer;\n",
              "      display: none;\n",
              "      fill: #1967D2;\n",
              "      height: 32px;\n",
              "      padding: 0 0 0 0;\n",
              "      width: 32px;\n",
              "    }\n",
              "\n",
              "    .colab-df-convert:hover {\n",
              "      background-color: #E2EBFA;\n",
              "      box-shadow: 0px 1px 2px rgba(60, 64, 67, 0.3), 0px 1px 3px 1px rgba(60, 64, 67, 0.15);\n",
              "      fill: #174EA6;\n",
              "    }\n",
              "\n",
              "    .colab-df-buttons div {\n",
              "      margin-bottom: 4px;\n",
              "    }\n",
              "\n",
              "    [theme=dark] .colab-df-convert {\n",
              "      background-color: #3B4455;\n",
              "      fill: #D2E3FC;\n",
              "    }\n",
              "\n",
              "    [theme=dark] .colab-df-convert:hover {\n",
              "      background-color: #434B5C;\n",
              "      box-shadow: 0px 1px 3px 1px rgba(0, 0, 0, 0.15);\n",
              "      filter: drop-shadow(0px 1px 2px rgba(0, 0, 0, 0.3));\n",
              "      fill: #FFFFFF;\n",
              "    }\n",
              "  </style>\n",
              "\n",
              "    <script>\n",
              "      const buttonEl =\n",
              "        document.querySelector('#df-456c0035-bad3-46af-9a93-e4c13318eca4 button.colab-df-convert');\n",
              "      buttonEl.style.display =\n",
              "        google.colab.kernel.accessAllowed ? 'block' : 'none';\n",
              "\n",
              "      async function convertToInteractive(key) {\n",
              "        const element = document.querySelector('#df-456c0035-bad3-46af-9a93-e4c13318eca4');\n",
              "        const dataTable =\n",
              "          await google.colab.kernel.invokeFunction('convertToInteractive',\n",
              "                                                    [key], {});\n",
              "        if (!dataTable) return;\n",
              "\n",
              "        const docLinkHtml = 'Like what you see? Visit the ' +\n",
              "          '<a target=\"_blank\" href=https://colab.research.google.com/notebooks/data_table.ipynb>data table notebook</a>'\n",
              "          + ' to learn more about interactive tables.';\n",
              "        element.innerHTML = '';\n",
              "        dataTable['output_type'] = 'display_data';\n",
              "        await google.colab.output.renderOutput(dataTable, element);\n",
              "        const docLink = document.createElement('div');\n",
              "        docLink.innerHTML = docLinkHtml;\n",
              "        element.appendChild(docLink);\n",
              "      }\n",
              "    </script>\n",
              "  </div>\n",
              "\n",
              "\n",
              "<div id=\"df-7cf4f3f7-3ae8-44ee-93d0-ee1e2c69fca1\">\n",
              "  <button class=\"colab-df-quickchart\" onclick=\"quickchart('df-7cf4f3f7-3ae8-44ee-93d0-ee1e2c69fca1')\"\n",
              "            title=\"Suggest charts\"\n",
              "            style=\"display:none;\">\n",
              "\n",
              "<svg xmlns=\"http://www.w3.org/2000/svg\" height=\"24px\"viewBox=\"0 0 24 24\"\n",
              "     width=\"24px\">\n",
              "    <g>\n",
              "        <path d=\"M19 3H5c-1.1 0-2 .9-2 2v14c0 1.1.9 2 2 2h14c1.1 0 2-.9 2-2V5c0-1.1-.9-2-2-2zM9 17H7v-7h2v7zm4 0h-2V7h2v10zm4 0h-2v-4h2v4z\"/>\n",
              "    </g>\n",
              "</svg>\n",
              "  </button>\n",
              "\n",
              "<style>\n",
              "  .colab-df-quickchart {\n",
              "      --bg-color: #E8F0FE;\n",
              "      --fill-color: #1967D2;\n",
              "      --hover-bg-color: #E2EBFA;\n",
              "      --hover-fill-color: #174EA6;\n",
              "      --disabled-fill-color: #AAA;\n",
              "      --disabled-bg-color: #DDD;\n",
              "  }\n",
              "\n",
              "  [theme=dark] .colab-df-quickchart {\n",
              "      --bg-color: #3B4455;\n",
              "      --fill-color: #D2E3FC;\n",
              "      --hover-bg-color: #434B5C;\n",
              "      --hover-fill-color: #FFFFFF;\n",
              "      --disabled-bg-color: #3B4455;\n",
              "      --disabled-fill-color: #666;\n",
              "  }\n",
              "\n",
              "  .colab-df-quickchart {\n",
              "    background-color: var(--bg-color);\n",
              "    border: none;\n",
              "    border-radius: 50%;\n",
              "    cursor: pointer;\n",
              "    display: none;\n",
              "    fill: var(--fill-color);\n",
              "    height: 32px;\n",
              "    padding: 0;\n",
              "    width: 32px;\n",
              "  }\n",
              "\n",
              "  .colab-df-quickchart:hover {\n",
              "    background-color: var(--hover-bg-color);\n",
              "    box-shadow: 0 1px 2px rgba(60, 64, 67, 0.3), 0 1px 3px 1px rgba(60, 64, 67, 0.15);\n",
              "    fill: var(--button-hover-fill-color);\n",
              "  }\n",
              "\n",
              "  .colab-df-quickchart-complete:disabled,\n",
              "  .colab-df-quickchart-complete:disabled:hover {\n",
              "    background-color: var(--disabled-bg-color);\n",
              "    fill: var(--disabled-fill-color);\n",
              "    box-shadow: none;\n",
              "  }\n",
              "\n",
              "  .colab-df-spinner {\n",
              "    border: 2px solid var(--fill-color);\n",
              "    border-color: transparent;\n",
              "    border-bottom-color: var(--fill-color);\n",
              "    animation:\n",
              "      spin 1s steps(1) infinite;\n",
              "  }\n",
              "\n",
              "  @keyframes spin {\n",
              "    0% {\n",
              "      border-color: transparent;\n",
              "      border-bottom-color: var(--fill-color);\n",
              "      border-left-color: var(--fill-color);\n",
              "    }\n",
              "    20% {\n",
              "      border-color: transparent;\n",
              "      border-left-color: var(--fill-color);\n",
              "      border-top-color: var(--fill-color);\n",
              "    }\n",
              "    30% {\n",
              "      border-color: transparent;\n",
              "      border-left-color: var(--fill-color);\n",
              "      border-top-color: var(--fill-color);\n",
              "      border-right-color: var(--fill-color);\n",
              "    }\n",
              "    40% {\n",
              "      border-color: transparent;\n",
              "      border-right-color: var(--fill-color);\n",
              "      border-top-color: var(--fill-color);\n",
              "    }\n",
              "    60% {\n",
              "      border-color: transparent;\n",
              "      border-right-color: var(--fill-color);\n",
              "    }\n",
              "    80% {\n",
              "      border-color: transparent;\n",
              "      border-right-color: var(--fill-color);\n",
              "      border-bottom-color: var(--fill-color);\n",
              "    }\n",
              "    90% {\n",
              "      border-color: transparent;\n",
              "      border-bottom-color: var(--fill-color);\n",
              "    }\n",
              "  }\n",
              "</style>\n",
              "\n",
              "  <script>\n",
              "    async function quickchart(key) {\n",
              "      const quickchartButtonEl =\n",
              "        document.querySelector('#' + key + ' button');\n",
              "      quickchartButtonEl.disabled = true;  // To prevent multiple clicks.\n",
              "      quickchartButtonEl.classList.add('colab-df-spinner');\n",
              "      try {\n",
              "        const charts = await google.colab.kernel.invokeFunction(\n",
              "            'suggestCharts', [key], {});\n",
              "      } catch (error) {\n",
              "        console.error('Error during call to suggestCharts:', error);\n",
              "      }\n",
              "      quickchartButtonEl.classList.remove('colab-df-spinner');\n",
              "      quickchartButtonEl.classList.add('colab-df-quickchart-complete');\n",
              "    }\n",
              "    (() => {\n",
              "      let quickchartButtonEl =\n",
              "        document.querySelector('#df-7cf4f3f7-3ae8-44ee-93d0-ee1e2c69fca1 button');\n",
              "      quickchartButtonEl.style.display =\n",
              "        google.colab.kernel.accessAllowed ? 'block' : 'none';\n",
              "    })();\n",
              "  </script>\n",
              "</div>\n",
              "    </div>\n",
              "  </div>\n"
            ],
            "application/vnd.google.colaboratory.intrinsic+json": {
              "type": "dataframe",
              "variable_name": "df",
              "summary": "{\n  \"name\": \"df\",\n  \"rows\": 14020,\n  \"fields\": [\n    {\n      \"column\": \"Nombre\",\n      \"properties\": {\n        \"dtype\": \"string\",\n        \"num_unique_values\": 9221,\n        \"samples\": [\n          \"Daniel De la Llave Perez\",\n          \"Dani el\",\n          \"JULIO LIBERAL MONEDERO\"\n        ],\n        \"semantic_type\": \"\",\n        \"description\": \"\"\n      }\n    },\n    {\n      \"column\": \"T\\u00edtulo\",\n      \"properties\": {\n        \"dtype\": \"string\",\n        \"num_unique_values\": 10401,\n        \"samples\": [\n          \"Envio rapid\\u00edsimo y todo correcto\",\n          \"Excelentes productos a excelentes\\u2026\",\n          \"MUY BUEN SERVICIO\"\n        ],\n        \"semantic_type\": \"\",\n        \"description\": \"\"\n      }\n    },\n    {\n      \"column\": \"Rese\\u00f1a\",\n      \"properties\": {\n        \"dtype\": \"string\",\n        \"num_unique_values\": 11342,\n        \"samples\": [\n          \"Env\\u00edo r\\u00e1pido.\",\n          \"Por los precios y la Calidad.Lo tomo hace a\\u00f1os.\",\n          \"Facil, sencillo y bien explicado. Con lo que ponia en la web y ayuda de un amigo he podido comprar todo por primera vez perfectamente.\"\n        ],\n        \"semantic_type\": \"\",\n        \"description\": \"\"\n      }\n    },\n    {\n      \"column\": \"Cantidad de Opiniones\",\n      \"properties\": {\n        \"dtype\": \"category\",\n        \"num_unique_values\": 38,\n        \"samples\": [\n          \"29 opiniones\",\n          \"32 opiniones\",\n          \"13 opiniones\"\n        ],\n        \"semantic_type\": \"\",\n        \"description\": \"\"\n      }\n    },\n    {\n      \"column\": \"Estrellas\",\n      \"properties\": {\n        \"dtype\": \"number\",\n        \"std\": 0,\n        \"min\": 1,\n        \"max\": 5,\n        \"num_unique_values\": 5,\n        \"samples\": [\n          1,\n          4,\n          3\n        ],\n        \"semantic_type\": \"\",\n        \"description\": \"\"\n      }\n    },\n    {\n      \"column\": \"Pa\\u00eds\",\n      \"properties\": {\n        \"dtype\": \"category\",\n        \"num_unique_values\": 47,\n        \"samples\": [\n          \"TH\",\n          \"DO\",\n          \"UY\"\n        ],\n        \"semantic_type\": \"\",\n        \"description\": \"\"\n      }\n    },\n    {\n      \"column\": \"Fecha Rese\\u00f1a\",\n      \"properties\": {\n        \"dtype\": \"date\",\n        \"min\": \"2020-01-02 00:00:00\",\n        \"max\": \"2023-10-16 00:00:00\",\n        \"num_unique_values\": 1129,\n        \"samples\": [\n          \"2021-08-19 00:00:00\",\n          \"2020-08-02 00:00:00\",\n          \"2020-01-25 00:00:00\"\n        ],\n        \"semantic_type\": \"\",\n        \"description\": \"\"\n      }\n    },\n    {\n      \"column\": \"Verificada\",\n      \"properties\": {\n        \"dtype\": \"category\",\n        \"num_unique_values\": 5,\n        \"samples\": [\n          \"Verificada\",\n          \"Por invitaci\\u00f3n\",\n          \"Redirigida\"\n        ],\n        \"semantic_type\": \"\",\n        \"description\": \"\"\n      }\n    },\n    {\n      \"column\": \"HF\",\n      \"properties\": {\n        \"dtype\": \"object\",\n        \"semantic_type\": \"\",\n        \"description\": \"\"\n      }\n    }\n  ]\n}"
            }
          },
          "metadata": {},
          "execution_count": 58
        }
      ],
      "source": [
        "df.head()"
      ]
    },
    {
      "cell_type": "markdown",
      "source": [
        "The score value is separated from the label and 2 new variables are created."
      ],
      "metadata": {
        "id": "kTvhbvd2-kRf"
      }
    },
    {
      "cell_type": "code",
      "execution_count": 59,
      "metadata": {
        "id": "WZoSi91sBo3D"
      },
      "outputs": [],
      "source": [
        "labels = []\n",
        "scores = []\n",
        "\n",
        "for item in df['HF']:\n",
        "    label = int(item[0]['label'].split()[0])\n",
        "    score = item[0]['score']\n",
        "    labels.append(label)\n",
        "    scores.append(score)\n",
        "\n",
        "df['label_HF'] = labels\n",
        "df['score'] = scores\n"
      ]
    },
    {
      "cell_type": "code",
      "execution_count": 60,
      "metadata": {
        "colab": {
          "base_uri": "https://localhost:8080/",
          "height": 746
        },
        "id": "x5ga7X9tBxAV",
        "outputId": "8ca3596f-fff0-44ab-927c-bdedcfce4bf0"
      },
      "outputs": [
        {
          "output_type": "execute_result",
          "data": {
            "text/plain": [
              "                         Nombre  \\\n",
              "0                 Jose Gallardo   \n",
              "1                       cliente   \n",
              "2  Jose antonio García llorente   \n",
              "3                Mariló Andrade   \n",
              "4                        javier   \n",
              "\n",
              "                                           Título  \\\n",
              "0           Mejor comprar desde la página oficial   \n",
              "1            Como puede ser que sin previo aviso…   \n",
              "2               Los precios son los mejores y la…   \n",
              "3  Buena relación calidad precio y rápida entrega   \n",
              "4           Llevo mucho tiempo comprando en esta…   \n",
              "\n",
              "                                              Reseña Cantidad de Opiniones  \\\n",
              "0  Mucho más informativa y ordenada que la página...             1 opinión   \n",
              "1  Como puede ser que sin previo aviso dejéis de ...           4 opiniones   \n",
              "2  Los precios son los mejores y la calidad, pues...           2 opiniones   \n",
              "3  Buenísima relación calidad precio y la entrega...           2 opiniones   \n",
              "4  Llevo mucho tiempo comprando en esta empresa, ...             1 opinión   \n",
              "\n",
              "   Estrellas País Fecha Reseña     Verificada  \\\n",
              "0          5   ES   2023-10-12  No disponible   \n",
              "1          1   ES   2023-10-05     Verificada   \n",
              "2          5   ES   2023-10-14  No disponible   \n",
              "3          5   ES   2023-10-05     Verificada   \n",
              "4          3   ES   2023-10-12     Verificada   \n",
              "\n",
              "                                                  HF  label_HF     score  \n",
              "0  [{'label': '5 stars', 'score': 0.5639822483062...         5  0.563982  \n",
              "1  [{'label': '5 stars', 'score': 0.2663534283638...         5  0.266353  \n",
              "2  [{'label': '5 stars', 'score': 0.7408106327056...         5  0.740811  \n",
              "3  [{'label': '4 stars', 'score': 0.5154177546501...         4  0.515418  \n",
              "4  [{'label': '5 stars', 'score': 0.5783866643905...         5  0.578387  "
            ],
            "text/html": [
              "\n",
              "  <div id=\"df-ea593f8a-e02a-40d1-b8bc-7210c7181379\" class=\"colab-df-container\">\n",
              "    <div>\n",
              "<style scoped>\n",
              "    .dataframe tbody tr th:only-of-type {\n",
              "        vertical-align: middle;\n",
              "    }\n",
              "\n",
              "    .dataframe tbody tr th {\n",
              "        vertical-align: top;\n",
              "    }\n",
              "\n",
              "    .dataframe thead th {\n",
              "        text-align: right;\n",
              "    }\n",
              "</style>\n",
              "<table border=\"1\" class=\"dataframe\">\n",
              "  <thead>\n",
              "    <tr style=\"text-align: right;\">\n",
              "      <th></th>\n",
              "      <th>Nombre</th>\n",
              "      <th>Título</th>\n",
              "      <th>Reseña</th>\n",
              "      <th>Cantidad de Opiniones</th>\n",
              "      <th>Estrellas</th>\n",
              "      <th>País</th>\n",
              "      <th>Fecha Reseña</th>\n",
              "      <th>Verificada</th>\n",
              "      <th>HF</th>\n",
              "      <th>label_HF</th>\n",
              "      <th>score</th>\n",
              "    </tr>\n",
              "  </thead>\n",
              "  <tbody>\n",
              "    <tr>\n",
              "      <th>0</th>\n",
              "      <td>Jose Gallardo</td>\n",
              "      <td>Mejor comprar desde la página oficial</td>\n",
              "      <td>Mucho más informativa y ordenada que la página...</td>\n",
              "      <td>1 opinión</td>\n",
              "      <td>5</td>\n",
              "      <td>ES</td>\n",
              "      <td>2023-10-12</td>\n",
              "      <td>No disponible</td>\n",
              "      <td>[{'label': '5 stars', 'score': 0.5639822483062...</td>\n",
              "      <td>5</td>\n",
              "      <td>0.563982</td>\n",
              "    </tr>\n",
              "    <tr>\n",
              "      <th>1</th>\n",
              "      <td>cliente</td>\n",
              "      <td>Como puede ser que sin previo aviso…</td>\n",
              "      <td>Como puede ser que sin previo aviso dejéis de ...</td>\n",
              "      <td>4 opiniones</td>\n",
              "      <td>1</td>\n",
              "      <td>ES</td>\n",
              "      <td>2023-10-05</td>\n",
              "      <td>Verificada</td>\n",
              "      <td>[{'label': '5 stars', 'score': 0.2663534283638...</td>\n",
              "      <td>5</td>\n",
              "      <td>0.266353</td>\n",
              "    </tr>\n",
              "    <tr>\n",
              "      <th>2</th>\n",
              "      <td>Jose antonio García llorente</td>\n",
              "      <td>Los precios son los mejores y la…</td>\n",
              "      <td>Los precios son los mejores y la calidad, pues...</td>\n",
              "      <td>2 opiniones</td>\n",
              "      <td>5</td>\n",
              "      <td>ES</td>\n",
              "      <td>2023-10-14</td>\n",
              "      <td>No disponible</td>\n",
              "      <td>[{'label': '5 stars', 'score': 0.7408106327056...</td>\n",
              "      <td>5</td>\n",
              "      <td>0.740811</td>\n",
              "    </tr>\n",
              "    <tr>\n",
              "      <th>3</th>\n",
              "      <td>Mariló Andrade</td>\n",
              "      <td>Buena relación calidad precio y rápida entrega</td>\n",
              "      <td>Buenísima relación calidad precio y la entrega...</td>\n",
              "      <td>2 opiniones</td>\n",
              "      <td>5</td>\n",
              "      <td>ES</td>\n",
              "      <td>2023-10-05</td>\n",
              "      <td>Verificada</td>\n",
              "      <td>[{'label': '4 stars', 'score': 0.5154177546501...</td>\n",
              "      <td>4</td>\n",
              "      <td>0.515418</td>\n",
              "    </tr>\n",
              "    <tr>\n",
              "      <th>4</th>\n",
              "      <td>javier</td>\n",
              "      <td>Llevo mucho tiempo comprando en esta…</td>\n",
              "      <td>Llevo mucho tiempo comprando en esta empresa, ...</td>\n",
              "      <td>1 opinión</td>\n",
              "      <td>3</td>\n",
              "      <td>ES</td>\n",
              "      <td>2023-10-12</td>\n",
              "      <td>Verificada</td>\n",
              "      <td>[{'label': '5 stars', 'score': 0.5783866643905...</td>\n",
              "      <td>5</td>\n",
              "      <td>0.578387</td>\n",
              "    </tr>\n",
              "  </tbody>\n",
              "</table>\n",
              "</div>\n",
              "    <div class=\"colab-df-buttons\">\n",
              "\n",
              "  <div class=\"colab-df-container\">\n",
              "    <button class=\"colab-df-convert\" onclick=\"convertToInteractive('df-ea593f8a-e02a-40d1-b8bc-7210c7181379')\"\n",
              "            title=\"Convert this dataframe to an interactive table.\"\n",
              "            style=\"display:none;\">\n",
              "\n",
              "  <svg xmlns=\"http://www.w3.org/2000/svg\" height=\"24px\" viewBox=\"0 -960 960 960\">\n",
              "    <path d=\"M120-120v-720h720v720H120Zm60-500h600v-160H180v160Zm220 220h160v-160H400v160Zm0 220h160v-160H400v160ZM180-400h160v-160H180v160Zm440 0h160v-160H620v160ZM180-180h160v-160H180v160Zm440 0h160v-160H620v160Z\"/>\n",
              "  </svg>\n",
              "    </button>\n",
              "\n",
              "  <style>\n",
              "    .colab-df-container {\n",
              "      display:flex;\n",
              "      gap: 12px;\n",
              "    }\n",
              "\n",
              "    .colab-df-convert {\n",
              "      background-color: #E8F0FE;\n",
              "      border: none;\n",
              "      border-radius: 50%;\n",
              "      cursor: pointer;\n",
              "      display: none;\n",
              "      fill: #1967D2;\n",
              "      height: 32px;\n",
              "      padding: 0 0 0 0;\n",
              "      width: 32px;\n",
              "    }\n",
              "\n",
              "    .colab-df-convert:hover {\n",
              "      background-color: #E2EBFA;\n",
              "      box-shadow: 0px 1px 2px rgba(60, 64, 67, 0.3), 0px 1px 3px 1px rgba(60, 64, 67, 0.15);\n",
              "      fill: #174EA6;\n",
              "    }\n",
              "\n",
              "    .colab-df-buttons div {\n",
              "      margin-bottom: 4px;\n",
              "    }\n",
              "\n",
              "    [theme=dark] .colab-df-convert {\n",
              "      background-color: #3B4455;\n",
              "      fill: #D2E3FC;\n",
              "    }\n",
              "\n",
              "    [theme=dark] .colab-df-convert:hover {\n",
              "      background-color: #434B5C;\n",
              "      box-shadow: 0px 1px 3px 1px rgba(0, 0, 0, 0.15);\n",
              "      filter: drop-shadow(0px 1px 2px rgba(0, 0, 0, 0.3));\n",
              "      fill: #FFFFFF;\n",
              "    }\n",
              "  </style>\n",
              "\n",
              "    <script>\n",
              "      const buttonEl =\n",
              "        document.querySelector('#df-ea593f8a-e02a-40d1-b8bc-7210c7181379 button.colab-df-convert');\n",
              "      buttonEl.style.display =\n",
              "        google.colab.kernel.accessAllowed ? 'block' : 'none';\n",
              "\n",
              "      async function convertToInteractive(key) {\n",
              "        const element = document.querySelector('#df-ea593f8a-e02a-40d1-b8bc-7210c7181379');\n",
              "        const dataTable =\n",
              "          await google.colab.kernel.invokeFunction('convertToInteractive',\n",
              "                                                    [key], {});\n",
              "        if (!dataTable) return;\n",
              "\n",
              "        const docLinkHtml = 'Like what you see? Visit the ' +\n",
              "          '<a target=\"_blank\" href=https://colab.research.google.com/notebooks/data_table.ipynb>data table notebook</a>'\n",
              "          + ' to learn more about interactive tables.';\n",
              "        element.innerHTML = '';\n",
              "        dataTable['output_type'] = 'display_data';\n",
              "        await google.colab.output.renderOutput(dataTable, element);\n",
              "        const docLink = document.createElement('div');\n",
              "        docLink.innerHTML = docLinkHtml;\n",
              "        element.appendChild(docLink);\n",
              "      }\n",
              "    </script>\n",
              "  </div>\n",
              "\n",
              "\n",
              "<div id=\"df-a0b8cbf2-066e-4ef9-9868-f46ce5f2415a\">\n",
              "  <button class=\"colab-df-quickchart\" onclick=\"quickchart('df-a0b8cbf2-066e-4ef9-9868-f46ce5f2415a')\"\n",
              "            title=\"Suggest charts\"\n",
              "            style=\"display:none;\">\n",
              "\n",
              "<svg xmlns=\"http://www.w3.org/2000/svg\" height=\"24px\"viewBox=\"0 0 24 24\"\n",
              "     width=\"24px\">\n",
              "    <g>\n",
              "        <path d=\"M19 3H5c-1.1 0-2 .9-2 2v14c0 1.1.9 2 2 2h14c1.1 0 2-.9 2-2V5c0-1.1-.9-2-2-2zM9 17H7v-7h2v7zm4 0h-2V7h2v10zm4 0h-2v-4h2v4z\"/>\n",
              "    </g>\n",
              "</svg>\n",
              "  </button>\n",
              "\n",
              "<style>\n",
              "  .colab-df-quickchart {\n",
              "      --bg-color: #E8F0FE;\n",
              "      --fill-color: #1967D2;\n",
              "      --hover-bg-color: #E2EBFA;\n",
              "      --hover-fill-color: #174EA6;\n",
              "      --disabled-fill-color: #AAA;\n",
              "      --disabled-bg-color: #DDD;\n",
              "  }\n",
              "\n",
              "  [theme=dark] .colab-df-quickchart {\n",
              "      --bg-color: #3B4455;\n",
              "      --fill-color: #D2E3FC;\n",
              "      --hover-bg-color: #434B5C;\n",
              "      --hover-fill-color: #FFFFFF;\n",
              "      --disabled-bg-color: #3B4455;\n",
              "      --disabled-fill-color: #666;\n",
              "  }\n",
              "\n",
              "  .colab-df-quickchart {\n",
              "    background-color: var(--bg-color);\n",
              "    border: none;\n",
              "    border-radius: 50%;\n",
              "    cursor: pointer;\n",
              "    display: none;\n",
              "    fill: var(--fill-color);\n",
              "    height: 32px;\n",
              "    padding: 0;\n",
              "    width: 32px;\n",
              "  }\n",
              "\n",
              "  .colab-df-quickchart:hover {\n",
              "    background-color: var(--hover-bg-color);\n",
              "    box-shadow: 0 1px 2px rgba(60, 64, 67, 0.3), 0 1px 3px 1px rgba(60, 64, 67, 0.15);\n",
              "    fill: var(--button-hover-fill-color);\n",
              "  }\n",
              "\n",
              "  .colab-df-quickchart-complete:disabled,\n",
              "  .colab-df-quickchart-complete:disabled:hover {\n",
              "    background-color: var(--disabled-bg-color);\n",
              "    fill: var(--disabled-fill-color);\n",
              "    box-shadow: none;\n",
              "  }\n",
              "\n",
              "  .colab-df-spinner {\n",
              "    border: 2px solid var(--fill-color);\n",
              "    border-color: transparent;\n",
              "    border-bottom-color: var(--fill-color);\n",
              "    animation:\n",
              "      spin 1s steps(1) infinite;\n",
              "  }\n",
              "\n",
              "  @keyframes spin {\n",
              "    0% {\n",
              "      border-color: transparent;\n",
              "      border-bottom-color: var(--fill-color);\n",
              "      border-left-color: var(--fill-color);\n",
              "    }\n",
              "    20% {\n",
              "      border-color: transparent;\n",
              "      border-left-color: var(--fill-color);\n",
              "      border-top-color: var(--fill-color);\n",
              "    }\n",
              "    30% {\n",
              "      border-color: transparent;\n",
              "      border-left-color: var(--fill-color);\n",
              "      border-top-color: var(--fill-color);\n",
              "      border-right-color: var(--fill-color);\n",
              "    }\n",
              "    40% {\n",
              "      border-color: transparent;\n",
              "      border-right-color: var(--fill-color);\n",
              "      border-top-color: var(--fill-color);\n",
              "    }\n",
              "    60% {\n",
              "      border-color: transparent;\n",
              "      border-right-color: var(--fill-color);\n",
              "    }\n",
              "    80% {\n",
              "      border-color: transparent;\n",
              "      border-right-color: var(--fill-color);\n",
              "      border-bottom-color: var(--fill-color);\n",
              "    }\n",
              "    90% {\n",
              "      border-color: transparent;\n",
              "      border-bottom-color: var(--fill-color);\n",
              "    }\n",
              "  }\n",
              "</style>\n",
              "\n",
              "  <script>\n",
              "    async function quickchart(key) {\n",
              "      const quickchartButtonEl =\n",
              "        document.querySelector('#' + key + ' button');\n",
              "      quickchartButtonEl.disabled = true;  // To prevent multiple clicks.\n",
              "      quickchartButtonEl.classList.add('colab-df-spinner');\n",
              "      try {\n",
              "        const charts = await google.colab.kernel.invokeFunction(\n",
              "            'suggestCharts', [key], {});\n",
              "      } catch (error) {\n",
              "        console.error('Error during call to suggestCharts:', error);\n",
              "      }\n",
              "      quickchartButtonEl.classList.remove('colab-df-spinner');\n",
              "      quickchartButtonEl.classList.add('colab-df-quickchart-complete');\n",
              "    }\n",
              "    (() => {\n",
              "      let quickchartButtonEl =\n",
              "        document.querySelector('#df-a0b8cbf2-066e-4ef9-9868-f46ce5f2415a button');\n",
              "      quickchartButtonEl.style.display =\n",
              "        google.colab.kernel.accessAllowed ? 'block' : 'none';\n",
              "    })();\n",
              "  </script>\n",
              "</div>\n",
              "    </div>\n",
              "  </div>\n"
            ],
            "application/vnd.google.colaboratory.intrinsic+json": {
              "type": "dataframe",
              "variable_name": "df",
              "summary": "{\n  \"name\": \"df\",\n  \"rows\": 14020,\n  \"fields\": [\n    {\n      \"column\": \"Nombre\",\n      \"properties\": {\n        \"dtype\": \"string\",\n        \"num_unique_values\": 9221,\n        \"samples\": [\n          \"Daniel De la Llave Perez\",\n          \"Dani el\",\n          \"JULIO LIBERAL MONEDERO\"\n        ],\n        \"semantic_type\": \"\",\n        \"description\": \"\"\n      }\n    },\n    {\n      \"column\": \"T\\u00edtulo\",\n      \"properties\": {\n        \"dtype\": \"string\",\n        \"num_unique_values\": 10401,\n        \"samples\": [\n          \"Envio rapid\\u00edsimo y todo correcto\",\n          \"Excelentes productos a excelentes\\u2026\",\n          \"MUY BUEN SERVICIO\"\n        ],\n        \"semantic_type\": \"\",\n        \"description\": \"\"\n      }\n    },\n    {\n      \"column\": \"Rese\\u00f1a\",\n      \"properties\": {\n        \"dtype\": \"string\",\n        \"num_unique_values\": 11342,\n        \"samples\": [\n          \"Env\\u00edo r\\u00e1pido.\",\n          \"Por los precios y la Calidad.Lo tomo hace a\\u00f1os.\",\n          \"Facil, sencillo y bien explicado. Con lo que ponia en la web y ayuda de un amigo he podido comprar todo por primera vez perfectamente.\"\n        ],\n        \"semantic_type\": \"\",\n        \"description\": \"\"\n      }\n    },\n    {\n      \"column\": \"Cantidad de Opiniones\",\n      \"properties\": {\n        \"dtype\": \"category\",\n        \"num_unique_values\": 38,\n        \"samples\": [\n          \"29 opiniones\",\n          \"32 opiniones\",\n          \"13 opiniones\"\n        ],\n        \"semantic_type\": \"\",\n        \"description\": \"\"\n      }\n    },\n    {\n      \"column\": \"Estrellas\",\n      \"properties\": {\n        \"dtype\": \"number\",\n        \"std\": 0,\n        \"min\": 1,\n        \"max\": 5,\n        \"num_unique_values\": 5,\n        \"samples\": [\n          1,\n          4,\n          3\n        ],\n        \"semantic_type\": \"\",\n        \"description\": \"\"\n      }\n    },\n    {\n      \"column\": \"Pa\\u00eds\",\n      \"properties\": {\n        \"dtype\": \"category\",\n        \"num_unique_values\": 47,\n        \"samples\": [\n          \"TH\",\n          \"DO\",\n          \"UY\"\n        ],\n        \"semantic_type\": \"\",\n        \"description\": \"\"\n      }\n    },\n    {\n      \"column\": \"Fecha Rese\\u00f1a\",\n      \"properties\": {\n        \"dtype\": \"date\",\n        \"min\": \"2020-01-02 00:00:00\",\n        \"max\": \"2023-10-16 00:00:00\",\n        \"num_unique_values\": 1129,\n        \"samples\": [\n          \"2021-08-19 00:00:00\",\n          \"2020-08-02 00:00:00\",\n          \"2020-01-25 00:00:00\"\n        ],\n        \"semantic_type\": \"\",\n        \"description\": \"\"\n      }\n    },\n    {\n      \"column\": \"Verificada\",\n      \"properties\": {\n        \"dtype\": \"category\",\n        \"num_unique_values\": 5,\n        \"samples\": [\n          \"Verificada\",\n          \"Por invitaci\\u00f3n\",\n          \"Redirigida\"\n        ],\n        \"semantic_type\": \"\",\n        \"description\": \"\"\n      }\n    },\n    {\n      \"column\": \"HF\",\n      \"properties\": {\n        \"dtype\": \"object\",\n        \"semantic_type\": \"\",\n        \"description\": \"\"\n      }\n    },\n    {\n      \"column\": \"label_HF\",\n      \"properties\": {\n        \"dtype\": \"number\",\n        \"std\": 1,\n        \"min\": 1,\n        \"max\": 5,\n        \"num_unique_values\": 5,\n        \"samples\": [\n          4,\n          3,\n          1\n        ],\n        \"semantic_type\": \"\",\n        \"description\": \"\"\n      }\n    },\n    {\n      \"column\": \"score\",\n      \"properties\": {\n        \"dtype\": \"number\",\n        \"std\": 0.1732372245905162,\n        \"min\": 0.20921632647514343,\n        \"max\": 0.9936344623565674,\n        \"num_unique_values\": 9934,\n        \"samples\": [\n          0.6414269208908081,\n          0.9040824174880981,\n          0.23728331923484802\n        ],\n        \"semantic_type\": \"\",\n        \"description\": \"\"\n      }\n    }\n  ]\n}"
            }
          },
          "metadata": {},
          "execution_count": 60
        }
      ],
      "source": [
        "df.head()"
      ]
    },
    {
      "cell_type": "markdown",
      "source": [
        "## Data preparation"
      ],
      "metadata": {
        "id": "Rqlx1whA-udQ"
      }
    },
    {
      "cell_type": "code",
      "source": [
        "x = df['Título']\n",
        "y = df['Estrellas'].astype(int)\n"
      ],
      "metadata": {
        "id": "0Ko_jwFkKYYs"
      },
      "execution_count": 61,
      "outputs": []
    },
    {
      "cell_type": "code",
      "source": [
        "le = LabelEncoder()\n",
        "y = le.fit_transform(y)"
      ],
      "metadata": {
        "id": "jy6VHe8RKQTF"
      },
      "execution_count": 62,
      "outputs": []
    },
    {
      "cell_type": "code",
      "source": [
        "# text cleaning and lemmatization\n",
        "nlp = spacy.load(\"es_core_news_sm\")\n",
        "\n",
        "def lemmatizar_y_limpiar(texto):\n",
        "    texto = texto.lower()\n",
        "    doc = nlp(texto)\n",
        "\n",
        "    lemas = []\n",
        "\n",
        "    for token in doc:\n",
        "        lema = token.lemma_.lower()\n",
        "        if not token.is_punct and not lema.isspace():\n",
        "            lemas.append(lema)\n",
        "\n",
        "    texto_lemmatizado = \" \".join(lemas)\n",
        "    return texto_lemmatizado"
      ],
      "metadata": {
        "id": "0qCCBo391xT0"
      },
      "execution_count": 64,
      "outputs": []
    },
    {
      "cell_type": "code",
      "source": [
        "# Upload stop words file\n",
        "from google.colab import files\n",
        "\n",
        "uploaded = files.upload()"
      ],
      "metadata": {
        "colab": {
          "base_uri": "https://localhost:8080/",
          "height": 73
        },
        "id": "aAQitlnANLmO",
        "outputId": "10476860-eb03-4822-a75d-92b818fe6678"
      },
      "execution_count": null,
      "outputs": [
        {
          "output_type": "display_data",
          "data": {
            "text/plain": [
              "<IPython.core.display.HTML object>"
            ],
            "text/html": [
              "\n",
              "     <input type=\"file\" id=\"files-341f52f2-aabb-43f0-b035-8a7ee1e443fd\" name=\"files[]\" multiple disabled\n",
              "        style=\"border:none\" />\n",
              "     <output id=\"result-341f52f2-aabb-43f0-b035-8a7ee1e443fd\">\n",
              "      Upload widget is only available when the cell has been executed in the\n",
              "      current browser session. Please rerun this cell to enable.\n",
              "      </output>\n",
              "      <script>// Copyright 2017 Google LLC\n",
              "//\n",
              "// Licensed under the Apache License, Version 2.0 (the \"License\");\n",
              "// you may not use this file except in compliance with the License.\n",
              "// You may obtain a copy of the License at\n",
              "//\n",
              "//      http://www.apache.org/licenses/LICENSE-2.0\n",
              "//\n",
              "// Unless required by applicable law or agreed to in writing, software\n",
              "// distributed under the License is distributed on an \"AS IS\" BASIS,\n",
              "// WITHOUT WARRANTIES OR CONDITIONS OF ANY KIND, either express or implied.\n",
              "// See the License for the specific language governing permissions and\n",
              "// limitations under the License.\n",
              "\n",
              "/**\n",
              " * @fileoverview Helpers for google.colab Python module.\n",
              " */\n",
              "(function(scope) {\n",
              "function span(text, styleAttributes = {}) {\n",
              "  const element = document.createElement('span');\n",
              "  element.textContent = text;\n",
              "  for (const key of Object.keys(styleAttributes)) {\n",
              "    element.style[key] = styleAttributes[key];\n",
              "  }\n",
              "  return element;\n",
              "}\n",
              "\n",
              "// Max number of bytes which will be uploaded at a time.\n",
              "const MAX_PAYLOAD_SIZE = 100 * 1024;\n",
              "\n",
              "function _uploadFiles(inputId, outputId) {\n",
              "  const steps = uploadFilesStep(inputId, outputId);\n",
              "  const outputElement = document.getElementById(outputId);\n",
              "  // Cache steps on the outputElement to make it available for the next call\n",
              "  // to uploadFilesContinue from Python.\n",
              "  outputElement.steps = steps;\n",
              "\n",
              "  return _uploadFilesContinue(outputId);\n",
              "}\n",
              "\n",
              "// This is roughly an async generator (not supported in the browser yet),\n",
              "// where there are multiple asynchronous steps and the Python side is going\n",
              "// to poll for completion of each step.\n",
              "// This uses a Promise to block the python side on completion of each step,\n",
              "// then passes the result of the previous step as the input to the next step.\n",
              "function _uploadFilesContinue(outputId) {\n",
              "  const outputElement = document.getElementById(outputId);\n",
              "  const steps = outputElement.steps;\n",
              "\n",
              "  const next = steps.next(outputElement.lastPromiseValue);\n",
              "  return Promise.resolve(next.value.promise).then((value) => {\n",
              "    // Cache the last promise value to make it available to the next\n",
              "    // step of the generator.\n",
              "    outputElement.lastPromiseValue = value;\n",
              "    return next.value.response;\n",
              "  });\n",
              "}\n",
              "\n",
              "/**\n",
              " * Generator function which is called between each async step of the upload\n",
              " * process.\n",
              " * @param {string} inputId Element ID of the input file picker element.\n",
              " * @param {string} outputId Element ID of the output display.\n",
              " * @return {!Iterable<!Object>} Iterable of next steps.\n",
              " */\n",
              "function* uploadFilesStep(inputId, outputId) {\n",
              "  const inputElement = document.getElementById(inputId);\n",
              "  inputElement.disabled = false;\n",
              "\n",
              "  const outputElement = document.getElementById(outputId);\n",
              "  outputElement.innerHTML = '';\n",
              "\n",
              "  const pickedPromise = new Promise((resolve) => {\n",
              "    inputElement.addEventListener('change', (e) => {\n",
              "      resolve(e.target.files);\n",
              "    });\n",
              "  });\n",
              "\n",
              "  const cancel = document.createElement('button');\n",
              "  inputElement.parentElement.appendChild(cancel);\n",
              "  cancel.textContent = 'Cancel upload';\n",
              "  const cancelPromise = new Promise((resolve) => {\n",
              "    cancel.onclick = () => {\n",
              "      resolve(null);\n",
              "    };\n",
              "  });\n",
              "\n",
              "  // Wait for the user to pick the files.\n",
              "  const files = yield {\n",
              "    promise: Promise.race([pickedPromise, cancelPromise]),\n",
              "    response: {\n",
              "      action: 'starting',\n",
              "    }\n",
              "  };\n",
              "\n",
              "  cancel.remove();\n",
              "\n",
              "  // Disable the input element since further picks are not allowed.\n",
              "  inputElement.disabled = true;\n",
              "\n",
              "  if (!files) {\n",
              "    return {\n",
              "      response: {\n",
              "        action: 'complete',\n",
              "      }\n",
              "    };\n",
              "  }\n",
              "\n",
              "  for (const file of files) {\n",
              "    const li = document.createElement('li');\n",
              "    li.append(span(file.name, {fontWeight: 'bold'}));\n",
              "    li.append(span(\n",
              "        `(${file.type || 'n/a'}) - ${file.size} bytes, ` +\n",
              "        `last modified: ${\n",
              "            file.lastModifiedDate ? file.lastModifiedDate.toLocaleDateString() :\n",
              "                                    'n/a'} - `));\n",
              "    const percent = span('0% done');\n",
              "    li.appendChild(percent);\n",
              "\n",
              "    outputElement.appendChild(li);\n",
              "\n",
              "    const fileDataPromise = new Promise((resolve) => {\n",
              "      const reader = new FileReader();\n",
              "      reader.onload = (e) => {\n",
              "        resolve(e.target.result);\n",
              "      };\n",
              "      reader.readAsArrayBuffer(file);\n",
              "    });\n",
              "    // Wait for the data to be ready.\n",
              "    let fileData = yield {\n",
              "      promise: fileDataPromise,\n",
              "      response: {\n",
              "        action: 'continue',\n",
              "      }\n",
              "    };\n",
              "\n",
              "    // Use a chunked sending to avoid message size limits. See b/62115660.\n",
              "    let position = 0;\n",
              "    do {\n",
              "      const length = Math.min(fileData.byteLength - position, MAX_PAYLOAD_SIZE);\n",
              "      const chunk = new Uint8Array(fileData, position, length);\n",
              "      position += length;\n",
              "\n",
              "      const base64 = btoa(String.fromCharCode.apply(null, chunk));\n",
              "      yield {\n",
              "        response: {\n",
              "          action: 'append',\n",
              "          file: file.name,\n",
              "          data: base64,\n",
              "        },\n",
              "      };\n",
              "\n",
              "      let percentDone = fileData.byteLength === 0 ?\n",
              "          100 :\n",
              "          Math.round((position / fileData.byteLength) * 100);\n",
              "      percent.textContent = `${percentDone}% done`;\n",
              "\n",
              "    } while (position < fileData.byteLength);\n",
              "  }\n",
              "\n",
              "  // All done.\n",
              "  yield {\n",
              "    response: {\n",
              "      action: 'complete',\n",
              "    }\n",
              "  };\n",
              "}\n",
              "\n",
              "scope.google = scope.google || {};\n",
              "scope.google.colab = scope.google.colab || {};\n",
              "scope.google.colab._files = {\n",
              "  _uploadFiles,\n",
              "  _uploadFilesContinue,\n",
              "};\n",
              "})(self);\n",
              "</script> "
            ]
          },
          "metadata": {}
        },
        {
          "output_type": "stream",
          "name": "stdout",
          "text": [
            "Saving spanish.txt to spanish (1).txt\n"
          ]
        }
      ]
    },
    {
      "cell_type": "code",
      "source": [
        "spanish = 'spanish.txt'"
      ],
      "metadata": {
        "id": "yg3pG04fNrVs"
      },
      "execution_count": 65,
      "outputs": []
    },
    {
      "cell_type": "code",
      "source": [
        "#Read the file and split the words into a list.\n",
        "with open(spanish, 'r', encoding='utf-8') as archivo:\n",
        "    stop_spanish = archivo.read().split()"
      ],
      "metadata": {
        "id": "IydsZuZrNapS"
      },
      "execution_count": 66,
      "outputs": []
    },
    {
      "cell_type": "code",
      "source": [
        "print (stop_spanish)"
      ],
      "metadata": {
        "colab": {
          "base_uri": "https://localhost:8080/"
        },
        "id": "uu_kzy_FPSrV",
        "outputId": "fab6a456-e098-4e23-9019-fff2465baf91"
      },
      "execution_count": 67,
      "outputs": [
        {
          "output_type": "stream",
          "name": "stdout",
          "text": [
            "['de', 'la', 'que', 'el', 'en', 'y', 'a', 'los', 'del', 'se', 'las', 'por', 'un', 'para', 'con', 'no', 'una', 'su', 'al', 'lo', 'como', 'más', 'pero', 'sus', 'le', 'ya', 'o', 'este', 'sí', 'porque', 'esta', 'entre', 'cuando', 'muy', 'sin', 'sobre', 'también', 'me', 'hasta', 'hay', 'donde', 'quien', 'desde', 'todo', 'nos', 'durante', 'todos', 'uno', 'les', 'ni', 'contra', 'otros', 'ese', 'eso', 'ante', 'ellos', 'e', 'esto', 'mí', 'antes', 'algunos', 'qué', 'unos', 'yo', 'otro', 'otras', 'otra', 'él', 'tanto', 'esa', 'estos', 'mucho', 'quienes', 'nada', 'muchos', 'cual', 'poco', 'ella', 'estar', 'estas', 'algunas', 'algo', 'nosotros', 'mi', 'mis', 'tú', 'te', 'ti', 'tu', 'tus', 'ellas', 'nosotras', 'vosostros', 'vosostras', 'os', 'mío', 'mía', 'míos', 'mías', 'tuyo', 'tuya', 'tuyos', 'tuyas', 'suyo', 'suya', 'suyos', 'suyas', 'nuestro', 'nuestra', 'nuestros', 'nuestras', 'vuestro', 'vuestra', 'vuestros', 'vuestras', 'esos', 'esas', 'estoy', 'estás', 'está', 'estamos', 'estáis', 'están', 'esté', 'estés', 'estemos', 'estéis', 'estén', 'estaré', 'estarás', 'estará', 'estaremos', 'estaréis', 'estarán', 'estaría', 'estarías', 'estaríamos', 'estaríais', 'estarían', 'estaba', 'estabas', 'estábamos', 'estabais', 'estaban', 'estuve', 'estuviste', 'estuvo', 'estuvimos', 'estuvisteis', 'estuvieron', 'estuviera', 'estuvieras', 'estuviéramos', 'estuvierais', 'estuvieran', 'estuviese', 'estuvieses', 'estuviésemos', 'estuvieseis', 'estuviesen', 'estando', 'estado', 'estada', 'estados', 'estadas', 'estad', 'he', 'has', 'ha', 'hemos', 'habéis', 'han', 'haya', 'hayas', 'hayamos', 'hayáis', 'hayan', 'habré', 'habrás', 'habrá', 'habremos', 'habréis', 'habrán', 'habría', 'habrías', 'habríamos', 'habríais', 'habrían', 'había', 'habías', 'habíamos', 'habíais', 'habían', 'hube', 'hubiste', 'hubo', 'hubimos', 'hubisteis', 'hubieron', 'hubiera', 'hubieras', 'hubiéramos', 'hubierais', 'hubieran', 'hubiese', 'hubieses', 'hubiésemos', 'hubieseis', 'hubiesen', 'habiendo', 'habido', 'habida', 'habidos', 'habidas', 'soy', 'eres', 'es', 'somos', 'sois', 'son', 'sea', 'seas', 'seamos', 'seáis', 'sean', 'seré', 'serás', 'será', 'seremos', 'seréis', 'serán', 'sería', 'serías', 'seríamos', 'seríais', 'serían', 'era', 'eras', 'éramos', 'erais', 'eran', 'fui', 'fuiste', 'fue', 'fuimos', 'fuisteis', 'fueron', 'fuera', 'fueras', 'fuéramos', 'fuerais', 'fueran', 'fuese', 'fueses', 'fuésemos', 'fueseis', 'fuesen', 'sintiendo', 'sentido', 'sentida', 'sentidos', 'sentidas', 'siente', 'sentid', 'tengo', 'tienes', 'tiene', 'tenemos', 'tenéis', 'tienen', 'tenga', 'tengas', 'tengamos', 'tengáis', 'tengan', 'tendré', 'tendrás', 'tendrá', 'tendremos', 'tendréis', 'tendrán', 'tendría', 'tendrías', 'tendríamos', 'tendríais', 'tendrían', 'tenía', 'tenías', 'teníamos', 'teníais', 'tenían', 'tuve', 'tuviste', 'tuvo', 'tuvimos', 'tuvisteis', 'tuvieron', 'tuviera', 'tuvieras', 'tuviéramos', 'tuvierais', 'tuvieran', 'tuviese', 'tuvieses', 'tuviésemos', 'tuvieseis', 'tuviesen', 'teniendo', 'tenido', 'tenida', 'tenidos', 'tenidas', 'tened']\n"
          ]
        }
      ]
    },
    {
      "cell_type": "code",
      "source": [
        "x = df['Título']\n",
        "x=x.apply(lemmatizar_y_limpiar)"
      ],
      "metadata": {
        "id": "0NhxRGt4YuMv"
      },
      "execution_count": 68,
      "outputs": []
    },
    {
      "cell_type": "markdown",
      "source": [
        "## Naive Bayes\n",
        "\n",
        "Loading the trained Complement Naive Bayes model and the CountVectorizer"
      ],
      "metadata": {
        "id": "ukFMvGIUHy_R"
      }
    },
    {
      "cell_type": "code",
      "source": [
        "compNB = joblib.load('ModeloComplement.pkl')\n",
        "vec3 = joblib.load('Vectorizador3.pkl')"
      ],
      "metadata": {
        "id": "q_AAhmzOH__b",
        "outputId": "017ad9da-3928-4128-9d61-0e61e1aa6df8",
        "colab": {
          "base_uri": "https://localhost:8080/"
        }
      },
      "execution_count": 69,
      "outputs": [
        {
          "output_type": "stream",
          "name": "stderr",
          "text": [
            "/usr/local/lib/python3.10/dist-packages/sklearn/base.py:318: UserWarning: Trying to unpickle estimator ComplementNB from version 1.3.2 when using version 1.2.2. This might lead to breaking code or invalid results. Use at your own risk. For more info please refer to:\n",
            "https://scikit-learn.org/stable/model_persistence.html#security-maintainability-limitations\n",
            "  warnings.warn(\n",
            "/usr/local/lib/python3.10/dist-packages/sklearn/base.py:318: UserWarning: Trying to unpickle estimator CountVectorizer from version 1.3.2 when using version 1.2.2. This might lead to breaking code or invalid results. Use at your own risk. For more info please refer to:\n",
            "https://scikit-learn.org/stable/model_persistence.html#security-maintainability-limitations\n",
            "  warnings.warn(\n"
          ]
        }
      ]
    },
    {
      "cell_type": "code",
      "source": [
        "x_transf = vec3.transform(x)\n",
        "compNB.score(x_transf, y)"
      ],
      "metadata": {
        "id": "ENLZc5JDUAT-",
        "colab": {
          "base_uri": "https://localhost:8080/"
        },
        "outputId": "aa029256-f974-492d-db30-b61821bc6630"
      },
      "execution_count": 70,
      "outputs": [
        {
          "output_type": "execute_result",
          "data": {
            "text/plain": [
              "0.8722539229671897"
            ]
          },
          "metadata": {},
          "execution_count": 70
        }
      ]
    },
    {
      "cell_type": "code",
      "source": [
        "CNB = []\n",
        "for indice, fila in df.iterrows():\n",
        "    cnb = compNB.predict(x_transf)[indice]\n",
        "    CNB.append(cnb)\n",
        "\n",
        "df['CNB'] = CNB"
      ],
      "metadata": {
        "id": "Lr9rzdvM0s7A"
      },
      "execution_count": 71,
      "outputs": []
    },
    {
      "cell_type": "code",
      "source": [
        "print(df['CNB'])"
      ],
      "metadata": {
        "colab": {
          "base_uri": "https://localhost:8080/"
        },
        "id": "cHplSWZM7-Gt",
        "outputId": "f0c1c771-4a5c-4c7d-8cc4-e7b24ce732e6"
      },
      "execution_count": 72,
      "outputs": [
        {
          "output_type": "stream",
          "name": "stdout",
          "text": [
            "0        4\n",
            "1        0\n",
            "2        4\n",
            "3        4\n",
            "4        4\n",
            "        ..\n",
            "14015    0\n",
            "14016    4\n",
            "14017    1\n",
            "14018    3\n",
            "14019    4\n",
            "Name: CNB, Length: 14020, dtype: int32\n"
          ]
        }
      ]
    },
    {
      "cell_type": "code",
      "source": [
        "# Recode prediction results by adding 1\n",
        "df['CNB'] = df['CNB'] + 1"
      ],
      "metadata": {
        "id": "xdCnMVSCOKD3"
      },
      "execution_count": 73,
      "outputs": []
    },
    {
      "cell_type": "code",
      "source": [
        "print(df['CNB'])"
      ],
      "metadata": {
        "colab": {
          "base_uri": "https://localhost:8080/"
        },
        "id": "lyJ1xPx88OG7",
        "outputId": "7942acb9-bece-4629-a6bd-aaecb7bfefa7"
      },
      "execution_count": 74,
      "outputs": [
        {
          "output_type": "stream",
          "name": "stdout",
          "text": [
            "0        5\n",
            "1        1\n",
            "2        5\n",
            "3        5\n",
            "4        5\n",
            "        ..\n",
            "14015    1\n",
            "14016    5\n",
            "14017    2\n",
            "14018    4\n",
            "14019    5\n",
            "Name: CNB, Length: 14020, dtype: int32\n"
          ]
        }
      ]
    },
    {
      "cell_type": "code",
      "source": [
        "# Classification report\n",
        "stars = ['1', '2', '3', '4', '5']\n",
        "print(classification_report(y, CNB, target_names=stars))"
      ],
      "metadata": {
        "id": "rEboArVHMUww",
        "outputId": "b96cbfdd-5827-4ebc-8b5f-8614b642f882",
        "colab": {
          "base_uri": "https://localhost:8080/"
        }
      },
      "execution_count": 75,
      "outputs": [
        {
          "output_type": "stream",
          "name": "stdout",
          "text": [
            "              precision    recall  f1-score   support\n",
            "\n",
            "           1       0.56      0.85      0.68       640\n",
            "           2       0.40      0.64      0.49       247\n",
            "           3       0.60      0.61      0.60       373\n",
            "           4       0.68      0.36      0.47      1076\n",
            "           5       0.93      0.93      0.93     11684\n",
            "\n",
            "    accuracy                           0.87     14020\n",
            "   macro avg       0.63      0.68      0.63     14020\n",
            "weighted avg       0.88      0.87      0.87     14020\n",
            "\n"
          ]
        }
      ]
    },
    {
      "cell_type": "code",
      "source": [
        "# Loading the TF-IDF Vectorizer + text vectorization\n",
        "vecT = joblib.load('VectorizadorTFIdf.pkl')\n",
        "x_transfLr=vecT.transform(x)\n",
        "x_transfLr = x_transfLr.toarray()"
      ],
      "metadata": {
        "colab": {
          "base_uri": "https://localhost:8080/"
        },
        "id": "UFUgRW0R-NYv",
        "outputId": "da95d9cb-a48e-4b6b-fdc5-1208be114e74"
      },
      "execution_count": 85,
      "outputs": [
        {
          "output_type": "stream",
          "name": "stderr",
          "text": [
            "/usr/local/lib/python3.10/dist-packages/sklearn/base.py:318: UserWarning: Trying to unpickle estimator TfidfTransformer from version 1.3.2 when using version 1.2.2. This might lead to breaking code or invalid results. Use at your own risk. For more info please refer to:\n",
            "https://scikit-learn.org/stable/model_persistence.html#security-maintainability-limitations\n",
            "  warnings.warn(\n",
            "/usr/local/lib/python3.10/dist-packages/sklearn/base.py:318: UserWarning: Trying to unpickle estimator TfidfVectorizer from version 1.3.2 when using version 1.2.2. This might lead to breaking code or invalid results. Use at your own risk. For more info please refer to:\n",
            "https://scikit-learn.org/stable/model_persistence.html#security-maintainability-limitations\n",
            "  warnings.warn(\n"
          ]
        }
      ]
    },
    {
      "cell_type": "code",
      "source": [
        "#Loading the trained Neural Network model\n",
        "model2 = tf.keras.models.load_model('./model.keras')"
      ],
      "metadata": {
        "id": "MyJTa9oabqn9"
      },
      "execution_count": 86,
      "outputs": []
    },
    {
      "cell_type": "code",
      "source": [
        "# Predictions for the entire data set\n",
        "predictions = model2.predict(x_transfLr)\n",
        "\n",
        "# Find the class with the highest probability for each row\n",
        "NN = np.argmax(predictions, axis=1)\n",
        "\n",
        "# Add the results as a new column called 'RED' to the DataFrame\n",
        "df['NN'] = NN\n"
      ],
      "metadata": {
        "colab": {
          "base_uri": "https://localhost:8080/"
        },
        "id": "-hAbfAlNGp4Q",
        "outputId": "1253268e-655c-4228-b80f-a3881debbf35"
      },
      "execution_count": 81,
      "outputs": [
        {
          "output_type": "stream",
          "name": "stdout",
          "text": [
            "439/439 [==============================] - 4s 8ms/step\n"
          ]
        }
      ]
    },
    {
      "cell_type": "code",
      "source": [
        "# Classification report\n",
        "print(classification_report(y, NN, target_names=stars))"
      ],
      "metadata": {
        "id": "plETmvYtYUTQ",
        "outputId": "524ce3d2-3805-41f4-f3ee-32e3055f1d03",
        "colab": {
          "base_uri": "https://localhost:8080/"
        }
      },
      "execution_count": 82,
      "outputs": [
        {
          "output_type": "stream",
          "name": "stdout",
          "text": [
            "              precision    recall  f1-score   support\n",
            "\n",
            "           1       0.07      0.01      0.01       640\n",
            "           2       0.02      0.27      0.04       247\n",
            "           3       0.03      0.13      0.05       373\n",
            "           4       0.11      0.00      0.00      1076\n",
            "           5       0.84      0.63      0.72     11684\n",
            "\n",
            "    accuracy                           0.54     14020\n",
            "   macro avg       0.21      0.21      0.16     14020\n",
            "weighted avg       0.71      0.54      0.61     14020\n",
            "\n"
          ]
        }
      ]
    },
    {
      "cell_type": "code",
      "source": [
        "# Recode prediction results by adding 1\n",
        "df['NN'] = df['NN'] + 1\n"
      ],
      "metadata": {
        "id": "07OoCpOhKiNn"
      },
      "execution_count": 83,
      "outputs": []
    },
    {
      "cell_type": "code",
      "source": [
        "print(df['NN'])"
      ],
      "metadata": {
        "colab": {
          "base_uri": "https://localhost:8080/"
        },
        "id": "5Tr-eqW-GvKJ",
        "outputId": "8e8d6f9f-fe45-42d4-8bc2-11b44808ed94"
      },
      "execution_count": 84,
      "outputs": [
        {
          "output_type": "stream",
          "name": "stdout",
          "text": [
            "0        5\n",
            "1        5\n",
            "2        5\n",
            "3        5\n",
            "4        3\n",
            "        ..\n",
            "14015    2\n",
            "14016    2\n",
            "14017    3\n",
            "14018    2\n",
            "14019    5\n",
            "Name: NN, Length: 14020, dtype: int64\n"
          ]
        }
      ]
    },
    {
      "cell_type": "markdown",
      "source": [
        "## Logistic Regression\n",
        "\n",
        "Loading the trained Logistic Regression model and the TF-IDF Vectorizer."
      ],
      "metadata": {
        "id": "SZ25Cl7VIibw"
      }
    },
    {
      "cell_type": "code",
      "source": [
        "#Loading trained logistic regression model\n",
        "log = joblib.load('modelo_logreg.pkl')"
      ],
      "metadata": {
        "colab": {
          "base_uri": "https://localhost:8080/"
        },
        "id": "uQICSTGn6HTp",
        "outputId": "b5b5ace0-2122-4dd4-da1d-d550c933fd95"
      },
      "execution_count": null,
      "outputs": [
        {
          "output_type": "stream",
          "name": "stderr",
          "text": [
            "/usr/local/lib/python3.10/dist-packages/sklearn/base.py:318: UserWarning: Trying to unpickle estimator LogisticRegression from version 1.3.2 when using version 1.2.2. This might lead to breaking code or invalid results. Use at your own risk. For more info please refer to:\n",
            "https://scikit-learn.org/stable/model_persistence.html#security-maintainability-limitations\n",
            "  warnings.warn(\n"
          ]
        }
      ]
    },
    {
      "cell_type": "code",
      "source": [
        "vecT=joblib.load('VectorizadorTFIdf.pkl')"
      ],
      "metadata": {
        "id": "hHQB_bztC2lK"
      },
      "execution_count": 87,
      "outputs": []
    },
    {
      "cell_type": "code",
      "source": [
        "x_transfLr=vecT.transform(x)"
      ],
      "metadata": {
        "id": "iqgFSRAXEolJ"
      },
      "execution_count": 88,
      "outputs": []
    },
    {
      "cell_type": "code",
      "source": [
        "x_transfLr=x_transfLr.toarray()"
      ],
      "metadata": {
        "id": "AWHVUn3BFQTz"
      },
      "execution_count": 89,
      "outputs": []
    },
    {
      "cell_type": "code",
      "source": [
        "log.score(x_transfLr, y)"
      ],
      "metadata": {
        "colab": {
          "base_uri": "https://localhost:8080/"
        },
        "id": "SQEprIBgFef1",
        "outputId": "6dffa026-784b-43f6-de6c-10e4487cd0ed"
      },
      "execution_count": 90,
      "outputs": [
        {
          "output_type": "execute_result",
          "data": {
            "text/plain": [
              "0.8502139800285307"
            ]
          },
          "metadata": {},
          "execution_count": 90
        }
      ]
    },
    {
      "cell_type": "code",
      "source": [
        "LR = log.predict(x_transfLr)\n",
        "df['LOGREG'] = LR\n"
      ],
      "metadata": {
        "id": "_GfAKHXV9ZPA"
      },
      "execution_count": 91,
      "outputs": []
    },
    {
      "cell_type": "code",
      "source": [
        "# Clasification report\n",
        "print(classification_report(y, LR, target_names=stars))"
      ],
      "metadata": {
        "id": "0t5SbSn6PkfT",
        "outputId": "05dab909-8cd4-489a-ef51-ec26f72c3e95",
        "colab": {
          "base_uri": "https://localhost:8080/"
        }
      },
      "execution_count": 92,
      "outputs": [
        {
          "output_type": "stream",
          "name": "stdout",
          "text": [
            "              precision    recall  f1-score   support\n",
            "\n",
            "           1       0.77      0.31      0.44       640\n",
            "           2       1.00      0.00      0.01       247\n",
            "           3       0.60      0.05      0.09       373\n",
            "           4       0.72      0.03      0.06      1076\n",
            "           5       0.85      1.00      0.92     11684\n",
            "\n",
            "    accuracy                           0.85     14020\n",
            "   macro avg       0.79      0.28      0.30     14020\n",
            "weighted avg       0.83      0.85      0.79     14020\n",
            "\n"
          ]
        }
      ]
    },
    {
      "cell_type": "code",
      "source": [
        "# Recodifica los resultados de las predicciones sumando 1\n",
        "df['LOGREG'] = df['LOGREG'] + 1\n"
      ],
      "metadata": {
        "id": "hMzBMZ_zKVra"
      },
      "execution_count": 93,
      "outputs": []
    },
    {
      "cell_type": "code",
      "execution_count": 94,
      "metadata": {
        "id": "xJL6PImAD6ph"
      },
      "outputs": [],
      "source": [
        "# Since HF has taken a long time to run, I decided to save the modified file\n",
        "df.to_excel('Rev.xlsx', index=False)\n"
      ]
    },
    {
      "cell_type": "code",
      "execution_count": 95,
      "metadata": {
        "colab": {
          "base_uri": "https://localhost:8080/"
        },
        "id": "HNh7erRiC8la",
        "outputId": "9dcc35ac-96f5-4c33-ea06-5d3957a390be"
      },
      "outputs": [
        {
          "output_type": "stream",
          "name": "stdout",
          "text": [
            "5    11684\n",
            "4     1076\n",
            "1      640\n",
            "3      373\n",
            "2      247\n",
            "Name: Estrellas, dtype: int64\n",
            "5    11105\n",
            "4     1237\n",
            "1     1017\n",
            "3      422\n",
            "2      239\n",
            "Name: label_HF, dtype: int64\n",
            "5    11702\n",
            "1      972\n",
            "4      564\n",
            "2      401\n",
            "3      381\n",
            "Name: CNB, dtype: int64\n",
            "5    8820\n",
            "2    3572\n",
            "3    1550\n",
            "1      60\n",
            "4      18\n",
            "Name: NN, dtype: int64\n",
            "5    13687\n",
            "1      256\n",
            "4       46\n",
            "3       30\n",
            "2        1\n",
            "Name: LOGREG, dtype: int64\n"
          ]
        }
      ],
      "source": [
        "a = df['Estrellas'].value_counts()\n",
        "b = df['label_HF'].value_counts()\n",
        "c = df['CNB'].value_counts()\n",
        "d = df['NN'].value_counts()\n",
        "e = df['LOGREG'].value_counts()\n",
        "print(a)\n",
        "print(b)\n",
        "print(c)\n",
        "print(d)\n",
        "print(e)"
      ]
    },
    {
      "cell_type": "code",
      "source": [
        "# Barplot\n",
        "fig, ax = plt.subplots(figsize=(10, 6))\n",
        "bar_width = 0.15\n",
        "\n",
        "data = [a, b, c, d, e]\n",
        "colors = ['blue', 'magenta', 'orange', 'grey', 'red']\n",
        "labels = ['Real', 'BERT', 'CNB', 'NN', 'LOGREG']\n",
        "\n",
        "# Bars position\n",
        "posiciones = [np.arange(len(values)) + bar_width * i for i, values in enumerate(data)]\n",
        "\n",
        "# Bars\n",
        "for i, values in enumerate(data):\n",
        "    ax.bar(posiciones[i], values.values, width=bar_width, color=colors[i], alpha=0.7, label=labels[i])\n",
        "\n",
        "ax.set_xticks(posiciones[0] + bar_width * 2)\n",
        "ax.set_xticklabels(['5', '4', '3', '2', '1'])\n",
        "ax.set_xlabel('Value')\n",
        "ax.set_ylabel('Count')\n",
        "ax.set_title('Actual rating vs predicted rating')\n",
        "ax.legend()\n",
        "ax.legend()\n",
        "\n",
        "plt.show()\n"
      ],
      "metadata": {
        "id": "2qIYDJmYOQKc",
        "colab": {
          "base_uri": "https://localhost:8080/",
          "height": 557
        },
        "outputId": "66480f97-11bf-4c4e-b94d-ed2d25bc8e22"
      },
      "execution_count": 105,
      "outputs": [
        {
          "output_type": "display_data",
          "data": {
            "text/plain": [
              "<Figure size 1000x600 with 1 Axes>"
            ],
            "image/png": "[encoded data removed]"
          },
          "metadata": {}
        }
      ]
    },
    {
      "cell_type": "code",
      "execution_count": 99,
      "metadata": {
        "colab": {
          "base_uri": "https://localhost:8080/"
        },
        "id": "Z-xhjP2Z1QE6",
        "outputId": "060bdd9f-f3e2-4486-cf8e-646a77dcaef3"
      },
      "outputs": [
        {
          "output_type": "stream",
          "name": "stdout",
          "text": [
            "Real              1    2    3     4      5    All\n",
            "Predicted BERT                                   \n",
            "1               449  119   98    70    281   1017\n",
            "2                61   40   47    26     65    239\n",
            "3                39   32   81    95    175    422\n",
            "4                19   15   59   236    908   1237\n",
            "5                72   41   88   649  10255  11105\n",
            "All             640  247  373  1076  11684  14020\n",
            "Real             1    2    3     4      5    All\n",
            "Predicted CNB                                   \n",
            "1              547   49   34    40    302    972\n",
            "2               15  159    9     8    210    401\n",
            "3               15   16  227    14    109    381\n",
            "4                8    3   16   385    152    564\n",
            "5               55   20   87   629  10911  11702\n",
            "All            640  247  373  1076  11684  14020\n",
            "Real            1    2    3     4      5    All\n",
            "Predicted NN                                   \n",
            "1               4    1    1     5     49     60\n",
            "2             180   67  103   263   2959   3572\n",
            "3              88   35   48   136   1243   1550\n",
            "4               0    0    0     2     16     18\n",
            "5             368  144  221   670   7417   8820\n",
            "All           640  247  373  1076  11684  14020\n",
            "Real                1    2    3     4      5    All\n",
            "Predicted LOGREG                                   \n",
            "1                 198   20   10    15     13    256\n",
            "2                   0    1    0     0      0      1\n",
            "3                   1    9   18     2      0     30\n",
            "4                   1    1   10    33      1     46\n",
            "5                 440  216  335  1026  11670  13687\n",
            "All               640  247  373  1076  11684  14020\n"
          ]
        }
      ],
      "source": [
        "# Contingency table\n",
        "tabla1 = pd.crosstab(df['label_HF'], df['Estrellas'], rownames=['Predicted BERT'], colnames=['Real'], margins=True)\n",
        "print(tabla1)\n",
        "tabla2 = pd.crosstab(df['CNB'], df['Estrellas'], rownames=['Predicted CNB'], colnames=['Real'], margins=True)\n",
        "print(tabla2)\n",
        "tabla3 = pd.crosstab(df['NN'], df['Estrellas'], rownames=['Predicted NN'], colnames=['Real'], margins=True)\n",
        "print(tabla3)\n",
        "tabla4 = pd.crosstab(df['LOGREG'], df['Estrellas'], rownames=['Predicted LOGREG'], colnames=['Real'], margins=True)\n",
        "print(tabla4)\n"
      ]
    },
    {
      "cell_type": "code",
      "source": [
        "# ROC curve and AUC\n",
        "y_true = df['Estrellas']\n",
        "y_pred1 = df['label_HF']\n",
        "y_pred2 = df['CNB']\n",
        "y_pred3 = df['NN']\n",
        "y_pred4 = df['LOGREG']\n",
        "\n",
        "# Binarizar las etiquetas verdaderas y las predicciones\n",
        "classes = [1, 2, 3, 4, 5]\n",
        "y_true_bin = label_binarize(y_true, classes=classes)\n",
        "y_pred1_bin = label_binarize(y_pred1, classes=classes)\n",
        "y_pred2_bin = label_binarize(y_pred2, classes=classes)\n",
        "y_pred3_bin = label_binarize(y_pred3, classes=classes)\n",
        "y_pred4_bin = label_binarize(y_pred4, classes=classes)\n",
        "\n",
        "# Calcular la curva ROC y el área bajo la curva (AUC) para cada clase\n",
        "fpr1, tpr1, _ = roc_curve(y_true_bin.ravel(), y_pred1_bin.ravel())\n",
        "roc_auc1 = auc(fpr1, tpr1)\n",
        "\n",
        "fpr2, tpr2, _ = roc_curve(y_true_bin.ravel(), y_pred2_bin.ravel())\n",
        "roc_auc2 = auc(fpr2, tpr2)\n",
        "\n",
        "fpr3, tpr3, _ = roc_curve(y_true_bin.ravel(), y_pred3_bin.ravel())\n",
        "roc_auc3 = auc(fpr3, tpr3)\n",
        "\n",
        "fpr4, tpr4, _ = roc_curve(y_true_bin.ravel(), y_pred4_bin.ravel())\n",
        "roc_auc4 = auc(fpr4, tpr4)\n",
        "\n",
        "# Gráfica\n",
        "plt.figure(figsize=(8, 6))\n",
        "plt.plot(fpr1, tpr1, color='darkorange', lw=2, label='ROC Curve HF (AUC = %0.2f)' % roc_auc1)\n",
        "plt.plot(fpr2, tpr2, color='green', lw=2, label='ROC Curve CBN (AUC = %0.2f)' % roc_auc2)\n",
        "plt.plot(fpr3, tpr3, color='blue', lw=2, label='ROC Curve NN (AUC = %0.2f)' % roc_auc3)\n",
        "plt.plot(fpr4, tpr4, color='red', lw=2, label='ROC Curve LOGREG (AUC = %0.2f)' % roc_auc4)\n",
        "\n",
        "plt.plot([0, 1], [0, 1], color='navy', lw=2, linestyle='--')\n",
        "plt.xlim([0.0, 1.0])\n",
        "plt.ylim([0.0, 1.05])\n",
        "plt.xlabel('False Positive Rate (FPR)')\n",
        "plt.ylabel('True Positive Rate (TPR)')\n",
        "plt.title('ROC Curve')\n",
        "plt.legend(loc='lower right')\n",
        "plt.show()\n"
      ],
      "metadata": {
        "colab": {
          "base_uri": "https://localhost:8080/",
          "height": 564
        },
        "id": "PDMF42oQyz2J",
        "outputId": "f0f8a657-422b-4c5c-8f6b-9a62ade93d30"
      },
      "execution_count": 101,
      "outputs": [
        {
          "output_type": "display_data",
          "data": {
            "text/plain": [
              "<Figure size 800x600 with 1 Axes>"
            ],
            "image/png": "[encoded data removed]"
          },
          "metadata": {}
        }
      ]
    },
    {
      "cell_type": "markdown",
      "source": [
        "## Conclusions\n",
        "\n",
        "#### This is a very unbalanced dataset, and beyond observing acceptable accuracy values ​​for all models except the NN, it is observed that they fail quite a bit in classifying the minority classes.\n",
        "##### The Complement Naive Bayes and Logistic Regression models present better metrics than Bert, however, it must be taken into account that the first 2 were previously trained with the same dataset, which is why they could be overfitting.\n",
        "#### The objective of this project was to explore the Hugging Face and joblib libraries, so in another project I could test all the models with a new dataset."
      ],
      "metadata": {
        "id": "Y9UM1WXYiIL_"
      }
    }
  ],
  "metadata": {
    "colab": {
      "provenance": [],
      "gpuType": "T4",
      "include_colab_link": true
    },
    "kernelspec": {
      "display_name": "Python 3",
      "name": "python3"
    },
    "language_info": {
      "name": "python"
    },
    "accelerator": "GPU"
  },
  "nbformat": 4,
  "nbformat_minor": 0
}